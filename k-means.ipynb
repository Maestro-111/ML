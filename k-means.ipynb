{
 "cells": [
  {
   "cell_type": "code",
   "execution_count": 325,
   "id": "74dcdca6",
   "metadata": {},
   "outputs": [],
   "source": [
    "import pandas as pd\n",
    "import numpy as np\n",
    "from sklearn.base import BaseEstimator,TransformerMixin\n",
    "from sklearn.preprocessing import StandardScaler\n",
    "from sklearn.pipeline import Pipeline\n",
    "from sklearn.cluster import KMeans\n",
    "import matplotlib.pyplot as plt\n",
    "from sklearn.metrics import silhouette_score"
   ]
  },
  {
   "cell_type": "code",
   "execution_count": 326,
   "id": "dfe58f90",
   "metadata": {},
   "outputs": [],
   "source": [
    "df = pd.read_csv(\"final.csv\")"
   ]
  },
  {
   "cell_type": "code",
   "execution_count": 327,
   "id": "4d3e49e4",
   "metadata": {},
   "outputs": [
    {
     "data": {
      "text/html": [
       "<div>\n",
       "<style scoped>\n",
       "    .dataframe tbody tr th:only-of-type {\n",
       "        vertical-align: middle;\n",
       "    }\n",
       "\n",
       "    .dataframe tbody tr th {\n",
       "        vertical-align: top;\n",
       "    }\n",
       "\n",
       "    .dataframe thead th {\n",
       "        text-align: right;\n",
       "    }\n",
       "</style>\n",
       "<table border=\"1\" class=\"dataframe\">\n",
       "  <thead>\n",
       "    <tr style=\"text-align: right;\">\n",
       "      <th></th>\n",
       "      <th>Channel</th>\n",
       "      <th>Region</th>\n",
       "      <th>Fresh</th>\n",
       "      <th>Milk</th>\n",
       "      <th>Grocery</th>\n",
       "      <th>Frozen</th>\n",
       "      <th>Detergents_Paper</th>\n",
       "      <th>Delicassen</th>\n",
       "    </tr>\n",
       "  </thead>\n",
       "  <tbody>\n",
       "    <tr>\n",
       "      <th>0</th>\n",
       "      <td>2</td>\n",
       "      <td>3</td>\n",
       "      <td>12669.0</td>\n",
       "      <td>9656.0</td>\n",
       "      <td>7561.0</td>\n",
       "      <td>214.0</td>\n",
       "      <td>2674.0</td>\n",
       "      <td>1338.0</td>\n",
       "    </tr>\n",
       "    <tr>\n",
       "      <th>1</th>\n",
       "      <td>2</td>\n",
       "      <td>3</td>\n",
       "      <td>7057.0</td>\n",
       "      <td>9810.0</td>\n",
       "      <td>9568.0</td>\n",
       "      <td>1762.0</td>\n",
       "      <td>3293.0</td>\n",
       "      <td>1776.0</td>\n",
       "    </tr>\n",
       "    <tr>\n",
       "      <th>2</th>\n",
       "      <td>2</td>\n",
       "      <td>3</td>\n",
       "      <td>6353.0</td>\n",
       "      <td>8808.0</td>\n",
       "      <td>7684.0</td>\n",
       "      <td>2405.0</td>\n",
       "      <td>3516.0</td>\n",
       "      <td>7844.0</td>\n",
       "    </tr>\n",
       "    <tr>\n",
       "      <th>3</th>\n",
       "      <td>1</td>\n",
       "      <td>3</td>\n",
       "      <td>13265.0</td>\n",
       "      <td>1196.0</td>\n",
       "      <td>4221.0</td>\n",
       "      <td>6404.0</td>\n",
       "      <td>507.0</td>\n",
       "      <td>1788.0</td>\n",
       "    </tr>\n",
       "    <tr>\n",
       "      <th>4</th>\n",
       "      <td>2</td>\n",
       "      <td>3</td>\n",
       "      <td>22615.0</td>\n",
       "      <td>5410.0</td>\n",
       "      <td>7198.0</td>\n",
       "      <td>NaN</td>\n",
       "      <td>1777.0</td>\n",
       "      <td>NaN</td>\n",
       "    </tr>\n",
       "    <tr>\n",
       "      <th>...</th>\n",
       "      <td>...</td>\n",
       "      <td>...</td>\n",
       "      <td>...</td>\n",
       "      <td>...</td>\n",
       "      <td>...</td>\n",
       "      <td>...</td>\n",
       "      <td>...</td>\n",
       "      <td>...</td>\n",
       "    </tr>\n",
       "    <tr>\n",
       "      <th>435</th>\n",
       "      <td>1</td>\n",
       "      <td>3</td>\n",
       "      <td>29703.0</td>\n",
       "      <td>12051.0</td>\n",
       "      <td>16027.0</td>\n",
       "      <td>13135.0</td>\n",
       "      <td>182.0</td>\n",
       "      <td>2204.0</td>\n",
       "    </tr>\n",
       "    <tr>\n",
       "      <th>436</th>\n",
       "      <td>1</td>\n",
       "      <td>3</td>\n",
       "      <td>39228.0</td>\n",
       "      <td>1431.0</td>\n",
       "      <td>764.0</td>\n",
       "      <td>4510.0</td>\n",
       "      <td>93.0</td>\n",
       "      <td>2346.0</td>\n",
       "    </tr>\n",
       "    <tr>\n",
       "      <th>437</th>\n",
       "      <td>2</td>\n",
       "      <td>3</td>\n",
       "      <td>14531.0</td>\n",
       "      <td>15488.0</td>\n",
       "      <td>30243.0</td>\n",
       "      <td>437.0</td>\n",
       "      <td>14841.0</td>\n",
       "      <td>1867.0</td>\n",
       "    </tr>\n",
       "    <tr>\n",
       "      <th>438</th>\n",
       "      <td>1</td>\n",
       "      <td>3</td>\n",
       "      <td>10290.0</td>\n",
       "      <td>1981.0</td>\n",
       "      <td>2232.0</td>\n",
       "      <td>1038.0</td>\n",
       "      <td>168.0</td>\n",
       "      <td>2125.0</td>\n",
       "    </tr>\n",
       "    <tr>\n",
       "      <th>439</th>\n",
       "      <td>1</td>\n",
       "      <td>3</td>\n",
       "      <td>2787.0</td>\n",
       "      <td>1698.0</td>\n",
       "      <td>2510.0</td>\n",
       "      <td>65.0</td>\n",
       "      <td>477.0</td>\n",
       "      <td>52.0</td>\n",
       "    </tr>\n",
       "  </tbody>\n",
       "</table>\n",
       "<p>440 rows × 8 columns</p>\n",
       "</div>"
      ],
      "text/plain": [
       "     Channel  Region    Fresh     Milk  Grocery   Frozen  Detergents_Paper  \\\n",
       "0          2       3  12669.0   9656.0   7561.0    214.0            2674.0   \n",
       "1          2       3   7057.0   9810.0   9568.0   1762.0            3293.0   \n",
       "2          2       3   6353.0   8808.0   7684.0   2405.0            3516.0   \n",
       "3          1       3  13265.0   1196.0   4221.0   6404.0             507.0   \n",
       "4          2       3  22615.0   5410.0   7198.0      NaN            1777.0   \n",
       "..       ...     ...      ...      ...      ...      ...               ...   \n",
       "435        1       3  29703.0  12051.0  16027.0  13135.0             182.0   \n",
       "436        1       3  39228.0   1431.0    764.0   4510.0              93.0   \n",
       "437        2       3  14531.0  15488.0  30243.0    437.0           14841.0   \n",
       "438        1       3  10290.0   1981.0   2232.0   1038.0             168.0   \n",
       "439        1       3   2787.0   1698.0   2510.0     65.0             477.0   \n",
       "\n",
       "     Delicassen  \n",
       "0        1338.0  \n",
       "1        1776.0  \n",
       "2        7844.0  \n",
       "3        1788.0  \n",
       "4           NaN  \n",
       "..          ...  \n",
       "435      2204.0  \n",
       "436      2346.0  \n",
       "437      1867.0  \n",
       "438      2125.0  \n",
       "439        52.0  \n",
       "\n",
       "[440 rows x 8 columns]"
      ]
     },
     "execution_count": 327,
     "metadata": {},
     "output_type": "execute_result"
    }
   ],
   "source": [
    "df"
   ]
  },
  {
   "cell_type": "code",
   "execution_count": 328,
   "id": "5ab48704",
   "metadata": {},
   "outputs": [
    {
     "data": {
      "text/plain": [
       "9"
      ]
     },
     "execution_count": 328,
     "metadata": {},
     "output_type": "execute_result"
    }
   ],
   "source": [
    "np.count_nonzero(df.isnull()) # 9 nulls"
   ]
  },
  {
   "cell_type": "code",
   "execution_count": 329,
   "id": "60cf83ac",
   "metadata": {},
   "outputs": [
    {
     "data": {
      "text/plain": [
       "{1, 2}"
      ]
     },
     "execution_count": 329,
     "metadata": {},
     "output_type": "execute_result"
    }
   ],
   "source": [
    "set(df[\"Channel\"]) # we have two categorical values, 1 and 2. Let's relace the null values with their correspondong means"
   ]
  },
  {
   "cell_type": "code",
   "execution_count": 330,
   "id": "577c70e2",
   "metadata": {},
   "outputs": [],
   "source": [
    "def fill_na(s): # s will be a chunk of the group by object\n",
    "    avg = s.mean()\n",
    "    return(s.fillna(avg))\n",
    "\n",
    "\n",
    "for col in df.columns:\n",
    "    df[col] = df.groupby(\"Channel\")[col].transform(fill_na)"
   ]
  },
  {
   "cell_type": "code",
   "execution_count": 331,
   "id": "7c5aae76",
   "metadata": {},
   "outputs": [
    {
     "data": {
      "text/plain": [
       "0"
      ]
     },
     "execution_count": 331,
     "metadata": {},
     "output_type": "execute_result"
    }
   ],
   "source": [
    "np.count_nonzero(df.isnull()) # clean"
   ]
  },
  {
   "cell_type": "code",
   "execution_count": 332,
   "id": "a2f3bd33",
   "metadata": {},
   "outputs": [
    {
     "data": {
      "text/html": [
       "<div>\n",
       "<style scoped>\n",
       "    .dataframe tbody tr th:only-of-type {\n",
       "        vertical-align: middle;\n",
       "    }\n",
       "\n",
       "    .dataframe tbody tr th {\n",
       "        vertical-align: top;\n",
       "    }\n",
       "\n",
       "    .dataframe thead th {\n",
       "        text-align: right;\n",
       "    }\n",
       "</style>\n",
       "<table border=\"1\" class=\"dataframe\">\n",
       "  <thead>\n",
       "    <tr style=\"text-align: right;\">\n",
       "      <th></th>\n",
       "      <th>Channel</th>\n",
       "      <th>Region</th>\n",
       "      <th>Fresh</th>\n",
       "      <th>Milk</th>\n",
       "      <th>Grocery</th>\n",
       "      <th>Frozen</th>\n",
       "      <th>Detergents_Paper</th>\n",
       "      <th>Delicassen</th>\n",
       "    </tr>\n",
       "  </thead>\n",
       "  <tbody>\n",
       "    <tr>\n",
       "      <th>0</th>\n",
       "      <td>2</td>\n",
       "      <td>3</td>\n",
       "      <td>12669.0</td>\n",
       "      <td>9656.0</td>\n",
       "      <td>7561.0</td>\n",
       "      <td>214.000000</td>\n",
       "      <td>2674.0</td>\n",
       "      <td>1338.000000</td>\n",
       "    </tr>\n",
       "    <tr>\n",
       "      <th>1</th>\n",
       "      <td>2</td>\n",
       "      <td>3</td>\n",
       "      <td>7057.0</td>\n",
       "      <td>9810.0</td>\n",
       "      <td>9568.0</td>\n",
       "      <td>1762.000000</td>\n",
       "      <td>3293.0</td>\n",
       "      <td>1776.000000</td>\n",
       "    </tr>\n",
       "    <tr>\n",
       "      <th>2</th>\n",
       "      <td>2</td>\n",
       "      <td>3</td>\n",
       "      <td>6353.0</td>\n",
       "      <td>8808.0</td>\n",
       "      <td>7684.0</td>\n",
       "      <td>2405.000000</td>\n",
       "      <td>3516.0</td>\n",
       "      <td>7844.000000</td>\n",
       "    </tr>\n",
       "    <tr>\n",
       "      <th>3</th>\n",
       "      <td>1</td>\n",
       "      <td>3</td>\n",
       "      <td>13265.0</td>\n",
       "      <td>1196.0</td>\n",
       "      <td>4221.0</td>\n",
       "      <td>6404.000000</td>\n",
       "      <td>507.0</td>\n",
       "      <td>1788.000000</td>\n",
       "    </tr>\n",
       "    <tr>\n",
       "      <th>4</th>\n",
       "      <td>2</td>\n",
       "      <td>3</td>\n",
       "      <td>22615.0</td>\n",
       "      <td>5410.0</td>\n",
       "      <td>7198.0</td>\n",
       "      <td>1639.978571</td>\n",
       "      <td>1777.0</td>\n",
       "      <td>1729.099291</td>\n",
       "    </tr>\n",
       "    <tr>\n",
       "      <th>...</th>\n",
       "      <td>...</td>\n",
       "      <td>...</td>\n",
       "      <td>...</td>\n",
       "      <td>...</td>\n",
       "      <td>...</td>\n",
       "      <td>...</td>\n",
       "      <td>...</td>\n",
       "      <td>...</td>\n",
       "    </tr>\n",
       "    <tr>\n",
       "      <th>435</th>\n",
       "      <td>1</td>\n",
       "      <td>3</td>\n",
       "      <td>29703.0</td>\n",
       "      <td>12051.0</td>\n",
       "      <td>16027.0</td>\n",
       "      <td>13135.000000</td>\n",
       "      <td>182.0</td>\n",
       "      <td>2204.000000</td>\n",
       "    </tr>\n",
       "    <tr>\n",
       "      <th>436</th>\n",
       "      <td>1</td>\n",
       "      <td>3</td>\n",
       "      <td>39228.0</td>\n",
       "      <td>1431.0</td>\n",
       "      <td>764.0</td>\n",
       "      <td>4510.000000</td>\n",
       "      <td>93.0</td>\n",
       "      <td>2346.000000</td>\n",
       "    </tr>\n",
       "    <tr>\n",
       "      <th>437</th>\n",
       "      <td>2</td>\n",
       "      <td>3</td>\n",
       "      <td>14531.0</td>\n",
       "      <td>15488.0</td>\n",
       "      <td>30243.0</td>\n",
       "      <td>437.000000</td>\n",
       "      <td>14841.0</td>\n",
       "      <td>1867.000000</td>\n",
       "    </tr>\n",
       "    <tr>\n",
       "      <th>438</th>\n",
       "      <td>1</td>\n",
       "      <td>3</td>\n",
       "      <td>10290.0</td>\n",
       "      <td>1981.0</td>\n",
       "      <td>2232.0</td>\n",
       "      <td>1038.000000</td>\n",
       "      <td>168.0</td>\n",
       "      <td>2125.000000</td>\n",
       "    </tr>\n",
       "    <tr>\n",
       "      <th>439</th>\n",
       "      <td>1</td>\n",
       "      <td>3</td>\n",
       "      <td>2787.0</td>\n",
       "      <td>1698.0</td>\n",
       "      <td>2510.0</td>\n",
       "      <td>65.000000</td>\n",
       "      <td>477.0</td>\n",
       "      <td>52.000000</td>\n",
       "    </tr>\n",
       "  </tbody>\n",
       "</table>\n",
       "<p>440 rows × 8 columns</p>\n",
       "</div>"
      ],
      "text/plain": [
       "     Channel  Region    Fresh     Milk  Grocery        Frozen  \\\n",
       "0          2       3  12669.0   9656.0   7561.0    214.000000   \n",
       "1          2       3   7057.0   9810.0   9568.0   1762.000000   \n",
       "2          2       3   6353.0   8808.0   7684.0   2405.000000   \n",
       "3          1       3  13265.0   1196.0   4221.0   6404.000000   \n",
       "4          2       3  22615.0   5410.0   7198.0   1639.978571   \n",
       "..       ...     ...      ...      ...      ...           ...   \n",
       "435        1       3  29703.0  12051.0  16027.0  13135.000000   \n",
       "436        1       3  39228.0   1431.0    764.0   4510.000000   \n",
       "437        2       3  14531.0  15488.0  30243.0    437.000000   \n",
       "438        1       3  10290.0   1981.0   2232.0   1038.000000   \n",
       "439        1       3   2787.0   1698.0   2510.0     65.000000   \n",
       "\n",
       "     Detergents_Paper   Delicassen  \n",
       "0              2674.0  1338.000000  \n",
       "1              3293.0  1776.000000  \n",
       "2              3516.0  7844.000000  \n",
       "3               507.0  1788.000000  \n",
       "4              1777.0  1729.099291  \n",
       "..                ...          ...  \n",
       "435             182.0  2204.000000  \n",
       "436              93.0  2346.000000  \n",
       "437           14841.0  1867.000000  \n",
       "438             168.0  2125.000000  \n",
       "439             477.0    52.000000  \n",
       "\n",
       "[440 rows x 8 columns]"
      ]
     },
     "execution_count": 332,
     "metadata": {},
     "output_type": "execute_result"
    }
   ],
   "source": [
    "df"
   ]
  },
  {
   "cell_type": "code",
   "execution_count": 333,
   "id": "3de84641",
   "metadata": {},
   "outputs": [],
   "source": [
    "# lets test our data with box plots on the subjects of outliers"
   ]
  },
  {
   "cell_type": "code",
   "execution_count": 334,
   "id": "2808607d",
   "metadata": {},
   "outputs": [
    {
     "data": {
      "image/png": "[encoded data removed]",
      "text/plain": [
       "<Figure size 640x480 with 1 Axes>"
      ]
     },
     "metadata": {},
     "output_type": "display_data"
    }
   ],
   "source": [
    "df.boxplot()\n",
    "plt.show()"
   ]
  },
  {
   "cell_type": "code",
   "execution_count": 335,
   "id": "4008d72c",
   "metadata": {},
   "outputs": [],
   "source": [
    "# as we can see for numeric values we have some ourliers (values above the prescribed max in the box plot)\n",
    "# and also we will have to normalize the data! "
   ]
  },
  {
   "cell_type": "code",
   "execution_count": 336,
   "id": "7afb7ca8",
   "metadata": {},
   "outputs": [],
   "source": [
    "# probably you saw this class in my previous assigns..."
   ]
  },
  {
   "cell_type": "code",
   "execution_count": 337,
   "id": "6aac6a57",
   "metadata": {},
   "outputs": [],
   "source": [
    "class OutlierRemover(BaseEstimator,TransformerMixin): # our own class to remove outliers - we will insert it to the pipeline\n",
    "    \n",
    "    def __init__(self,factor=1.5):\n",
    "        self.factor = factor # higher the factor, extreme would be the outliers removed.\n",
    "        \n",
    "    def outlier_detector(self,X,y=None):\n",
    "        X = pd.Series(X).copy()\n",
    "        q1 = X.quantile(0.25)\n",
    "        q3 = X.quantile(0.75)\n",
    "        iqr = q3 - q1\n",
    "        self.lower_bound.append(q1 - (self.factor * iqr)) \n",
    "        self.upper_bound.append(q3 + (self.factor * iqr))\n",
    "        self.median.append(X.median())\n",
    "\n",
    "    def fit(self,X,y=None): # for each coulmn we will append corresponding boundary and the median value\n",
    "        self.median = []\n",
    "        self.lower_bound = []\n",
    "        self.upper_bound = []\n",
    "        X.apply(self.outlier_detector)\n",
    "        return self\n",
    "    \n",
    "    def transform(self,X,y=None): # then, with transform we will check is a value goes beyond the boundary, if so we replace it\n",
    "        X = pd.DataFrame(X).copy()\n",
    "        for i in range(X.shape[1]):\n",
    "            x = X.iloc[:, i].copy() # change the copy\n",
    "            x[(x < self.lower_bound[i]) | (x > self.upper_bound[i])] = self.median[i] # replace outliers with the median\n",
    "            X.iloc[:, i] = x # make the column copy\n",
    "\n",
    "        return X # our transformed df"
   ]
  },
  {
   "cell_type": "code",
   "execution_count": 338,
   "id": "cd1d400d",
   "metadata": {},
   "outputs": [],
   "source": [
    "ct = OutlierRemover()\n",
    "sl = StandardScaler()\n",
    "\n",
    "data_prep = Pipeline(steps = [[\"outlier_removal\",ct],['scalar', sl]])\n",
    "\n",
    "d = data_prep.fit_transform(df)\n",
    "\n",
    "df = pd.DataFrame(d, columns = df.columns)"
   ]
  },
  {
   "cell_type": "code",
   "execution_count": 339,
   "id": "d8ee61b9",
   "metadata": {},
   "outputs": [
    {
     "data": {
      "text/html": [
       "<div>\n",
       "<style scoped>\n",
       "    .dataframe tbody tr th:only-of-type {\n",
       "        vertical-align: middle;\n",
       "    }\n",
       "\n",
       "    .dataframe tbody tr th {\n",
       "        vertical-align: top;\n",
       "    }\n",
       "\n",
       "    .dataframe thead th {\n",
       "        text-align: right;\n",
       "    }\n",
       "</style>\n",
       "<table border=\"1\" class=\"dataframe\">\n",
       "  <thead>\n",
       "    <tr style=\"text-align: right;\">\n",
       "      <th></th>\n",
       "      <th>Channel</th>\n",
       "      <th>Region</th>\n",
       "      <th>Fresh</th>\n",
       "      <th>Milk</th>\n",
       "      <th>Grocery</th>\n",
       "      <th>Frozen</th>\n",
       "      <th>Detergents_Paper</th>\n",
       "      <th>Delicassen</th>\n",
       "    </tr>\n",
       "  </thead>\n",
       "  <tbody>\n",
       "    <tr>\n",
       "      <th>0</th>\n",
       "      <td>1.448652</td>\n",
       "      <td>0.590668</td>\n",
       "      <td>0.311714</td>\n",
       "      <td>1.575679</td>\n",
       "      <td>0.247090</td>\n",
       "      <td>-1.006019</td>\n",
       "      <td>0.386501</td>\n",
       "      <td>0.299958</td>\n",
       "    </tr>\n",
       "    <tr>\n",
       "      <th>1</th>\n",
       "      <td>1.448652</td>\n",
       "      <td>0.590668</td>\n",
       "      <td>-0.353221</td>\n",
       "      <td>1.620929</td>\n",
       "      <td>0.621838</td>\n",
       "      <td>-0.078908</td>\n",
       "      <td>0.660891</td>\n",
       "      <td>0.821381</td>\n",
       "    </tr>\n",
       "    <tr>\n",
       "      <th>2</th>\n",
       "      <td>1.448652</td>\n",
       "      <td>0.590668</td>\n",
       "      <td>-0.436634</td>\n",
       "      <td>1.326509</td>\n",
       "      <td>0.270057</td>\n",
       "      <td>0.306191</td>\n",
       "      <td>0.759743</td>\n",
       "      <td>-0.143489</td>\n",
       "    </tr>\n",
       "    <tr>\n",
       "      <th>3</th>\n",
       "      <td>-0.690297</td>\n",
       "      <td>0.590668</td>\n",
       "      <td>0.382330</td>\n",
       "      <td>-0.910145</td>\n",
       "      <td>-0.376556</td>\n",
       "      <td>2.701228</td>\n",
       "      <td>-0.574087</td>\n",
       "      <td>0.835666</td>\n",
       "    </tr>\n",
       "    <tr>\n",
       "      <th>4</th>\n",
       "      <td>1.448652</td>\n",
       "      <td>0.590668</td>\n",
       "      <td>1.490160</td>\n",
       "      <td>0.328066</td>\n",
       "      <td>0.179310</td>\n",
       "      <td>-0.151987</td>\n",
       "      <td>-0.011122</td>\n",
       "      <td>0.765547</td>\n",
       "    </tr>\n",
       "    <tr>\n",
       "      <th>...</th>\n",
       "      <td>...</td>\n",
       "      <td>...</td>\n",
       "      <td>...</td>\n",
       "      <td>...</td>\n",
       "      <td>...</td>\n",
       "      <td>...</td>\n",
       "      <td>...</td>\n",
       "      <td>...</td>\n",
       "    </tr>\n",
       "    <tr>\n",
       "      <th>435</th>\n",
       "      <td>-0.690297</td>\n",
       "      <td>0.590668</td>\n",
       "      <td>2.329977</td>\n",
       "      <td>2.279408</td>\n",
       "      <td>1.827865</td>\n",
       "      <td>-0.213063</td>\n",
       "      <td>-0.718153</td>\n",
       "      <td>1.330898</td>\n",
       "    </tr>\n",
       "    <tr>\n",
       "      <th>436</th>\n",
       "      <td>-0.690297</td>\n",
       "      <td>0.590668</td>\n",
       "      <td>-0.176442</td>\n",
       "      <td>-0.841094</td>\n",
       "      <td>-1.022048</td>\n",
       "      <td>1.566894</td>\n",
       "      <td>-0.757605</td>\n",
       "      <td>1.499944</td>\n",
       "    </tr>\n",
       "    <tr>\n",
       "      <th>437</th>\n",
       "      <td>1.448652</td>\n",
       "      <td>0.590668</td>\n",
       "      <td>0.532332</td>\n",
       "      <td>3.289311</td>\n",
       "      <td>-0.276754</td>\n",
       "      <td>-0.872462</td>\n",
       "      <td>-0.438887</td>\n",
       "      <td>0.929713</td>\n",
       "    </tr>\n",
       "    <tr>\n",
       "      <th>438</th>\n",
       "      <td>-0.690297</td>\n",
       "      <td>0.590668</td>\n",
       "      <td>0.029839</td>\n",
       "      <td>-0.679486</td>\n",
       "      <td>-0.747943</td>\n",
       "      <td>-0.512518</td>\n",
       "      <td>-0.724359</td>\n",
       "      <td>1.236852</td>\n",
       "    </tr>\n",
       "    <tr>\n",
       "      <th>439</th>\n",
       "      <td>-0.690297</td>\n",
       "      <td>0.590668</td>\n",
       "      <td>-0.859149</td>\n",
       "      <td>-0.762641</td>\n",
       "      <td>-0.696035</td>\n",
       "      <td>-1.095256</td>\n",
       "      <td>-0.587386</td>\n",
       "      <td>-1.230976</td>\n",
       "    </tr>\n",
       "  </tbody>\n",
       "</table>\n",
       "<p>440 rows × 8 columns</p>\n",
       "</div>"
      ],
      "text/plain": [
       "      Channel    Region     Fresh      Milk   Grocery    Frozen  \\\n",
       "0    1.448652  0.590668  0.311714  1.575679  0.247090 -1.006019   \n",
       "1    1.448652  0.590668 -0.353221  1.620929  0.621838 -0.078908   \n",
       "2    1.448652  0.590668 -0.436634  1.326509  0.270057  0.306191   \n",
       "3   -0.690297  0.590668  0.382330 -0.910145 -0.376556  2.701228   \n",
       "4    1.448652  0.590668  1.490160  0.328066  0.179310 -0.151987   \n",
       "..        ...       ...       ...       ...       ...       ...   \n",
       "435 -0.690297  0.590668  2.329977  2.279408  1.827865 -0.213063   \n",
       "436 -0.690297  0.590668 -0.176442 -0.841094 -1.022048  1.566894   \n",
       "437  1.448652  0.590668  0.532332  3.289311 -0.276754 -0.872462   \n",
       "438 -0.690297  0.590668  0.029839 -0.679486 -0.747943 -0.512518   \n",
       "439 -0.690297  0.590668 -0.859149 -0.762641 -0.696035 -1.095256   \n",
       "\n",
       "     Detergents_Paper  Delicassen  \n",
       "0            0.386501    0.299958  \n",
       "1            0.660891    0.821381  \n",
       "2            0.759743   -0.143489  \n",
       "3           -0.574087    0.835666  \n",
       "4           -0.011122    0.765547  \n",
       "..                ...         ...  \n",
       "435         -0.718153    1.330898  \n",
       "436         -0.757605    1.499944  \n",
       "437         -0.438887    0.929713  \n",
       "438         -0.724359    1.236852  \n",
       "439         -0.587386   -1.230976  \n",
       "\n",
       "[440 rows x 8 columns]"
      ]
     },
     "execution_count": 339,
     "metadata": {},
     "output_type": "execute_result"
    }
   ],
   "source": [
    "df # Yes! now we are good to go to apply k means"
   ]
  },
  {
   "cell_type": "code",
   "execution_count": 340,
   "id": "dabe3802",
   "metadata": {},
   "outputs": [
    {
     "data": {
      "image/png": "[encoded data removed]",
      "text/plain": [
       "<Figure size 640x480 with 1 Axes>"
      ]
     },
     "metadata": {},
     "output_type": "display_data"
    }
   ],
   "source": [
    "df.boxplot() # normalized, less outliers\n",
    "plt.show()"
   ]
  },
  {
   "cell_type": "code",
   "execution_count": 341,
   "id": "e47ce54f",
   "metadata": {},
   "outputs": [],
   "source": [
    "# as for beginning lets run the algo just with the random centroids"
   ]
  },
  {
   "cell_type": "code",
   "execution_count": 342,
   "id": "36e54542",
   "metadata": {},
   "outputs": [],
   "source": [
    "k = 3 # let's say k=3\n",
    "kmeans = KMeans(n_clusters=k, init=\"random\")"
   ]
  },
  {
   "cell_type": "code",
   "execution_count": 343,
   "id": "e908c01f",
   "metadata": {},
   "outputs": [],
   "source": [
    "y_pred = kmeans.fit_predict(df)"
   ]
  },
  {
   "cell_type": "code",
   "execution_count": 344,
   "id": "c91041a1",
   "metadata": {},
   "outputs": [
    {
     "data": {
      "text/plain": [
       "array([2, 2, 2, 0, 2, 2, 2, 2, 1, 2, 2, 1, 2, 2, 2, 1, 2, 1, 2, 1, 2, 1,\n",
       "       0, 2, 2, 2, 1, 1, 2, 1, 0, 1, 1, 0, 1, 2, 0, 2, 2, 0, 0, 0, 2, 2,\n",
       "       2, 2, 2, 1, 2, 1, 0, 1, 2, 2, 0, 1, 1, 2, 1, 1, 2, 0, 2, 2, 1, 1,\n",
       "       1, 2, 0, 1, 1, 0, 1, 2, 2, 0, 0, 2, 1, 1, 1, 2, 2, 0, 2, 0, 1, 0,\n",
       "       1, 0, 1, 1, 1, 0, 2, 1, 2, 1, 1, 0, 2, 2, 2, 0, 1, 1, 2, 2, 2, 1,\n",
       "       1, 2, 0, 0, 0, 1, 1, 1, 0, 1, 0, 1, 1, 2, 0, 1, 1, 2, 1, 1, 0, 1,\n",
       "       1, 1, 1, 1, 0, 1, 0, 1, 0, 0, 0, 1, 1, 2, 1, 1, 1, 0, 1, 1, 0, 1,\n",
       "       1, 2, 2, 0, 2, 2, 2, 1, 1, 1, 2, 2, 2, 1, 1, 1, 2, 2, 1, 2, 1, 2,\n",
       "       0, 0, 1, 0, 0, 2, 2, 0, 1, 1, 1, 0, 2, 2, 0, 1, 1, 2, 1, 0, 0, 2,\n",
       "       0, 1, 2, 2, 0, 1, 1, 2, 1, 2, 1, 2, 0, 0, 1, 1, 2, 2, 1, 0, 2, 1,\n",
       "       0, 2, 0, 0, 1, 1, 2, 1, 1, 0, 2, 1, 0, 1, 0, 1, 1, 0, 1, 0, 0, 0,\n",
       "       0, 0, 2, 2, 1, 0, 1, 0, 1, 0, 0, 0, 0, 0, 1, 0, 0, 0, 1, 0, 0, 0,\n",
       "       2, 0, 2, 0, 2, 0, 0, 1, 1, 0, 1, 1, 0, 1, 0, 2, 1, 2, 0, 0, 0, 1,\n",
       "       1, 1, 1, 1, 1, 1, 1, 2, 0, 1, 0, 2, 2, 1, 2, 2, 2, 2, 2, 2, 2, 1,\n",
       "       1, 2, 1, 0, 2, 0, 1, 2, 1, 1, 1, 2, 1, 0, 0, 1, 0, 0, 1, 1, 0, 0,\n",
       "       0, 2, 0, 1, 0, 2, 1, 1, 1, 1, 2, 2, 1, 1, 1, 1, 2, 2, 1, 2, 1, 2,\n",
       "       1, 2, 0, 1, 0, 2, 0, 1, 0, 1, 1, 1, 1, 2, 1, 1, 0, 1, 1, 1, 1, 2,\n",
       "       1, 1, 2, 1, 1, 2, 0, 1, 0, 1, 0, 1, 1, 0, 1, 1, 0, 1, 1, 0, 1, 1,\n",
       "       2, 0, 0, 1, 1, 0, 1, 1, 0, 1, 0, 2, 2, 1, 1, 1, 1, 1, 0, 2, 2, 1,\n",
       "       2, 1, 2, 2, 0, 1, 2, 1, 2, 0, 1, 1, 1, 1, 1, 1, 1, 0, 0, 2, 1, 1])"
      ]
     },
     "execution_count": 344,
     "metadata": {},
     "output_type": "execute_result"
    }
   ],
   "source": [
    "y_pred # we have some result, but is it optimal?"
   ]
  },
  {
   "cell_type": "code",
   "execution_count": 345,
   "id": "60624498",
   "metadata": {},
   "outputs": [],
   "source": [
    "# for the determination of the optimal k we will use two methods:\n",
    "# a) plot vs inertia (not stable metric)\n",
    "# b) use silhouette score"
   ]
  },
  {
   "cell_type": "code",
   "execution_count": 346,
   "id": "5d626b1b",
   "metadata": {},
   "outputs": [],
   "source": [
    "def analyze_k(X,mes=\"iner\",ran=True):\n",
    "    metric = []\n",
    "\n",
    "    for i in range(2,11):\n",
    "        k = i\n",
    "        if ran is True:\n",
    "            kmeans = KMeans(n_clusters=k,init=\"random\",random_state=42) # random k-means\n",
    "        else:\n",
    "            kmeans = KMeans(n_clusters=k,random_state=42) # k-means++\n",
    "        kmeans.fit(X)\n",
    "        if mes == \"iner\":\n",
    "            metric.append(kmeans.inertia_)\n",
    "        else:\n",
    "            metric.append(silhouette_score(X, kmeans.labels_))\n",
    "\n",
    "    print(metric)\n",
    "    print()\n",
    "    if mes != \"iner\":\n",
    "        print(f\"maximum silhouette_score of {max(metric)} for the k of {metric.index(max(metric))+2}\")\n",
    "        print()\n",
    "    plt.plot(range(2,len(metric)+2),metric)\n",
    "    plt.show()"
   ]
  },
  {
   "cell_type": "code",
   "execution_count": 347,
   "id": "b15c9a25",
   "metadata": {},
   "outputs": [
    {
     "name": "stdout",
     "output_type": "stream",
     "text": [
      "[2476.4218250591653, 2175.6699883831266, 1942.1550081893158, 1769.6103767312184, 1622.1136950205787, 1531.556505893092, 1441.1242666619855, 1371.851650703011, 1302.849167609242]\n",
      "\n"
     ]
    },
    {
     "data": {
      "image/png": "[encoded data removed]",
      "text/plain": [
       "<Figure size 640x480 with 1 Axes>"
      ]
     },
     "metadata": {},
     "output_type": "display_data"
    }
   ],
   "source": [
    "analyze_k(df) # random centroid initializer, inertia score"
   ]
  },
  {
   "cell_type": "code",
   "execution_count": 348,
   "id": "7430e545",
   "metadata": {},
   "outputs": [],
   "source": [
    "# it seems that 4-5 might be reasoble choice, let's see what silhouette score will give us\n",
    "# we know that as long as we increase the number of clusters (k), the inirtia will be lower and lower up to 0,\n",
    "# if k = number of records in our dataset"
   ]
  },
  {
   "cell_type": "code",
   "execution_count": 349,
   "id": "790184b3",
   "metadata": {},
   "outputs": [
    {
     "name": "stdout",
     "output_type": "stream",
     "text": [
      "[0.3139937508176235, 0.21798110239075813, 0.21837394438940355, 0.23156207531636291, 0.20943402800022146, 0.21697477429865247, 0.21320694592653924, 0.22082029261243832, 0.21784982159806152]\n",
      "\n",
      "maximum silhouette_score of 0.3139937508176235 for the k of 2\n",
      "\n"
     ]
    },
    {
     "data": {
      "image/png": "[encoded data removed]",
      "text/plain": [
       "<Figure size 640x480 with 1 Axes>"
      ]
     },
     "metadata": {},
     "output_type": "display_data"
    }
   ],
   "source": [
    "analyze_k(df, \"silhouette_score\") # random centroid initializer, silhouette_score"
   ]
  },
  {
   "cell_type": "code",
   "execution_count": 350,
   "id": "7570ab90",
   "metadata": {},
   "outputs": [],
   "source": [
    "# it apperas that the score was the highest at k = 2"
   ]
  },
  {
   "cell_type": "code",
   "execution_count": 351,
   "id": "96490208",
   "metadata": {},
   "outputs": [],
   "source": [
    "kmeans = KMeans(n_clusters=2,init=\"random\",random_state=42)\n",
    "y_pred = kmeans.fit_predict(df)"
   ]
  },
  {
   "cell_type": "code",
   "execution_count": 352,
   "id": "c6b23289",
   "metadata": {},
   "outputs": [
    {
     "name": "stdout",
     "output_type": "stream",
     "text": [
      "cluster 0: 306 instances\n",
      "cluster 1: 134 instances\n"
     ]
    }
   ],
   "source": [
    "y_pred = list(y_pred)\n",
    "for clust in set(y_pred):\n",
    "    print(f\"cluster {clust}: {y_pred.count(clust)} instances\")"
   ]
  },
  {
   "cell_type": "code",
   "execution_count": 353,
   "id": "751a6525",
   "metadata": {},
   "outputs": [],
   "source": [
    "# kmeans ++ is actually set by default in k-means from skelearn. We specified \"random\", but we will not use this"
   ]
  },
  {
   "cell_type": "code",
   "execution_count": 354,
   "id": "cf248352",
   "metadata": {},
   "outputs": [
    {
     "name": "stdout",
     "output_type": "stream",
     "text": [
      "[2476.4218250591653, 2168.929836905946, 1952.4930505825391, 1775.4927345383946, 1623.9774258048863, 1535.0132755257312, 1459.1079229684483, 1369.6150142224246, 1320.569519742445]\n",
      "\n"
     ]
    },
    {
     "data": {
      "image/png": "[encoded data removed]",
      "text/plain": [
       "<Figure size 640x480 with 1 Axes>"
      ]
     },
     "metadata": {},
     "output_type": "display_data"
    }
   ],
   "source": [
    "analyze_k(df, ran=False) # k-mean ++ initializer, inertia score"
   ]
  },
  {
   "cell_type": "code",
   "execution_count": 355,
   "id": "afba6ce8",
   "metadata": {},
   "outputs": [
    {
     "name": "stdout",
     "output_type": "stream",
     "text": [
      "[0.3139937508176235, 0.2435225250845019, 0.21748691129987963, 0.21859506598583545, 0.2091307493004431, 0.21147048258728282, 0.21288979827889107, 0.22177666244786184, 0.21296460783218166]\n",
      "\n",
      "maximum silhouette_score of 0.3139937508176235 for the k of 2\n",
      "\n"
     ]
    },
    {
     "data": {
      "image/png": "[encoded data removed]",
      "text/plain": [
       "<Figure size 640x480 with 1 Axes>"
      ]
     },
     "metadata": {},
     "output_type": "display_data"
    }
   ],
   "source": [
    "analyze_k(df, mes=\"silhouette_score\",ran=False) # k-mean ++ initializer\", silhouette_score"
   ]
  },
  {
   "cell_type": "code",
   "execution_count": 356,
   "id": "da3ccc49",
   "metadata": {},
   "outputs": [],
   "source": [
    " # again, k=2 seems to be optimal choice"
   ]
  },
  {
   "cell_type": "code",
   "execution_count": 357,
   "id": "7fafc622",
   "metadata": {},
   "outputs": [
    {
     "name": "stdout",
     "output_type": "stream",
     "text": [
      "cluster 0: 134 instances\n",
      "cluster 1: 306 instances\n"
     ]
    }
   ],
   "source": [
    "kmeans = KMeans(n_clusters=2,random_state=42)\n",
    "y_pred = kmeans.fit_predict(df)\n",
    "\n",
    "y_pred = list(y_pred)\n",
    "for clust in set(y_pred):\n",
    "    print(f\"cluster {clust}: {y_pred.count(clust)} instances\")"
   ]
  },
  {
   "cell_type": "code",
   "execution_count": null,
   "id": "2e6620bc",
   "metadata": {},
   "outputs": [],
   "source": []
  },
  {
   "cell_type": "code",
   "execution_count": null,
   "id": "6ebabf64",
   "metadata": {},
   "outputs": [],
   "source": []
  },
  {
   "cell_type": "code",
   "execution_count": 358,
   "id": "bf11015b",
   "metadata": {},
   "outputs": [],
   "source": [
    "# the end!"
   ]
  }
 ],
 "metadata": {
  "kernelspec": {
   "display_name": "Python 3 (ipykernel)",
   "language": "python",
   "name": "python3"
  },
  "language_info": {
   "codemirror_mode": {
    "name": "ipython",
    "version": 3
   },
   "file_extension": ".py",
   "mimetype": "text/x-python",
   "name": "python",
   "nbconvert_exporter": "python",
   "pygments_lexer": "ipython3",
   "version": "3.9.13"
  }
 },
 "nbformat": 4,
 "nbformat_minor": 5
}
