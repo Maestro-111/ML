{
 "cells": [
  {
   "cell_type": "code",
   "execution_count": 587,
   "id": "13fefe20",
   "metadata": {},
   "outputs": [],
   "source": [
    "import pandas as pd\n",
    "import numpy as np\n",
    "from sklearn.pipeline import Pipeline\n",
    "import matplotlib.pyplot as plt\n",
    "from sklearn.linear_model import LogisticRegression\n",
    "from sklearn.linear_model import SGDClassifier\n",
    "from sklearn.model_selection import train_test_split\n",
    "from sklearn.metrics import confusion_matrix\n",
    "from sklearn.model_selection import cross_val_score\n",
    "from sklearn.svm import SVC\n",
    "from sklearn.metrics import accuracy_score\n",
    "from sklearn.metrics import f1_score\n",
    "from sklearn.metrics import roc_auc_score\n",
    "from sklearn.metrics import recall_score\n",
    "from sklearn.metrics import precision_score\n",
    "from sklearn.preprocessing import StandardScaler\n",
    "%matplotlib inline"
   ]
  },
  {
   "cell_type": "code",
   "execution_count": 588,
   "id": "3a6cd591",
   "metadata": {},
   "outputs": [],
   "source": [
    "df = pd.read_csv(\"a1_data.csv\") "
   ]
  },
  {
   "cell_type": "code",
   "execution_count": 589,
   "id": "baa49284",
   "metadata": {},
   "outputs": [
    {
     "data": {
      "text/html": [
       "<div>\n",
       "<style scoped>\n",
       "    .dataframe tbody tr th:only-of-type {\n",
       "        vertical-align: middle;\n",
       "    }\n",
       "\n",
       "    .dataframe tbody tr th {\n",
       "        vertical-align: top;\n",
       "    }\n",
       "\n",
       "    .dataframe thead th {\n",
       "        text-align: right;\n",
       "    }\n",
       "</style>\n",
       "<table border=\"1\" class=\"dataframe\">\n",
       "  <thead>\n",
       "    <tr style=\"text-align: right;\">\n",
       "      <th></th>\n",
       "      <th>30</th>\n",
       "      <th>64</th>\n",
       "      <th>1</th>\n",
       "      <th>1.1</th>\n",
       "    </tr>\n",
       "  </thead>\n",
       "  <tbody>\n",
       "    <tr>\n",
       "      <th>0</th>\n",
       "      <td>30.0</td>\n",
       "      <td>62.0</td>\n",
       "      <td>3.0</td>\n",
       "      <td>1</td>\n",
       "    </tr>\n",
       "    <tr>\n",
       "      <th>1</th>\n",
       "      <td>30.0</td>\n",
       "      <td>65.0</td>\n",
       "      <td>0.0</td>\n",
       "      <td>1</td>\n",
       "    </tr>\n",
       "    <tr>\n",
       "      <th>2</th>\n",
       "      <td>31.0</td>\n",
       "      <td>59.0</td>\n",
       "      <td>2.0</td>\n",
       "      <td>1</td>\n",
       "    </tr>\n",
       "    <tr>\n",
       "      <th>3</th>\n",
       "      <td>31.0</td>\n",
       "      <td>65.0</td>\n",
       "      <td>4.0</td>\n",
       "      <td>1</td>\n",
       "    </tr>\n",
       "    <tr>\n",
       "      <th>4</th>\n",
       "      <td>33.0</td>\n",
       "      <td>58.0</td>\n",
       "      <td>10.0</td>\n",
       "      <td>1</td>\n",
       "    </tr>\n",
       "  </tbody>\n",
       "</table>\n",
       "</div>"
      ],
      "text/plain": [
       "     30    64     1  1.1\n",
       "0  30.0  62.0   3.0    1\n",
       "1  30.0  65.0   0.0    1\n",
       "2  31.0  59.0   2.0    1\n",
       "3  31.0  65.0   4.0    1\n",
       "4  33.0  58.0  10.0    1"
      ]
     },
     "execution_count": 589,
     "metadata": {},
     "output_type": "execute_result"
    }
   ],
   "source": [
    "df.head()"
   ]
  },
  {
   "cell_type": "code",
   "execution_count": 590,
   "id": "2f742f60",
   "metadata": {},
   "outputs": [],
   "source": [
    "# formating"
   ]
  },
  {
   "cell_type": "code",
   "execution_count": 591,
   "id": "4e767a38",
   "metadata": {},
   "outputs": [
    {
     "name": "stderr",
     "output_type": "stream",
     "text": [
      "C:\\Users\\La_Admin\\AppData\\Local\\Temp\\ipykernel_23952\\4039083124.py:2: FutureWarning: The frame.append method is deprecated and will be removed from pandas in a future version. Use pandas.concat instead.\n",
      "  df = df.append(new_row, ignore_index=True)\n"
     ]
    }
   ],
   "source": [
    "new_row = {'30':30, '64':64,'1':1.1, \"1.1\":1} # add 1st row to the end\n",
    "df = df.append(new_row, ignore_index=True)\n",
    "df.rename(columns={\"30\": 'Age', \"64\": 'Year_of_Operation', \"1\":\"nodes_detected\", \"1.1\":\"Surv_status\"}, inplace=True) # rename cols\n",
    "df[\"Surv_status\"] = df[\"Surv_status\"].apply(lambda x : 1 if x == 1 else -1) # convert to more appropriate values 1 is surv, -1 if death"
   ]
  },
  {
   "cell_type": "code",
   "execution_count": 592,
   "id": "bb88bffd",
   "metadata": {},
   "outputs": [
    {
     "data": {
      "text/html": [
       "<div>\n",
       "<style scoped>\n",
       "    .dataframe tbody tr th:only-of-type {\n",
       "        vertical-align: middle;\n",
       "    }\n",
       "\n",
       "    .dataframe tbody tr th {\n",
       "        vertical-align: top;\n",
       "    }\n",
       "\n",
       "    .dataframe thead th {\n",
       "        text-align: right;\n",
       "    }\n",
       "</style>\n",
       "<table border=\"1\" class=\"dataframe\">\n",
       "  <thead>\n",
       "    <tr style=\"text-align: right;\">\n",
       "      <th></th>\n",
       "      <th>Age</th>\n",
       "      <th>Year_of_Operation</th>\n",
       "      <th>nodes_detected</th>\n",
       "      <th>Surv_status</th>\n",
       "    </tr>\n",
       "  </thead>\n",
       "  <tbody>\n",
       "    <tr>\n",
       "      <th>0</th>\n",
       "      <td>30.0</td>\n",
       "      <td>62.0</td>\n",
       "      <td>3.0</td>\n",
       "      <td>1</td>\n",
       "    </tr>\n",
       "    <tr>\n",
       "      <th>1</th>\n",
       "      <td>30.0</td>\n",
       "      <td>65.0</td>\n",
       "      <td>0.0</td>\n",
       "      <td>1</td>\n",
       "    </tr>\n",
       "    <tr>\n",
       "      <th>2</th>\n",
       "      <td>31.0</td>\n",
       "      <td>59.0</td>\n",
       "      <td>2.0</td>\n",
       "      <td>1</td>\n",
       "    </tr>\n",
       "    <tr>\n",
       "      <th>3</th>\n",
       "      <td>31.0</td>\n",
       "      <td>65.0</td>\n",
       "      <td>4.0</td>\n",
       "      <td>1</td>\n",
       "    </tr>\n",
       "    <tr>\n",
       "      <th>4</th>\n",
       "      <td>33.0</td>\n",
       "      <td>58.0</td>\n",
       "      <td>10.0</td>\n",
       "      <td>1</td>\n",
       "    </tr>\n",
       "  </tbody>\n",
       "</table>\n",
       "</div>"
      ],
      "text/plain": [
       "    Age  Year_of_Operation  nodes_detected  Surv_status\n",
       "0  30.0               62.0             3.0            1\n",
       "1  30.0               65.0             0.0            1\n",
       "2  31.0               59.0             2.0            1\n",
       "3  31.0               65.0             4.0            1\n",
       "4  33.0               58.0            10.0            1"
      ]
     },
     "execution_count": 592,
     "metadata": {},
     "output_type": "execute_result"
    }
   ],
   "source": [
    "df.head()\n"
   ]
  },
  {
   "cell_type": "code",
   "execution_count": 593,
   "id": "30989f4c",
   "metadata": {},
   "outputs": [
    {
     "data": {
      "text/plain": [
       "5"
      ]
     },
     "execution_count": 593,
     "metadata": {},
     "output_type": "execute_result"
    }
   ],
   "source": [
    "np.count_nonzero(df.isnull()) # we have a little amount of nulls"
   ]
  },
  {
   "cell_type": "code",
   "execution_count": 594,
   "id": "9374c752",
   "metadata": {},
   "outputs": [],
   "source": [
    "df = df.dropna() # just drop them"
   ]
  },
  {
   "cell_type": "code",
   "execution_count": 595,
   "id": "32651e70",
   "metadata": {},
   "outputs": [],
   "source": [
    "df.reset_index(inplace = True, drop = True)"
   ]
  },
  {
   "cell_type": "code",
   "execution_count": 596,
   "id": "5ac38f7b",
   "metadata": {},
   "outputs": [
    {
     "data": {
      "text/plain": [
       "(302, 4)"
      ]
     },
     "execution_count": 596,
     "metadata": {},
     "output_type": "execute_result"
    }
   ],
   "source": [
    "df.shape"
   ]
  },
  {
   "cell_type": "code",
   "execution_count": 597,
   "id": "5ce2a29f",
   "metadata": {},
   "outputs": [
    {
     "data": {
      "text/plain": [
       "<AxesSubplot:>"
      ]
     },
     "execution_count": 597,
     "metadata": {},
     "output_type": "execute_result"
    },
    {
     "data": {
      "image/png": "[encoded data removed]",
      "text/plain": [
       "<Figure size 640x480 with 1 Axes>"
      ]
     },
     "metadata": {},
     "output_type": "display_data"
    }
   ],
   "source": [
    "df.iloc[:, 0:df.shape[1]-1].boxplot() # it seems that nodes_detected has a lot of outliers, we will handle this soon"
   ]
  },
  {
   "cell_type": "code",
   "execution_count": 598,
   "id": "51f2bffc",
   "metadata": {},
   "outputs": [
    {
     "data": {
      "text/plain": [
       "<matplotlib.collections.PathCollection at 0x1e21860d700>"
      ]
     },
     "execution_count": 598,
     "metadata": {},
     "output_type": "execute_result"
    },
    {
     "data": {
      "image/png": "[encoded data removed]",
      "text/plain": [
       "<Figure size 640x480 with 1 Axes>"
      ]
     },
     "metadata": {},
     "output_type": "display_data"
    }
   ],
   "source": [
    "plt.scatter(df[\"Age\"], df[\"Surv_status\"], color = \"red\") # assumption : older is the patient - more likely he\\she will be dead\n"
   ]
  },
  {
   "cell_type": "code",
   "execution_count": 599,
   "id": "e9d0e09a",
   "metadata": {},
   "outputs": [
    {
     "data": {
      "text/plain": [
       "<matplotlib.collections.PathCollection at 0x1e2187484f0>"
      ]
     },
     "execution_count": 599,
     "metadata": {},
     "output_type": "execute_result"
    },
    {
     "data": {
      "image/png": "[encoded data removed]",
      "text/plain": [
       "<Figure size 640x480 with 1 Axes>"
      ]
     },
     "metadata": {},
     "output_type": "display_data"
    }
   ],
   "source": [
    "plt.scatter(df[\"nodes_detected\"], df[\"Surv_status\"], color = \"red\") # same assumption as with age"
   ]
  },
  {
   "cell_type": "code",
   "execution_count": 600,
   "id": "24dc3ff8",
   "metadata": {},
   "outputs": [
    {
     "data": {
      "text/plain": [
       "<matplotlib.collections.PathCollection at 0x1e2187f9a00>"
      ]
     },
     "execution_count": 600,
     "metadata": {},
     "output_type": "execute_result"
    },
    {
     "data": {
      "image/png": "[encoded data removed]",
      "text/plain": [
       "<Figure size 640x480 with 1 Axes>"
      ]
     },
     "metadata": {},
     "output_type": "display_data"
    }
   ],
   "source": [
    "plt.scatter(df[\"Year_of_Operation\"], df[\"Surv_status\"], color = \"red\") # no effect at all!"
   ]
  },
  {
   "cell_type": "code",
   "execution_count": 601,
   "id": "92120d68",
   "metadata": {},
   "outputs": [
    {
     "data": {
      "text/plain": [
       "<AxesSubplot:>"
      ]
     },
     "execution_count": 601,
     "metadata": {},
     "output_type": "execute_result"
    },
    {
     "data": {
      "image/png": "[encoded data removed]",
      "text/plain": [
       "<Figure size 640x480 with 1 Axes>"
      ]
     },
     "metadata": {},
     "output_type": "display_data"
    }
   ],
   "source": [
    "df[\"Surv_status\"].hist() # our dataset is unabalnced\n",
    "# hence, the model may be good at predicting ones (patient surv), but on the other hand it will make a lot of mistakes predicting -1 (deaths)\n",
    "# since the model will not be able to prorely learn how to distinguish death from the survival"
   ]
  },
  {
   "cell_type": "code",
   "execution_count": 602,
   "id": "7c314bb9",
   "metadata": {},
   "outputs": [
    {
     "data": {
      "text/html": [
       "<div>\n",
       "<style scoped>\n",
       "    .dataframe tbody tr th:only-of-type {\n",
       "        vertical-align: middle;\n",
       "    }\n",
       "\n",
       "    .dataframe tbody tr th {\n",
       "        vertical-align: top;\n",
       "    }\n",
       "\n",
       "    .dataframe thead th {\n",
       "        text-align: right;\n",
       "    }\n",
       "</style>\n",
       "<table border=\"1\" class=\"dataframe\">\n",
       "  <thead>\n",
       "    <tr style=\"text-align: right;\">\n",
       "      <th></th>\n",
       "      <th>Age</th>\n",
       "      <th>Year_of_Operation</th>\n",
       "      <th>nodes_detected</th>\n",
       "      <th>Surv_status</th>\n",
       "    </tr>\n",
       "  </thead>\n",
       "  <tbody>\n",
       "    <tr>\n",
       "      <th>Age</th>\n",
       "      <td>1.000000</td>\n",
       "      <td>0.091882</td>\n",
       "      <td>-0.067058</td>\n",
       "      <td>-0.070500</td>\n",
       "    </tr>\n",
       "    <tr>\n",
       "      <th>Year_of_Operation</th>\n",
       "      <td>0.091882</td>\n",
       "      <td>1.000000</td>\n",
       "      <td>-0.006916</td>\n",
       "      <td>0.012328</td>\n",
       "    </tr>\n",
       "    <tr>\n",
       "      <th>nodes_detected</th>\n",
       "      <td>-0.067058</td>\n",
       "      <td>-0.006916</td>\n",
       "      <td>1.000000</td>\n",
       "      <td>-0.282551</td>\n",
       "    </tr>\n",
       "    <tr>\n",
       "      <th>Surv_status</th>\n",
       "      <td>-0.070500</td>\n",
       "      <td>0.012328</td>\n",
       "      <td>-0.282551</td>\n",
       "      <td>1.000000</td>\n",
       "    </tr>\n",
       "  </tbody>\n",
       "</table>\n",
       "</div>"
      ],
      "text/plain": [
       "                        Age  Year_of_Operation  nodes_detected  Surv_status\n",
       "Age                1.000000           0.091882       -0.067058    -0.070500\n",
       "Year_of_Operation  0.091882           1.000000       -0.006916     0.012328\n",
       "nodes_detected    -0.067058          -0.006916        1.000000    -0.282551\n",
       "Surv_status       -0.070500           0.012328       -0.282551     1.000000"
      ]
     },
     "execution_count": 602,
     "metadata": {},
     "output_type": "execute_result"
    }
   ],
   "source": [
    "df.corr() # as we see, year of operation has almost 0 correlation with dependent variable, meaning that changes in this variable\n",
    "# will not cause any chagnges in the dependent variable (surv_stat)\n",
    "# also, negative correlation for the rest of the variables, as expected (despite it is slight correlation)"
   ]
  },
  {
   "cell_type": "code",
   "execution_count": 603,
   "id": "c545a969",
   "metadata": {},
   "outputs": [],
   "source": [
    "df.drop(\"Year_of_Operation\", axis = 1, inplace = True) # we will drop this column"
   ]
  },
  {
   "cell_type": "code",
   "execution_count": 604,
   "id": "81a09901",
   "metadata": {},
   "outputs": [
    {
     "data": {
      "text/html": [
       "<div>\n",
       "<style scoped>\n",
       "    .dataframe tbody tr th:only-of-type {\n",
       "        vertical-align: middle;\n",
       "    }\n",
       "\n",
       "    .dataframe tbody tr th {\n",
       "        vertical-align: top;\n",
       "    }\n",
       "\n",
       "    .dataframe thead th {\n",
       "        text-align: right;\n",
       "    }\n",
       "</style>\n",
       "<table border=\"1\" class=\"dataframe\">\n",
       "  <thead>\n",
       "    <tr style=\"text-align: right;\">\n",
       "      <th></th>\n",
       "      <th>Age</th>\n",
       "      <th>nodes_detected</th>\n",
       "      <th>Surv_status</th>\n",
       "    </tr>\n",
       "  </thead>\n",
       "  <tbody>\n",
       "    <tr>\n",
       "      <th>0</th>\n",
       "      <td>30.0</td>\n",
       "      <td>3.0</td>\n",
       "      <td>1</td>\n",
       "    </tr>\n",
       "    <tr>\n",
       "      <th>1</th>\n",
       "      <td>30.0</td>\n",
       "      <td>0.0</td>\n",
       "      <td>1</td>\n",
       "    </tr>\n",
       "    <tr>\n",
       "      <th>2</th>\n",
       "      <td>31.0</td>\n",
       "      <td>2.0</td>\n",
       "      <td>1</td>\n",
       "    </tr>\n",
       "    <tr>\n",
       "      <th>3</th>\n",
       "      <td>31.0</td>\n",
       "      <td>4.0</td>\n",
       "      <td>1</td>\n",
       "    </tr>\n",
       "    <tr>\n",
       "      <th>4</th>\n",
       "      <td>33.0</td>\n",
       "      <td>10.0</td>\n",
       "      <td>1</td>\n",
       "    </tr>\n",
       "  </tbody>\n",
       "</table>\n",
       "</div>"
      ],
      "text/plain": [
       "    Age  nodes_detected  Surv_status\n",
       "0  30.0             3.0            1\n",
       "1  30.0             0.0            1\n",
       "2  31.0             2.0            1\n",
       "3  31.0             4.0            1\n",
       "4  33.0            10.0            1"
      ]
     },
     "execution_count": 604,
     "metadata": {},
     "output_type": "execute_result"
    }
   ],
   "source": [
    "df.head()"
   ]
  },
  {
   "cell_type": "code",
   "execution_count": 605,
   "id": "34c6142f",
   "metadata": {},
   "outputs": [],
   "source": [
    "num_pipeline = Pipeline([ # scale the variables to get better results afterwards, sicne age and nodes_detected are scaled very differently\n",
    "    ('std_scaler', StandardScaler())\n",
    "])\n",
    "\n",
    "X = df.iloc[:, 0:df.shape[1]-1] # except the target variable\n",
    "X_t = num_pipeline.fit_transform(X)\n",
    "new = pd.DataFrame(X_t, columns = [\"Age\",\"nodes_detected\"])\n",
    "t = df[\"Surv_status\"]\n",
    "new.insert(2, \"Surv_status\", df[\"Surv_status\"], True)\n",
    "df = new "
   ]
  },
  {
   "cell_type": "code",
   "execution_count": 606,
   "id": "d3754805",
   "metadata": {},
   "outputs": [
    {
     "name": "stdout",
     "output_type": "stream",
     "text": [
      "<class 'pandas.core.frame.DataFrame'>\n",
      "RangeIndex: 302 entries, 0 to 301\n",
      "Data columns (total 3 columns):\n",
      " #   Column          Non-Null Count  Dtype  \n",
      "---  ------          --------------  -----  \n",
      " 0   Age             302 non-null    float64\n",
      " 1   nodes_detected  302 non-null    float64\n",
      " 2   Surv_status     302 non-null    int64  \n",
      "dtypes: float64(2), int64(1)\n",
      "memory usage: 7.2 KB\n"
     ]
    }
   ],
   "source": [
    "df.info() # all good"
   ]
  },
  {
   "cell_type": "code",
   "execution_count": 607,
   "id": "d9f06f65",
   "metadata": {},
   "outputs": [
    {
     "data": {
      "text/html": [
       "<div>\n",
       "<style scoped>\n",
       "    .dataframe tbody tr th:only-of-type {\n",
       "        vertical-align: middle;\n",
       "    }\n",
       "\n",
       "    .dataframe tbody tr th {\n",
       "        vertical-align: top;\n",
       "    }\n",
       "\n",
       "    .dataframe thead th {\n",
       "        text-align: right;\n",
       "    }\n",
       "</style>\n",
       "<table border=\"1\" class=\"dataframe\">\n",
       "  <thead>\n",
       "    <tr style=\"text-align: right;\">\n",
       "      <th></th>\n",
       "      <th>Age</th>\n",
       "      <th>nodes_detected</th>\n",
       "      <th>Surv_status</th>\n",
       "    </tr>\n",
       "  </thead>\n",
       "  <tbody>\n",
       "    <tr>\n",
       "      <th>0</th>\n",
       "      <td>-2.119417</td>\n",
       "      <td>-0.144691</td>\n",
       "      <td>1</td>\n",
       "    </tr>\n",
       "    <tr>\n",
       "      <th>1</th>\n",
       "      <td>-2.119417</td>\n",
       "      <td>-0.560718</td>\n",
       "      <td>1</td>\n",
       "    </tr>\n",
       "    <tr>\n",
       "      <th>2</th>\n",
       "      <td>-2.025922</td>\n",
       "      <td>-0.283367</td>\n",
       "      <td>1</td>\n",
       "    </tr>\n",
       "    <tr>\n",
       "      <th>3</th>\n",
       "      <td>-2.025922</td>\n",
       "      <td>-0.006015</td>\n",
       "      <td>1</td>\n",
       "    </tr>\n",
       "    <tr>\n",
       "      <th>4</th>\n",
       "      <td>-1.838933</td>\n",
       "      <td>0.826039</td>\n",
       "      <td>1</td>\n",
       "    </tr>\n",
       "  </tbody>\n",
       "</table>\n",
       "</div>"
      ],
      "text/plain": [
       "        Age  nodes_detected  Surv_status\n",
       "0 -2.119417       -0.144691            1\n",
       "1 -2.119417       -0.560718            1\n",
       "2 -2.025922       -0.283367            1\n",
       "3 -2.025922       -0.006015            1\n",
       "4 -1.838933        0.826039            1"
      ]
     },
     "execution_count": 607,
     "metadata": {},
     "output_type": "execute_result"
    }
   ],
   "source": [
    "df.head()"
   ]
  },
  {
   "cell_type": "code",
   "execution_count": 608,
   "id": "714692e4",
   "metadata": {},
   "outputs": [
    {
     "data": {
      "text/plain": [
       "<AxesSubplot:>"
      ]
     },
     "execution_count": 608,
     "metadata": {},
     "output_type": "execute_result"
    },
    {
     "data": {
      "image/png": "[encoded data removed]",
      "text/plain": [
       "<Figure size 640x480 with 1 Axes>"
      ]
     },
     "metadata": {},
     "output_type": "display_data"
    }
   ],
   "source": [
    "df.boxplot() # outliers for nodes_detected"
   ]
  },
  {
   "cell_type": "code",
   "execution_count": 609,
   "id": "c04ff8b0",
   "metadata": {},
   "outputs": [],
   "source": [
    "def no_outliers(data): # delete the outliers from nodes_detected column\n",
    "    global df\n",
    "    Q3 = np.quantile(data, 0.75)\n",
    "    Q1 = np.quantile(data, 0.25) \n",
    "    IQR = Q3 - Q1 \n",
    "    lower_range = Q1 - 1.5 * IQR \n",
    "    upper_range = Q3 + 1.5 * IQR\n",
    "    outlier_free_list = [x for x in data if ((x > lower_range) & (x < upper_range))]\n",
    "    filtered_data = df.loc[data.isin(outlier_free_list)]\n",
    "    df = filtered_data # update our dataframe"
   ]
  },
  {
   "cell_type": "code",
   "execution_count": 610,
   "id": "1163c2c2",
   "metadata": {},
   "outputs": [
    {
     "data": {
      "text/plain": [
       "<AxesSubplot:>"
      ]
     },
     "execution_count": 610,
     "metadata": {},
     "output_type": "execute_result"
    },
    {
     "data": {
      "image/png": "[encoded data removed]",
      "text/plain": [
       "<Figure size 640x480 with 1 Axes>"
      ]
     },
     "metadata": {},
     "output_type": "display_data"
    }
   ],
   "source": [
    "df.iloc[:, 0:df.shape[1]-1].boxplot() # before"
   ]
  },
  {
   "cell_type": "code",
   "execution_count": 611,
   "id": "268298a2",
   "metadata": {},
   "outputs": [],
   "source": [
    "no_outliers(df[\"nodes_detected\"])"
   ]
  },
  {
   "cell_type": "code",
   "execution_count": 612,
   "id": "3dfd3370",
   "metadata": {},
   "outputs": [
    {
     "data": {
      "text/plain": [
       "<AxesSubplot:>"
      ]
     },
     "execution_count": 612,
     "metadata": {},
     "output_type": "execute_result"
    },
    {
     "data": {
      "image/png": "[encoded data removed]",
      "text/plain": [
       "<Figure size 640x480 with 1 Axes>"
      ]
     },
     "metadata": {},
     "output_type": "display_data"
    }
   ],
   "source": [
    "df.iloc[:, 0:df.shape[1]-1].boxplot() # after"
   ]
  },
  {
   "cell_type": "code",
   "execution_count": 613,
   "id": "2cc64aed",
   "metadata": {},
   "outputs": [],
   "source": [
    "X_train, X_test, y_train, y_test = train_test_split(df.iloc[:, 0:2], df[\"Surv_status\"], test_size=0.2, random_state=42) # split"
   ]
  },
  {
   "cell_type": "code",
   "execution_count": 614,
   "id": "bb063e46",
   "metadata": {},
   "outputs": [
    {
     "data": {
      "text/plain": [
       "LogisticRegression()"
      ]
     },
     "execution_count": 614,
     "metadata": {},
     "output_type": "execute_result"
    }
   ],
   "source": [
    "model =  LogisticRegression()\n",
    "model.fit(X_train,y_train)"
   ]
  },
  {
   "cell_type": "code",
   "execution_count": 615,
   "id": "4a39ab72",
   "metadata": {},
   "outputs": [
    {
     "data": {
      "text/plain": [
       "0.8133971291866029"
      ]
     },
     "execution_count": 615,
     "metadata": {},
     "output_type": "execute_result"
    }
   ],
   "source": [
    "model.score(X_train,y_train) # accuracy for the train set,  it is 81%"
   ]
  },
  {
   "cell_type": "code",
   "execution_count": 616,
   "id": "9dca99df",
   "metadata": {},
   "outputs": [
    {
     "data": {
      "text/plain": [
       "array([  0,  39,   0, 170], dtype=int64)"
      ]
     },
     "execution_count": 616,
     "metadata": {},
     "output_type": "execute_result"
    }
   ],
   "source": [
    "confusion_matrix(y_train, model.predict(X_train)).ravel() # tn, fp, fn, tp. as we see all -1's were misclassified "
   ]
  },
  {
   "cell_type": "code",
   "execution_count": 617,
   "id": "0322a533",
   "metadata": {},
   "outputs": [
    {
     "data": {
      "text/plain": [
       "0.8133971291866029"
      ]
     },
     "execution_count": 617,
     "metadata": {},
     "output_type": "execute_result"
    }
   ],
   "source": [
    "model =  SVC()\n",
    "model.fit(X_train,y_train)\n",
    "model.score(X_train,y_train) # here same mean accuracy"
   ]
  },
  {
   "cell_type": "code",
   "execution_count": 618,
   "id": "d061a1a8",
   "metadata": {},
   "outputs": [
    {
     "data": {
      "text/plain": [
       "array([  0,  39,   0, 170], dtype=int64)"
      ]
     },
     "execution_count": 618,
     "metadata": {},
     "output_type": "execute_result"
    }
   ],
   "source": [
    "confusion_matrix(y_train, model.predict(X_train)).ravel() # tn, fp, fn, tp, and the same conf matrix"
   ]
  },
  {
   "cell_type": "code",
   "execution_count": 619,
   "id": "c029300a",
   "metadata": {},
   "outputs": [
    {
     "data": {
      "text/plain": [
       "0.7942583732057417"
      ]
     },
     "execution_count": 619,
     "metadata": {},
     "output_type": "execute_result"
    }
   ],
   "source": [
    "model =  SGDClassifier() # try simple SGD class\n",
    "model.fit(X_train,y_train)\n",
    "model.score(X_train,y_train) # a bit lowe mean accuracy"
   ]
  },
  {
   "cell_type": "code",
   "execution_count": 620,
   "id": "0cac3f3e",
   "metadata": {},
   "outputs": [
    {
     "data": {
      "text/plain": [
       "array([  5,  34,   9, 161], dtype=int64)"
      ]
     },
     "execution_count": 620,
     "metadata": {},
     "output_type": "execute_result"
    }
   ],
   "source": [
    "confusion_matrix(y_train, model.predict(X_train)).ravel() # tn, fp, fn, tp. here we also had a mistakes on predcitn the 1's"
   ]
  },
  {
   "cell_type": "code",
   "execution_count": 621,
   "id": "0c244b9c",
   "metadata": {},
   "outputs": [],
   "source": [
    "# it is complicated to say - what model is better here, becasue all of them performed bad on the training set (mistakes)\n",
    "# Hence, we will perform cross vald here, since we have a small dataset\n",
    "# we will use various metrics to estimate the perfromance"
   ]
  },
  {
   "cell_type": "code",
   "execution_count": null,
   "id": "6e72911f",
   "metadata": {},
   "outputs": [],
   "source": []
  },
  {
   "cell_type": "code",
   "execution_count": null,
   "id": "67f8ca04",
   "metadata": {},
   "outputs": [],
   "source": []
  },
  {
   "cell_type": "code",
   "execution_count": 622,
   "id": "5397ae2e",
   "metadata": {},
   "outputs": [],
   "source": [
    "def analyze_class_with_metrics(model,x,y,folds = 5):\n",
    "    d = x\n",
    "    scores = cross_val_score(model, d, y,scoring=\"accuracy\", cv=folds).mean()\n",
    "    scores1 = cross_val_score(model, d, y,scoring=\"precision\", cv=folds).mean()\n",
    "    scores2 = cross_val_score(model, d, y,scoring=\"recall\", cv=folds).mean()\n",
    "    scores3 = cross_val_score(model, d, y,scoring=\"f1\", cv=folds).mean()\n",
    "    scores4 = cross_val_score(model, d, y,scoring=\"roc_auc\", cv=folds).mean()\n",
    "    print(f\"mean accuracy: {scores}\\n mean precision: {scores1}\\n mean recall: {scores2}\\n mean f1 score: {scores3}\\n mean area under the ROC curve: {scores4}\")\n",
    "    return "
   ]
  },
  {
   "cell_type": "code",
   "execution_count": null,
   "id": "7a258c4e",
   "metadata": {},
   "outputs": [],
   "source": []
  },
  {
   "cell_type": "code",
   "execution_count": 623,
   "id": "17a3edd0",
   "metadata": {},
   "outputs": [],
   "source": [
    "model1 =  LogisticRegression() # all 3 models we tried before\n",
    "model2 = SVC()\n",
    "model3 = SGDClassifier()"
   ]
  },
  {
   "cell_type": "code",
   "execution_count": 624,
   "id": "7b786286",
   "metadata": {},
   "outputs": [],
   "source": [
    "d = X_train.iloc[:, 0:X_train.shape[1]-1]"
   ]
  },
  {
   "cell_type": "code",
   "execution_count": 625,
   "id": "5eae250e",
   "metadata": {},
   "outputs": [
    {
     "name": "stdout",
     "output_type": "stream",
     "text": [
      "mean accuracy: 0.8134727061556329\n",
      " mean precision: 0.8134727061556329\n",
      " mean recall: 1.0\n",
      " mean f1 score: 0.8971228070175439\n",
      " mean area under the ROC curve: 0.4373424369747899\n"
     ]
    }
   ],
   "source": [
    "analyze_class_with_metrics(model1, d, y_train) # log regression"
   ]
  },
  {
   "cell_type": "code",
   "execution_count": 626,
   "id": "0181aff3",
   "metadata": {},
   "outputs": [
    {
     "name": "stdout",
     "output_type": "stream",
     "text": [
      "mean accuracy: 0.8134727061556329\n",
      " mean precision: 0.8134727061556329\n",
      " mean recall: 1.0\n",
      " mean f1 score: 0.8971228070175439\n",
      " mean area under the ROC curve: 0.4832457983193278\n"
     ]
    }
   ],
   "source": [
    "analyze_class_with_metrics(model2, d, y_train) # support vec mac"
   ]
  },
  {
   "cell_type": "code",
   "execution_count": 627,
   "id": "f8cd2ca1",
   "metadata": {},
   "outputs": [
    {
     "name": "stdout",
     "output_type": "stream",
     "text": [
      "mean accuracy: 0.7462253193960511\n",
      " mean precision: 0.8108394108394108\n",
      " mean recall: 0.9117647058823529\n",
      " mean f1 score: 0.856140350877193\n",
      " mean area under the ROC curve: 0.46927521008403356\n"
     ]
    }
   ],
   "source": [
    "analyze_class_with_metrics(model3, d, y_train) # simple classifier optimized with SGD"
   ]
  },
  {
   "cell_type": "code",
   "execution_count": 628,
   "id": "a995861a",
   "metadata": {},
   "outputs": [],
   "source": [
    "# analyze metrics"
   ]
  },
  {
   "cell_type": "code",
   "execution_count": 629,
   "id": "31e191b1",
   "metadata": {},
   "outputs": [],
   "source": [
    "# we will not pay a lot of attention on the recall, since its obvious that most of the time it will be high\n",
    "# because our train dataset consists mostly of 1's rahther that -1's, so the model will learn how to classify a 1 pretty well\n",
    "# however SGD classifier has a relatively low recall -722% (in comparison to the others). so, in this case with this model only 72% of surv (1's) were classified as 1, on average\n",
    "# other 2 models have very high recall"
   ]
  },
  {
   "cell_type": "code",
   "execution_count": 630,
   "id": "b56cb9f5",
   "metadata": {},
   "outputs": [],
   "source": [
    "# SGD (shortly - bad model, we not only made a mistakes on -1's but also on predciting 1's)"
   ]
  },
  {
   "cell_type": "code",
   "execution_count": 631,
   "id": "419b2c8e",
   "metadata": {},
   "outputs": [],
   "source": [
    "# as we see, recall for the SGD classifier is a bit lower in comparison to the others. It means that not only this model made a \n",
    "# expected mistaked clasyfing a -1 (because our dataset is unbalanced), but also model made some mistaked classyfing a 1! \n",
    "# in our case only 72% of them (1's) were classified correcly. This \"tough\" theresehold increases percision a bit\n",
    "# since we will be more sure saying 1, but it decreases our recall as well, because of such theresehold a lot of 1's are missclasified\n",
    "# as a result of \"bad\" recall accuracy is also not that high - again because we made mistakes with the 1's.\n",
    "# f1 score, that combines both recall and percison will be lower for this model as well\n",
    "# accuracy is affected not only by false positives here, but also bu false negatives (when 1's were classified as -1's), hence it will be lower here\n",
    "# because other model did not make such mistakes (FN's).\n",
    "# finally, area under the roc curve is close to the 0.5, which is bad! in fact it shows us the following:\n",
    "# if we sort our values in dataframe by age and nodes detected, we would like to see all -1's (our assumption: more age and nodes - death) \n",
    "# and then all 1's continuously. But in our case, we will see mostly a random distribution of our 1's and -1's as a result of sort, or ranking in the other words\n",
    "# meaning that we cannot really distinguish - is it a 1 or -1 only based on the age and nodes_detected! We cannot say that thershold of age, say, 80 and nodes detected = 30,\n",
    "# (big values) will guarantee us to allocate all deaths (-1). In fact, a lot of 1's are also that old and have a lot of nodes detected.\n",
    "# so, ranking based on these 2 values makes no sense here, and our classification is close to be random (50%/50%)\n",
    "#"
   ]
  },
  {
   "cell_type": "code",
   "execution_count": null,
   "id": "2190da5e",
   "metadata": {},
   "outputs": [],
   "source": []
  },
  {
   "cell_type": "code",
   "execution_count": 632,
   "id": "c0e16cf2",
   "metadata": {},
   "outputs": [],
   "source": [
    "# SVC"
   ]
  },
  {
   "cell_type": "code",
   "execution_count": 633,
   "id": "f81b24e4",
   "metadata": {},
   "outputs": [],
   "source": [
    "# this model performed better than SGD classifier. All measurments are higher! Note that percision is almost the same here.\n",
    "# it because its not affected by false negatives (mistakes on the class 1). It also means, that we still make a mistakes\n",
    "# on -1's, actually all 3 models constantly made a mistakes classyfying -1's, but SVC did a good job classyfing 1's - recall of 100%!\n",
    "# all of our surv patients were labled correctly. In the other words, despite we are good at predicting 1's, we will not be that good\n",
    "# with the -1's, and our percision tells us that! We always had some decent amount of false postives (-1's predicted as 1's),\n",
    "# hence that affected our percision. Acually, this is the problem we talked about before - unbalanced dataset! \n",
    "# Because we have small number of -1's, our models will not be able to learn - how allocate them from wast majority of 1's. \n",
    "# Finally, area under the ROC curve is not good - decreasment of 3%. even less sense of ranking here."
   ]
  },
  {
   "cell_type": "code",
   "execution_count": 634,
   "id": "bc469da5",
   "metadata": {},
   "outputs": [],
   "source": [
    "# log regression"
   ]
  },
  {
   "cell_type": "code",
   "execution_count": 635,
   "id": "3e4e51b3",
   "metadata": {},
   "outputs": [],
   "source": [
    "# alsmot the same performance as it was with SVC.\n",
    "# one difference - even lower area under the ROC curve - only 43%!\n",
    "# still, good on classyfying the 1's, very bad at classfyyinhg the -1's. "
   ]
  },
  {
   "cell_type": "code",
   "execution_count": 636,
   "id": "a4e43c46",
   "metadata": {},
   "outputs": [],
   "source": [
    "# I decided to chose the SVC model as our final estimator. all of our models were bad, frankly saying.\n",
    "# but SVC is the golden middle here - better recall and f1 score than for the SGD classifier and bigger area under the ROC curve\n",
    "# than log regression.\n",
    " "
   ]
  },
  {
   "cell_type": "code",
   "execution_count": null,
   "id": "3f6f1f4f",
   "metadata": {},
   "outputs": [],
   "source": []
  },
  {
   "cell_type": "code",
   "execution_count": 637,
   "id": "c3e0bf49",
   "metadata": {},
   "outputs": [
    {
     "data": {
      "text/plain": [
       "SVC()"
      ]
     },
     "execution_count": 637,
     "metadata": {},
     "output_type": "execute_result"
    }
   ],
   "source": [
    "model = SVC() # final model\n",
    "model.fit(X_train, y_train) # train"
   ]
  },
  {
   "cell_type": "code",
   "execution_count": 638,
   "id": "f1d95ba2",
   "metadata": {},
   "outputs": [],
   "source": [
    "def analyze_test(model,x,y): # get our measures\n",
    "    y_hats = model.predict(x)\n",
    "    acc = accuracy_score(y,y_hats)\n",
    "    perc = precision_score(y,y_hats)\n",
    "    f1 = f1_score(y,y_hats)\n",
    "    roc = roc_auc_score(y,y_hats)\n",
    "    recall = recall_score(y,y_hats)\n",
    "    print(f\"accuracy: {acc}\\n percision: {perc}\\n recall: {recall}\\n f1 score: {f1}\\n area under the roc curve: {roc}\")"
   ]
  },
  {
   "cell_type": "code",
   "execution_count": 639,
   "id": "34dd08ea",
   "metadata": {},
   "outputs": [
    {
     "name": "stdout",
     "output_type": "stream",
     "text": [
      "accuracy: 0.660377358490566\n",
      " percision: 0.660377358490566\n",
      " recall: 1.0\n",
      " f1 score: 0.7954545454545454\n",
      " area under the roc curve: 0.5\n"
     ]
    }
   ],
   "source": [
    "analyze_test(model, X_test,y_test)"
   ]
  },
  {
   "cell_type": "code",
   "execution_count": 640,
   "id": "dd5c9b02",
   "metadata": {},
   "outputs": [],
   "source": [
    "# recall is good- 100%! all 1's were labled correctly. But still, we are very bad at classyfing -1's. A lot of false positives\n",
    "# affect our percision badly. Area under the curve is 0.5% - tells us that if we rank our data by age and nodes_detected, the\n",
    "# distr of our Surv rate will be random. We cannot say that some values for age and nodes_detected will help us to distinguish 1's from -1's"
   ]
  },
  {
   "cell_type": "code",
   "execution_count": 641,
   "id": "d450849e",
   "metadata": {},
   "outputs": [],
   "source": [
    "df.insert(3, \"Predictions\", (model.predict(df.iloc[:, 0:2])), True)"
   ]
  },
  {
   "cell_type": "code",
   "execution_count": 642,
   "id": "bb1f176a",
   "metadata": {},
   "outputs": [
    {
     "data": {
      "text/html": [
       "<div>\n",
       "<style scoped>\n",
       "    .dataframe tbody tr th:only-of-type {\n",
       "        vertical-align: middle;\n",
       "    }\n",
       "\n",
       "    .dataframe tbody tr th {\n",
       "        vertical-align: top;\n",
       "    }\n",
       "\n",
       "    .dataframe thead th {\n",
       "        text-align: right;\n",
       "    }\n",
       "</style>\n",
       "<table border=\"1\" class=\"dataframe\">\n",
       "  <thead>\n",
       "    <tr style=\"text-align: right;\">\n",
       "      <th></th>\n",
       "      <th>Age</th>\n",
       "      <th>nodes_detected</th>\n",
       "      <th>Surv_status</th>\n",
       "      <th>Predictions</th>\n",
       "    </tr>\n",
       "  </thead>\n",
       "  <tbody>\n",
       "    <tr>\n",
       "      <th>0</th>\n",
       "      <td>-2.119417</td>\n",
       "      <td>-0.144691</td>\n",
       "      <td>1</td>\n",
       "      <td>1</td>\n",
       "    </tr>\n",
       "    <tr>\n",
       "      <th>1</th>\n",
       "      <td>-2.119417</td>\n",
       "      <td>-0.560718</td>\n",
       "      <td>1</td>\n",
       "      <td>1</td>\n",
       "    </tr>\n",
       "    <tr>\n",
       "      <th>2</th>\n",
       "      <td>-2.025922</td>\n",
       "      <td>-0.283367</td>\n",
       "      <td>1</td>\n",
       "      <td>1</td>\n",
       "    </tr>\n",
       "    <tr>\n",
       "      <th>3</th>\n",
       "      <td>-2.025922</td>\n",
       "      <td>-0.006015</td>\n",
       "      <td>1</td>\n",
       "      <td>1</td>\n",
       "    </tr>\n",
       "    <tr>\n",
       "      <th>4</th>\n",
       "      <td>-1.838933</td>\n",
       "      <td>0.826039</td>\n",
       "      <td>1</td>\n",
       "      <td>1</td>\n",
       "    </tr>\n",
       "  </tbody>\n",
       "</table>\n",
       "</div>"
      ],
      "text/plain": [
       "        Age  nodes_detected  Surv_status  Predictions\n",
       "0 -2.119417       -0.144691            1            1\n",
       "1 -2.119417       -0.560718            1            1\n",
       "2 -2.025922       -0.283367            1            1\n",
       "3 -2.025922       -0.006015            1            1\n",
       "4 -1.838933        0.826039            1            1"
      ]
     },
     "execution_count": 642,
     "metadata": {},
     "output_type": "execute_result"
    }
   ],
   "source": [
    "df.head()"
   ]
  },
  {
   "cell_type": "code",
   "execution_count": 643,
   "id": "564cef82",
   "metadata": {},
   "outputs": [
    {
     "data": {
      "text/html": [
       "<div>\n",
       "<style scoped>\n",
       "    .dataframe tbody tr th:only-of-type {\n",
       "        vertical-align: middle;\n",
       "    }\n",
       "\n",
       "    .dataframe tbody tr th {\n",
       "        vertical-align: top;\n",
       "    }\n",
       "\n",
       "    .dataframe thead th {\n",
       "        text-align: right;\n",
       "    }\n",
       "</style>\n",
       "<table border=\"1\" class=\"dataframe\">\n",
       "  <thead>\n",
       "    <tr style=\"text-align: right;\">\n",
       "      <th></th>\n",
       "      <th>Age</th>\n",
       "      <th>nodes_detected</th>\n",
       "      <th>Surv_status</th>\n",
       "      <th>Predictions</th>\n",
       "    </tr>\n",
       "  </thead>\n",
       "  <tbody>\n",
       "    <tr>\n",
       "      <th>6</th>\n",
       "      <td>-1.745439</td>\n",
       "      <td>-0.560718</td>\n",
       "      <td>-1</td>\n",
       "      <td>1</td>\n",
       "    </tr>\n",
       "    <tr>\n",
       "      <th>30</th>\n",
       "      <td>-1.277966</td>\n",
       "      <td>-0.560718</td>\n",
       "      <td>-1</td>\n",
       "      <td>1</td>\n",
       "    </tr>\n",
       "    <tr>\n",
       "      <th>39</th>\n",
       "      <td>-1.090976</td>\n",
       "      <td>-0.560718</td>\n",
       "      <td>-1</td>\n",
       "      <td>1</td>\n",
       "    </tr>\n",
       "    <tr>\n",
       "      <th>40</th>\n",
       "      <td>-1.090976</td>\n",
       "      <td>-0.560718</td>\n",
       "      <td>-1</td>\n",
       "      <td>1</td>\n",
       "    </tr>\n",
       "    <tr>\n",
       "      <th>48</th>\n",
       "      <td>-0.997482</td>\n",
       "      <td>-0.422043</td>\n",
       "      <td>-1</td>\n",
       "      <td>1</td>\n",
       "    </tr>\n",
       "    <tr>\n",
       "      <th>49</th>\n",
       "      <td>-0.997482</td>\n",
       "      <td>-0.560718</td>\n",
       "      <td>-1</td>\n",
       "      <td>1</td>\n",
       "    </tr>\n",
       "    <tr>\n",
       "      <th>58</th>\n",
       "      <td>-0.903987</td>\n",
       "      <td>-0.283367</td>\n",
       "      <td>-1</td>\n",
       "      <td>1</td>\n",
       "    </tr>\n",
       "    <tr>\n",
       "      <th>59</th>\n",
       "      <td>-0.903987</td>\n",
       "      <td>-0.560718</td>\n",
       "      <td>-1</td>\n",
       "      <td>1</td>\n",
       "    </tr>\n",
       "    <tr>\n",
       "      <th>60</th>\n",
       "      <td>-0.903987</td>\n",
       "      <td>-0.560718</td>\n",
       "      <td>-1</td>\n",
       "      <td>1</td>\n",
       "    </tr>\n",
       "    <tr>\n",
       "      <th>68</th>\n",
       "      <td>-0.810493</td>\n",
       "      <td>0.271336</td>\n",
       "      <td>-1</td>\n",
       "      <td>1</td>\n",
       "    </tr>\n",
       "    <tr>\n",
       "      <th>69</th>\n",
       "      <td>-0.810493</td>\n",
       "      <td>0.687363</td>\n",
       "      <td>-1</td>\n",
       "      <td>1</td>\n",
       "    </tr>\n",
       "    <tr>\n",
       "      <th>75</th>\n",
       "      <td>-0.716998</td>\n",
       "      <td>0.271336</td>\n",
       "      <td>-1</td>\n",
       "      <td>1</td>\n",
       "    </tr>\n",
       "    <tr>\n",
       "      <th>76</th>\n",
       "      <td>-0.716998</td>\n",
       "      <td>-0.560718</td>\n",
       "      <td>-1</td>\n",
       "      <td>1</td>\n",
       "    </tr>\n",
       "    <tr>\n",
       "      <th>77</th>\n",
       "      <td>-0.716998</td>\n",
       "      <td>-0.422043</td>\n",
       "      <td>-1</td>\n",
       "      <td>1</td>\n",
       "    </tr>\n",
       "    <tr>\n",
       "      <th>84</th>\n",
       "      <td>-0.623504</td>\n",
       "      <td>-0.283367</td>\n",
       "      <td>-1</td>\n",
       "      <td>1</td>\n",
       "    </tr>\n",
       "    <tr>\n",
       "      <th>85</th>\n",
       "      <td>-0.623504</td>\n",
       "      <td>-0.144691</td>\n",
       "      <td>-1</td>\n",
       "      <td>1</td>\n",
       "    </tr>\n",
       "    <tr>\n",
       "      <th>86</th>\n",
       "      <td>-0.623504</td>\n",
       "      <td>0.132660</td>\n",
       "      <td>-1</td>\n",
       "      <td>1</td>\n",
       "    </tr>\n",
       "    <tr>\n",
       "      <th>92</th>\n",
       "      <td>-0.530009</td>\n",
       "      <td>-0.560718</td>\n",
       "      <td>-1</td>\n",
       "      <td>1</td>\n",
       "    </tr>\n",
       "    <tr>\n",
       "      <th>93</th>\n",
       "      <td>-0.530009</td>\n",
       "      <td>-0.560718</td>\n",
       "      <td>-1</td>\n",
       "      <td>1</td>\n",
       "    </tr>\n",
       "    <tr>\n",
       "      <th>104</th>\n",
       "      <td>-0.436514</td>\n",
       "      <td>0.410012</td>\n",
       "      <td>-1</td>\n",
       "      <td>1</td>\n",
       "    </tr>\n",
       "    <tr>\n",
       "      <th>109</th>\n",
       "      <td>-0.343020</td>\n",
       "      <td>-0.560718</td>\n",
       "      <td>-1</td>\n",
       "      <td>1</td>\n",
       "    </tr>\n",
       "    <tr>\n",
       "      <th>110</th>\n",
       "      <td>-0.343020</td>\n",
       "      <td>0.826039</td>\n",
       "      <td>-1</td>\n",
       "      <td>1</td>\n",
       "    </tr>\n",
       "    <tr>\n",
       "      <th>120</th>\n",
       "      <td>-0.249525</td>\n",
       "      <td>-0.560718</td>\n",
       "      <td>-1</td>\n",
       "      <td>1</td>\n",
       "    </tr>\n",
       "    <tr>\n",
       "      <th>132</th>\n",
       "      <td>-0.156031</td>\n",
       "      <td>-0.144691</td>\n",
       "      <td>-1</td>\n",
       "      <td>1</td>\n",
       "    </tr>\n",
       "    <tr>\n",
       "      <th>137</th>\n",
       "      <td>-0.062536</td>\n",
       "      <td>-0.144691</td>\n",
       "      <td>-1</td>\n",
       "      <td>1</td>\n",
       "    </tr>\n",
       "    <tr>\n",
       "      <th>138</th>\n",
       "      <td>-0.062536</td>\n",
       "      <td>-0.283367</td>\n",
       "      <td>-1</td>\n",
       "      <td>1</td>\n",
       "    </tr>\n",
       "    <tr>\n",
       "      <th>139</th>\n",
       "      <td>-0.062536</td>\n",
       "      <td>-0.144691</td>\n",
       "      <td>-1</td>\n",
       "      <td>1</td>\n",
       "    </tr>\n",
       "    <tr>\n",
       "      <th>140</th>\n",
       "      <td>-0.062536</td>\n",
       "      <td>-0.006015</td>\n",
       "      <td>-1</td>\n",
       "      <td>1</td>\n",
       "    </tr>\n",
       "    <tr>\n",
       "      <th>151</th>\n",
       "      <td>0.030958</td>\n",
       "      <td>-0.006015</td>\n",
       "      <td>-1</td>\n",
       "      <td>1</td>\n",
       "    </tr>\n",
       "    <tr>\n",
       "      <th>152</th>\n",
       "      <td>0.030958</td>\n",
       "      <td>-0.422043</td>\n",
       "      <td>-1</td>\n",
       "      <td>1</td>\n",
       "    </tr>\n",
       "    <tr>\n",
       "      <th>153</th>\n",
       "      <td>0.030958</td>\n",
       "      <td>-0.144691</td>\n",
       "      <td>-1</td>\n",
       "      <td>1</td>\n",
       "    </tr>\n",
       "    <tr>\n",
       "      <th>154</th>\n",
       "      <td>0.030958</td>\n",
       "      <td>0.687363</td>\n",
       "      <td>-1</td>\n",
       "      <td>1</td>\n",
       "    </tr>\n",
       "    <tr>\n",
       "      <th>164</th>\n",
       "      <td>0.124453</td>\n",
       "      <td>0.132660</td>\n",
       "      <td>-1</td>\n",
       "      <td>1</td>\n",
       "    </tr>\n",
       "    <tr>\n",
       "      <th>165</th>\n",
       "      <td>0.124453</td>\n",
       "      <td>0.410012</td>\n",
       "      <td>-1</td>\n",
       "      <td>1</td>\n",
       "    </tr>\n",
       "    <tr>\n",
       "      <th>175</th>\n",
       "      <td>0.217948</td>\n",
       "      <td>0.271336</td>\n",
       "      <td>-1</td>\n",
       "      <td>1</td>\n",
       "    </tr>\n",
       "    <tr>\n",
       "      <th>185</th>\n",
       "      <td>0.311442</td>\n",
       "      <td>0.687363</td>\n",
       "      <td>-1</td>\n",
       "      <td>1</td>\n",
       "    </tr>\n",
       "    <tr>\n",
       "      <th>186</th>\n",
       "      <td>0.311442</td>\n",
       "      <td>-0.144691</td>\n",
       "      <td>-1</td>\n",
       "      <td>1</td>\n",
       "    </tr>\n",
       "    <tr>\n",
       "      <th>192</th>\n",
       "      <td>0.404937</td>\n",
       "      <td>0.132660</td>\n",
       "      <td>-1</td>\n",
       "      <td>1</td>\n",
       "    </tr>\n",
       "    <tr>\n",
       "      <th>194</th>\n",
       "      <td>0.404937</td>\n",
       "      <td>-0.422043</td>\n",
       "      <td>-1</td>\n",
       "      <td>1</td>\n",
       "    </tr>\n",
       "    <tr>\n",
       "      <th>219</th>\n",
       "      <td>0.685421</td>\n",
       "      <td>-0.560718</td>\n",
       "      <td>-1</td>\n",
       "      <td>1</td>\n",
       "    </tr>\n",
       "    <tr>\n",
       "      <th>224</th>\n",
       "      <td>0.778915</td>\n",
       "      <td>0.132660</td>\n",
       "      <td>-1</td>\n",
       "      <td>1</td>\n",
       "    </tr>\n",
       "    <tr>\n",
       "      <th>225</th>\n",
       "      <td>0.778915</td>\n",
       "      <td>-0.560718</td>\n",
       "      <td>-1</td>\n",
       "      <td>1</td>\n",
       "    </tr>\n",
       "    <tr>\n",
       "      <th>226</th>\n",
       "      <td>0.778915</td>\n",
       "      <td>-0.422043</td>\n",
       "      <td>-1</td>\n",
       "      <td>1</td>\n",
       "    </tr>\n",
       "    <tr>\n",
       "      <th>234</th>\n",
       "      <td>0.872410</td>\n",
       "      <td>-0.560718</td>\n",
       "      <td>-1</td>\n",
       "      <td>1</td>\n",
       "    </tr>\n",
       "    <tr>\n",
       "      <th>240</th>\n",
       "      <td>0.965904</td>\n",
       "      <td>-0.422043</td>\n",
       "      <td>-1</td>\n",
       "      <td>1</td>\n",
       "    </tr>\n",
       "    <tr>\n",
       "      <th>253</th>\n",
       "      <td>1.152893</td>\n",
       "      <td>-0.560718</td>\n",
       "      <td>-1</td>\n",
       "      <td>1</td>\n",
       "    </tr>\n",
       "    <tr>\n",
       "      <th>254</th>\n",
       "      <td>1.152893</td>\n",
       "      <td>-0.283367</td>\n",
       "      <td>-1</td>\n",
       "      <td>1</td>\n",
       "    </tr>\n",
       "    <tr>\n",
       "      <th>263</th>\n",
       "      <td>1.246388</td>\n",
       "      <td>-0.560718</td>\n",
       "      <td>-1</td>\n",
       "      <td>1</td>\n",
       "    </tr>\n",
       "    <tr>\n",
       "      <th>268</th>\n",
       "      <td>1.339883</td>\n",
       "      <td>0.548688</td>\n",
       "      <td>-1</td>\n",
       "      <td>1</td>\n",
       "    </tr>\n",
       "    <tr>\n",
       "      <th>269</th>\n",
       "      <td>1.339883</td>\n",
       "      <td>-0.422043</td>\n",
       "      <td>-1</td>\n",
       "      <td>1</td>\n",
       "    </tr>\n",
       "    <tr>\n",
       "      <th>276</th>\n",
       "      <td>1.526872</td>\n",
       "      <td>0.548688</td>\n",
       "      <td>-1</td>\n",
       "      <td>1</td>\n",
       "    </tr>\n",
       "    <tr>\n",
       "      <th>280</th>\n",
       "      <td>1.620366</td>\n",
       "      <td>-0.560718</td>\n",
       "      <td>-1</td>\n",
       "      <td>1</td>\n",
       "    </tr>\n",
       "    <tr>\n",
       "      <th>281</th>\n",
       "      <td>1.620366</td>\n",
       "      <td>-0.006015</td>\n",
       "      <td>-1</td>\n",
       "      <td>1</td>\n",
       "    </tr>\n",
       "    <tr>\n",
       "      <th>288</th>\n",
       "      <td>1.807356</td>\n",
       "      <td>-0.560718</td>\n",
       "      <td>-1</td>\n",
       "      <td>1</td>\n",
       "    </tr>\n",
       "    <tr>\n",
       "      <th>294</th>\n",
       "      <td>1.994345</td>\n",
       "      <td>-0.144691</td>\n",
       "      <td>-1</td>\n",
       "      <td>1</td>\n",
       "    </tr>\n",
       "    <tr>\n",
       "      <th>299</th>\n",
       "      <td>2.368323</td>\n",
       "      <td>-0.422043</td>\n",
       "      <td>-1</td>\n",
       "      <td>1</td>\n",
       "    </tr>\n",
       "    <tr>\n",
       "      <th>300</th>\n",
       "      <td>2.835796</td>\n",
       "      <td>-0.283367</td>\n",
       "      <td>-1</td>\n",
       "      <td>1</td>\n",
       "    </tr>\n",
       "  </tbody>\n",
       "</table>\n",
       "</div>"
      ],
      "text/plain": [
       "          Age  nodes_detected  Surv_status  Predictions\n",
       "6   -1.745439       -0.560718           -1            1\n",
       "30  -1.277966       -0.560718           -1            1\n",
       "39  -1.090976       -0.560718           -1            1\n",
       "40  -1.090976       -0.560718           -1            1\n",
       "48  -0.997482       -0.422043           -1            1\n",
       "49  -0.997482       -0.560718           -1            1\n",
       "58  -0.903987       -0.283367           -1            1\n",
       "59  -0.903987       -0.560718           -1            1\n",
       "60  -0.903987       -0.560718           -1            1\n",
       "68  -0.810493        0.271336           -1            1\n",
       "69  -0.810493        0.687363           -1            1\n",
       "75  -0.716998        0.271336           -1            1\n",
       "76  -0.716998       -0.560718           -1            1\n",
       "77  -0.716998       -0.422043           -1            1\n",
       "84  -0.623504       -0.283367           -1            1\n",
       "85  -0.623504       -0.144691           -1            1\n",
       "86  -0.623504        0.132660           -1            1\n",
       "92  -0.530009       -0.560718           -1            1\n",
       "93  -0.530009       -0.560718           -1            1\n",
       "104 -0.436514        0.410012           -1            1\n",
       "109 -0.343020       -0.560718           -1            1\n",
       "110 -0.343020        0.826039           -1            1\n",
       "120 -0.249525       -0.560718           -1            1\n",
       "132 -0.156031       -0.144691           -1            1\n",
       "137 -0.062536       -0.144691           -1            1\n",
       "138 -0.062536       -0.283367           -1            1\n",
       "139 -0.062536       -0.144691           -1            1\n",
       "140 -0.062536       -0.006015           -1            1\n",
       "151  0.030958       -0.006015           -1            1\n",
       "152  0.030958       -0.422043           -1            1\n",
       "153  0.030958       -0.144691           -1            1\n",
       "154  0.030958        0.687363           -1            1\n",
       "164  0.124453        0.132660           -1            1\n",
       "165  0.124453        0.410012           -1            1\n",
       "175  0.217948        0.271336           -1            1\n",
       "185  0.311442        0.687363           -1            1\n",
       "186  0.311442       -0.144691           -1            1\n",
       "192  0.404937        0.132660           -1            1\n",
       "194  0.404937       -0.422043           -1            1\n",
       "219  0.685421       -0.560718           -1            1\n",
       "224  0.778915        0.132660           -1            1\n",
       "225  0.778915       -0.560718           -1            1\n",
       "226  0.778915       -0.422043           -1            1\n",
       "234  0.872410       -0.560718           -1            1\n",
       "240  0.965904       -0.422043           -1            1\n",
       "253  1.152893       -0.560718           -1            1\n",
       "254  1.152893       -0.283367           -1            1\n",
       "263  1.246388       -0.560718           -1            1\n",
       "268  1.339883        0.548688           -1            1\n",
       "269  1.339883       -0.422043           -1            1\n",
       "276  1.526872        0.548688           -1            1\n",
       "280  1.620366       -0.560718           -1            1\n",
       "281  1.620366       -0.006015           -1            1\n",
       "288  1.807356       -0.560718           -1            1\n",
       "294  1.994345       -0.144691           -1            1\n",
       "299  2.368323       -0.422043           -1            1\n",
       "300  2.835796       -0.283367           -1            1"
      ]
     },
     "execution_count": 643,
     "metadata": {},
     "output_type": "execute_result"
    }
   ],
   "source": [
    "df.loc[df[\"Surv_status\"] == -1]"
   ]
  },
  {
   "cell_type": "code",
   "execution_count": 644,
   "id": "84bb83a7",
   "metadata": {},
   "outputs": [],
   "source": [
    "# yes, as we can see - all -1's were labled inccorectly! Our model was not able to learn properly - how to distinguish a -1 from 1!\n",
    "# to fix this we simply need more data towards the deaths of our patients (class -1)"
   ]
  }
 ],
 "metadata": {
  "kernelspec": {
   "display_name": "Python 3 (ipykernel)",
   "language": "python",
   "name": "python3"
  },
  "language_info": {
   "codemirror_mode": {
    "name": "ipython",
    "version": 3
   },
   "file_extension": ".py",
   "mimetype": "text/x-python",
   "name": "python",
   "nbconvert_exporter": "python",
   "pygments_lexer": "ipython3",
   "version": "3.9.13"
  }
 },
 "nbformat": 4,
 "nbformat_minor": 5
}
