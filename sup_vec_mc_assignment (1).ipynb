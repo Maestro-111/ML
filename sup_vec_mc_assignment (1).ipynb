{
 "cells": [
  {
   "cell_type": "code",
   "execution_count": 221,
   "id": "cdf3baae",
   "metadata": {},
   "outputs": [],
   "source": [
    "import pandas as pd\n",
    "import numpy as np\n",
    "from sklearn.base import BaseEstimator,TransformerMixin\n",
    "from sklearn.preprocessing import StandardScaler\n",
    "from sklearn.pipeline import Pipeline\n",
    "from sklearn.compose import ColumnTransformer\n",
    "from sklearn.linear_model import Ridge\n",
    "from sklearn.model_selection import RandomizedSearchCV\n",
    "from scipy.stats import uniform\n",
    "from sklearn.linear_model import SGDClassifier\n",
    "from sklearn.model_selection import train_test_split\n",
    "import matplotlib.pyplot as plt\n",
    "from sklearn import svm\n",
    "from sklearn.metrics import accuracy_score\n",
    "from sklearn.metrics import f1_score\n",
    "from sklearn.metrics import roc_auc_score\n",
    "from sklearn.metrics import recall_score\n",
    "from sklearn.metrics import precision_score\n",
    "from sklearn.model_selection import cross_val_score\n",
    "%matplotlib inline"
   ]
  },
  {
   "cell_type": "markdown",
   "id": "69eaf4e5",
   "metadata": {},
   "source": [
    "I declare this is my own work in accordance with Seneca College’s Academic Policies. No part has\n",
    "been copied manually or electronically from any other source (including web sites) or distributed\n",
    "to other students.\n",
    "Name: Elin Huliiev) Student Number: 163890189."
   ]
  },
  {
   "cell_type": "code",
   "execution_count": 222,
   "id": "2c365894",
   "metadata": {},
   "outputs": [],
   "source": [
    "df = pd.read_csv(\"SocialAds.csv\")"
   ]
  },
  {
   "cell_type": "code",
   "execution_count": 223,
   "id": "20e51179",
   "metadata": {},
   "outputs": [
    {
     "data": {
      "text/html": [
       "<div>\n",
       "<style scoped>\n",
       "    .dataframe tbody tr th:only-of-type {\n",
       "        vertical-align: middle;\n",
       "    }\n",
       "\n",
       "    .dataframe tbody tr th {\n",
       "        vertical-align: top;\n",
       "    }\n",
       "\n",
       "    .dataframe thead th {\n",
       "        text-align: right;\n",
       "    }\n",
       "</style>\n",
       "<table border=\"1\" class=\"dataframe\">\n",
       "  <thead>\n",
       "    <tr style=\"text-align: right;\">\n",
       "      <th></th>\n",
       "      <th>Age</th>\n",
       "      <th>EstimatedSalary</th>\n",
       "      <th>Purchased</th>\n",
       "    </tr>\n",
       "  </thead>\n",
       "  <tbody>\n",
       "    <tr>\n",
       "      <th>0</th>\n",
       "      <td>19.0</td>\n",
       "      <td>19000.0</td>\n",
       "      <td>0</td>\n",
       "    </tr>\n",
       "    <tr>\n",
       "      <th>1</th>\n",
       "      <td>35.0</td>\n",
       "      <td>20000.0</td>\n",
       "      <td>0</td>\n",
       "    </tr>\n",
       "    <tr>\n",
       "      <th>2</th>\n",
       "      <td>26.0</td>\n",
       "      <td>43000.0</td>\n",
       "      <td>0</td>\n",
       "    </tr>\n",
       "    <tr>\n",
       "      <th>3</th>\n",
       "      <td>27.0</td>\n",
       "      <td>57000.0</td>\n",
       "      <td>0</td>\n",
       "    </tr>\n",
       "    <tr>\n",
       "      <th>4</th>\n",
       "      <td>19.0</td>\n",
       "      <td>76000.0</td>\n",
       "      <td>0</td>\n",
       "    </tr>\n",
       "    <tr>\n",
       "      <th>...</th>\n",
       "      <td>...</td>\n",
       "      <td>...</td>\n",
       "      <td>...</td>\n",
       "    </tr>\n",
       "    <tr>\n",
       "      <th>395</th>\n",
       "      <td>46.0</td>\n",
       "      <td>41000.0</td>\n",
       "      <td>1</td>\n",
       "    </tr>\n",
       "    <tr>\n",
       "      <th>396</th>\n",
       "      <td>51.0</td>\n",
       "      <td>23000.0</td>\n",
       "      <td>1</td>\n",
       "    </tr>\n",
       "    <tr>\n",
       "      <th>397</th>\n",
       "      <td>50.0</td>\n",
       "      <td>20000.0</td>\n",
       "      <td>1</td>\n",
       "    </tr>\n",
       "    <tr>\n",
       "      <th>398</th>\n",
       "      <td>36.0</td>\n",
       "      <td>33000.0</td>\n",
       "      <td>0</td>\n",
       "    </tr>\n",
       "    <tr>\n",
       "      <th>399</th>\n",
       "      <td>49.0</td>\n",
       "      <td>36000.0</td>\n",
       "      <td>1</td>\n",
       "    </tr>\n",
       "  </tbody>\n",
       "</table>\n",
       "<p>400 rows × 3 columns</p>\n",
       "</div>"
      ],
      "text/plain": [
       "      Age  EstimatedSalary  Purchased\n",
       "0    19.0          19000.0          0\n",
       "1    35.0          20000.0          0\n",
       "2    26.0          43000.0          0\n",
       "3    27.0          57000.0          0\n",
       "4    19.0          76000.0          0\n",
       "..    ...              ...        ...\n",
       "395  46.0          41000.0          1\n",
       "396  51.0          23000.0          1\n",
       "397  50.0          20000.0          1\n",
       "398  36.0          33000.0          0\n",
       "399  49.0          36000.0          1\n",
       "\n",
       "[400 rows x 3 columns]"
      ]
     },
     "execution_count": 223,
     "metadata": {},
     "output_type": "execute_result"
    }
   ],
   "source": [
    "df"
   ]
  },
  {
   "cell_type": "code",
   "execution_count": 224,
   "id": "4c46a310",
   "metadata": {},
   "outputs": [
    {
     "data": {
      "text/plain": [
       "6"
      ]
     },
     "execution_count": 224,
     "metadata": {},
     "output_type": "execute_result"
    }
   ],
   "source": [
    "np.count_nonzero(df.isnull()) "
   ]
  },
  {
   "cell_type": "code",
   "execution_count": 225,
   "id": "cb533a48",
   "metadata": {},
   "outputs": [
    {
     "data": {
      "text/plain": [
       "<pandas.core.groupby.generic.DataFrameGroupBy object at 0x0000019B3B0C94F0>"
      ]
     },
     "execution_count": 225,
     "metadata": {},
     "output_type": "execute_result"
    }
   ],
   "source": [
    "df.groupby(\"Purchased\")"
   ]
  },
  {
   "cell_type": "code",
   "execution_count": 226,
   "id": "6b8b230d",
   "metadata": {},
   "outputs": [],
   "source": [
    "# we'd like to replace the nulls with the mean of each feature, but objects of the different classes (0 or 1) can have different\n",
    "# means for each attr. Thus, we will group by their class and use pandas transform to fill nulls with their mean"
   ]
  },
  {
   "cell_type": "code",
   "execution_count": 227,
   "id": "eb088d9d",
   "metadata": {},
   "outputs": [],
   "source": [
    "def fill_na(s): # s will be a chunk of the group by object\n",
    "    avg = s.mean()\n",
    "    return(s.fillna(avg))"
   ]
  },
  {
   "cell_type": "code",
   "execution_count": 228,
   "id": "e72a4586",
   "metadata": {},
   "outputs": [],
   "source": [
    "for col in df.columns:\n",
    "    df[col] = df.groupby(\"Purchased\")[col].transform(fill_na)"
   ]
  },
  {
   "cell_type": "code",
   "execution_count": 229,
   "id": "6be2b113",
   "metadata": {},
   "outputs": [
    {
     "data": {
      "text/plain": [
       "0"
      ]
     },
     "execution_count": 229,
     "metadata": {},
     "output_type": "execute_result"
    }
   ],
   "source": [
    "np.count_nonzero(df.isnull()) # clean"
   ]
  },
  {
   "cell_type": "code",
   "execution_count": 230,
   "id": "9f3ca561",
   "metadata": {},
   "outputs": [
    {
     "data": {
      "text/html": [
       "<div>\n",
       "<style scoped>\n",
       "    .dataframe tbody tr th:only-of-type {\n",
       "        vertical-align: middle;\n",
       "    }\n",
       "\n",
       "    .dataframe tbody tr th {\n",
       "        vertical-align: top;\n",
       "    }\n",
       "\n",
       "    .dataframe thead th {\n",
       "        text-align: right;\n",
       "    }\n",
       "</style>\n",
       "<table border=\"1\" class=\"dataframe\">\n",
       "  <thead>\n",
       "    <tr style=\"text-align: right;\">\n",
       "      <th></th>\n",
       "      <th>Age</th>\n",
       "      <th>EstimatedSalary</th>\n",
       "      <th>Purchased</th>\n",
       "    </tr>\n",
       "  </thead>\n",
       "  <tbody>\n",
       "    <tr>\n",
       "      <th>0</th>\n",
       "      <td>19.0</td>\n",
       "      <td>19000.0</td>\n",
       "      <td>0</td>\n",
       "    </tr>\n",
       "    <tr>\n",
       "      <th>1</th>\n",
       "      <td>35.0</td>\n",
       "      <td>20000.0</td>\n",
       "      <td>0</td>\n",
       "    </tr>\n",
       "    <tr>\n",
       "      <th>2</th>\n",
       "      <td>26.0</td>\n",
       "      <td>43000.0</td>\n",
       "      <td>0</td>\n",
       "    </tr>\n",
       "    <tr>\n",
       "      <th>3</th>\n",
       "      <td>27.0</td>\n",
       "      <td>57000.0</td>\n",
       "      <td>0</td>\n",
       "    </tr>\n",
       "    <tr>\n",
       "      <th>4</th>\n",
       "      <td>19.0</td>\n",
       "      <td>76000.0</td>\n",
       "      <td>0</td>\n",
       "    </tr>\n",
       "    <tr>\n",
       "      <th>...</th>\n",
       "      <td>...</td>\n",
       "      <td>...</td>\n",
       "      <td>...</td>\n",
       "    </tr>\n",
       "    <tr>\n",
       "      <th>395</th>\n",
       "      <td>46.0</td>\n",
       "      <td>41000.0</td>\n",
       "      <td>1</td>\n",
       "    </tr>\n",
       "    <tr>\n",
       "      <th>396</th>\n",
       "      <td>51.0</td>\n",
       "      <td>23000.0</td>\n",
       "      <td>1</td>\n",
       "    </tr>\n",
       "    <tr>\n",
       "      <th>397</th>\n",
       "      <td>50.0</td>\n",
       "      <td>20000.0</td>\n",
       "      <td>1</td>\n",
       "    </tr>\n",
       "    <tr>\n",
       "      <th>398</th>\n",
       "      <td>36.0</td>\n",
       "      <td>33000.0</td>\n",
       "      <td>0</td>\n",
       "    </tr>\n",
       "    <tr>\n",
       "      <th>399</th>\n",
       "      <td>49.0</td>\n",
       "      <td>36000.0</td>\n",
       "      <td>1</td>\n",
       "    </tr>\n",
       "  </tbody>\n",
       "</table>\n",
       "<p>400 rows × 3 columns</p>\n",
       "</div>"
      ],
      "text/plain": [
       "      Age  EstimatedSalary  Purchased\n",
       "0    19.0          19000.0          0\n",
       "1    35.0          20000.0          0\n",
       "2    26.0          43000.0          0\n",
       "3    27.0          57000.0          0\n",
       "4    19.0          76000.0          0\n",
       "..    ...              ...        ...\n",
       "395  46.0          41000.0          1\n",
       "396  51.0          23000.0          1\n",
       "397  50.0          20000.0          1\n",
       "398  36.0          33000.0          0\n",
       "399  49.0          36000.0          1\n",
       "\n",
       "[400 rows x 3 columns]"
      ]
     },
     "execution_count": 230,
     "metadata": {},
     "output_type": "execute_result"
    }
   ],
   "source": [
    "df"
   ]
  },
  {
   "cell_type": "code",
   "execution_count": 231,
   "id": "07f4cb7b",
   "metadata": {},
   "outputs": [
    {
     "data": {
      "text/plain": [
       "array([[<AxesSubplot:title={'center':'Age'}>,\n",
       "        <AxesSubplot:title={'center':'EstimatedSalary'}>],\n",
       "       [<AxesSubplot:title={'center':'Purchased'}>, <AxesSubplot:>]],\n",
       "      dtype=object)"
      ]
     },
     "execution_count": 231,
     "metadata": {},
     "output_type": "execute_result"
    },
    {
     "data": {
      "image/png": "[encoded data removed]",
      "text/plain": [
       "<Figure size 640x480 with 4 Axes>"
      ]
     },
     "metadata": {},
     "output_type": "display_data"
    }
   ],
   "source": [
    "df.hist() # seems that our dataset is unbalanced again: more 0's than 1's. We will see the consequences via percision and recall\n"
   ]
  },
  {
   "cell_type": "code",
   "execution_count": 232,
   "id": "a636bc83",
   "metadata": {},
   "outputs": [
    {
     "data": {
      "image/png": "[encoded data removed]",
      "text/plain": [
       "<Figure size 640x480 with 1 Axes>"
      ]
     },
     "metadata": {},
     "output_type": "display_data"
    }
   ],
   "source": [
    "\n",
    "plt.boxplot(df[\"Age\"])\n",
    "plt.show()"
   ]
  },
  {
   "cell_type": "code",
   "execution_count": 233,
   "id": "de49bb44",
   "metadata": {},
   "outputs": [
    {
     "data": {
      "image/png": "[encoded data removed]",
      "text/plain": [
       "<Figure size 640x480 with 1 Axes>"
      ]
     },
     "metadata": {},
     "output_type": "display_data"
    }
   ],
   "source": [
    "plt.boxplot(df[\"EstimatedSalary\"])\n",
    "plt.show()"
   ]
  },
  {
   "cell_type": "code",
   "execution_count": 234,
   "id": "accb0da5",
   "metadata": {},
   "outputs": [],
   "source": [
    "# it does not seem that our data is very skewed, although we have a hint for some skewness for EstimatedSalary "
   ]
  },
  {
   "cell_type": "code",
   "execution_count": 235,
   "id": "ba16b7e9",
   "metadata": {},
   "outputs": [],
   "source": [
    "class OutlierRemover(BaseEstimator,TransformerMixin): # our own class to remove outliers - we will insert it to the pipeline\n",
    "    \n",
    "    def __init__(self,factor=1.5):\n",
    "        self.factor = factor # higher the factor, extreme would be the outliers removed.\n",
    "        \n",
    "    def outlier_detector(self,X,y=None):\n",
    "        X = pd.Series(X).copy()\n",
    "        q1 = X.quantile(0.25)\n",
    "        q3 = X.quantile(0.75)\n",
    "        iqr = q3 - q1\n",
    "        self.lower_bound.append(q1 - (self.factor * iqr)) \n",
    "        self.upper_bound.append(q3 + (self.factor * iqr))\n",
    "        self.median.append(X.median())\n",
    "\n",
    "    def fit(self,X,y=None): # for each coulmn we will append corresponding boundary and the median value\n",
    "        self.median = []\n",
    "        self.lower_bound = []\n",
    "        self.upper_bound = []\n",
    "        X.apply(self.outlier_detector)\n",
    "        return self\n",
    "    \n",
    "    def transform(self,X,y=None): # then, with transform we will check is a value goes beyond the boundary, if so we replace it\n",
    "        X = pd.DataFrame(X).copy()\n",
    "        for i in range(X.shape[1]):\n",
    "            x = X.iloc[:, i].copy() # change the copy\n",
    "            x[(x < self.lower_bound[i]) | (x > self.upper_bound[i])] = self.median[i] # replace outliers with the median\n",
    "            X.iloc[:, i] = x # make the column copy\n",
    "\n",
    "        return X # our transformed df"
   ]
  },
  {
   "cell_type": "code",
   "execution_count": 236,
   "id": "f9b1da12",
   "metadata": {},
   "outputs": [],
   "source": [
    "factors = list(range(11)) # factors for our outlier class\n",
    "\n",
    "# now, define a grid for params search for our SVC pipeline.\n",
    "\n",
    "param_grid = {'outlier_removal__outlier_remover__factor':factors, \\\n",
    "              \"SVC__kernel\":['linear', 'poly', 'rbf', 'sigmoid'],\n",
    "              \"SVC__C\":uniform(loc=1, scale=5), # reg param\n",
    "             } "
   ]
  },
  {
   "cell_type": "code",
   "execution_count": 237,
   "id": "0cd39e9d",
   "metadata": {},
   "outputs": [],
   "source": [
    "# lets form our pipelines, each will include normalizer, outlier detection class instance and final estimator (model)\n",
    "\n",
    "\n",
    "\n",
    "ct = ColumnTransformer(transformers=[['outlier_remover',OutlierRemover(),list(range(df.shape[1]-1))]])\n",
    "\n",
    "# we have to specify which columns (with indices) will be transformed. We dont really want to remove outliers from [0,1] class (Purchased)\n",
    "\n",
    "pipe1 = Pipeline(steps=[['outlier_removal',ct], ['scalar', StandardScaler()], ['hard_marg_svc',svm.LinearSVC() ]]) \n",
    "pipe2 = Pipeline(steps=[['outlier_removal',ct], ['scalar', StandardScaler()], ['soft_marg_svc',svm.SVC(kernel='linear')]]) \n",
    "pipe3 = Pipeline(steps=[['outlier_removal',ct], ['scalar', StandardScaler()], ['SGD',SGDClassifier(loss= \"hinge\")]]) \n",
    "pipe4 = Pipeline(steps=[['outlier_removal',ct], ['scalar', StandardScaler()], ['hard_marg_svc_rbf',svm.SVC(kernel='rbf',random_state=0)]])\n",
    "pipe5 = Pipeline(steps=[['outlier_removal',ct], ['scalar', StandardScaler()], ['SVC',svm.SVC()]])\n",
    "\n",
    "lst_of_pipes =  [pipe1,pipe2,pipe3,pipe4]\n",
    "\n",
    "# our randomized search for the 5th pipeline\n",
    "gs = RandomizedSearchCV(estimator= pipe5, param_distributions  = param_grid, scoring='accuracy', cv = 5,random_state=42)\n",
    "\n"
   ]
  },
  {
   "cell_type": "code",
   "execution_count": 238,
   "id": "db0521da",
   "metadata": {},
   "outputs": [],
   "source": [
    "def analyze_class_with_metrics(model,x,y,folds = 5): # display all mettrics for the pipelines\n",
    "    d = x\n",
    "    print(f\"model: {model.steps[-1][0]}\")\n",
    "    scores = cross_val_score(model, d, y,scoring=\"accuracy\", cv=folds).mean() # use cross valid since our dataset is not that big\n",
    "    scores1 = cross_val_score(model, d, y,scoring=\"precision\", cv=folds).mean()\n",
    "    scores2 = cross_val_score(model, d, y,scoring=\"recall\", cv=folds).mean()\n",
    "    scores3 = cross_val_score(model, d, y,scoring=\"f1\", cv=folds).mean()\n",
    "    scores4 = cross_val_score(model, d, y,scoring=\"roc_auc\", cv=folds).mean()\n",
    "    print(f\"mean accuracy: {scores}\\n mean precision: {scores1}\\n mean recall: {scores2}\\n mean f1 score: {scores3}\\n mean area under the ROC curve: {scores4}\")\n",
    "    return "
   ]
  },
  {
   "cell_type": "code",
   "execution_count": 239,
   "id": "fba5af50",
   "metadata": {},
   "outputs": [],
   "source": [
    "X_train, X_test, y_train, y_test = train_test_split(df.iloc[:, 0:df.shape[1]-1], df[\"Purchased\"], test_size=0.33, random_state=42)"
   ]
  },
  {
   "cell_type": "code",
   "execution_count": 240,
   "id": "da4bdafc",
   "metadata": {},
   "outputs": [],
   "source": [
    "# note that hard margin SVC does not allow any fines towards the margin and the width of the dividing strip between support vectors\n",
    "# while with soft margin we set this \"fine\" (or epsilon), thus letting our classifer to make some mistakes, \n",
    "# like with soft SVC margin has to >= 1, but for soft SVC it can be >= 1 - epsilon (basically fine)"
   ]
  },
  {
   "cell_type": "code",
   "execution_count": 241,
   "id": "b5c4baa7",
   "metadata": {},
   "outputs": [
    {
     "name": "stdout",
     "output_type": "stream",
     "text": [
      "model: hard_marg_svc\n",
      "mean accuracy: 0.8170510132774285\n",
      " mean precision: 0.811888111888112\n",
      " mean recall: 0.6152046783625731\n",
      " mean f1 score: 0.6916594633872517\n",
      " mean area under the ROC curve: 0.9109992574027663\n",
      "\n",
      "model: soft_marg_svc\n",
      "mean accuracy: 0.820754716981132\n",
      " mean precision: 0.8316572316572317\n",
      " mean recall: 0.6046783625730994\n",
      " mean f1 score: 0.6946854529724386\n",
      " mean area under the ROC curve: 0.9079216559918315\n",
      "\n",
      "model: SGD\n",
      "mean accuracy: 0.8394828791055206\n",
      " mean precision: 0.7922574157868275\n",
      " mean recall: 0.85906432748538\n",
      " mean f1 score: 0.6543257103257102\n",
      " mean area under the ROC curve: 0.8586484730344379\n",
      "\n",
      "model: hard_marg_svc_rbf\n",
      "mean accuracy: 0.8842068483577916\n",
      " mean precision: 0.8259896800825594\n",
      " mean recall: 0.8573099415204677\n",
      " mean f1 score: 0.8356479723921584\n",
      " mean area under the ROC curve: 0.9350761162164671\n",
      "\n"
     ]
    }
   ],
   "source": [
    "for pipe in lst_of_pipes:\n",
    "    analyze_class_with_metrics(pipe, X_train, y_train)\n",
    "    print()"
   ]
  },
  {
   "cell_type": "code",
   "execution_count": 242,
   "id": "612062a6",
   "metadata": {},
   "outputs": [],
   "source": [
    "# as we can see, SVC with rbf kernel gave the best performance:\n",
    "# it has the best mean accuracy and area under the ROC curve is almost 100% (1) - 93%.\n",
    "# Besides, we see that both percision and recall are satisfying in comparison with the others (as a result f1 score is also the best)\n",
    "# meaning that our model is good in both recognizing 1's and 0's\n",
    "\n",
    "\n",
    "# clearly, we have to add extra dimensions (add extra features) to build an optimal hyperplane (from SVC point of view, of course).\n",
    "# SVC with linear kernel (where we did not add any extra features) gave us worse performance rather than SVC with rbf kernel.\n",
    "\n",
    "# So, conclusion as from now: we have to add more features (with kernels) to improve the quality of model.\n"
   ]
  },
  {
   "cell_type": "code",
   "execution_count": 243,
   "id": "64e0e791",
   "metadata": {},
   "outputs": [],
   "source": [
    "# As for the other models:\n",
    "\n",
    "# hard margin  SVC gave us good accuracy, but if we look closer on recall thins are not so great!\n",
    "# only 60% of 1's were correcly classified, meaning that there were a lot of false negatives!\n",
    "# percision is good, because our model was able to properly distinguish 0's from 1's (but not vice versa), \n",
    "# hence amount of false positives will be low.\n",
    "     \n",
    "# in the other words, when model says \"0\" - most of the times it will be right, so the amount of false positives will be low,\n",
    "# thus percision will be not that bad. But again, recall is not looking good!\n",
    "\n",
    "# and this pattern (basically, consequence of the unbalanced dataset) is present for each model, except for the last one (with rbf kernel)\n",
    "# generally good accuracy but low (relatively) recall, meaning that we are bad at learning how to distinguish 1 from 0\n",
    "# but good vice versa\n"
   ]
  },
  {
   "cell_type": "code",
   "execution_count": 244,
   "id": "3389f57b",
   "metadata": {},
   "outputs": [],
   "source": [
    "# we found out that we have to set something else but not \"linear\" for kernel in SVC to improve the quality of our model\n",
    "# also, we can find optimal reg parametr (controling how wide dividing strip is going to be, lower the C value - wider the gap)\n",
    "# finally, we can also try to find optimal factor for outliers detection\n",
    "\n",
    "\n",
    "# rand grid search can help us to imporve our model (find optimal hypers from our grid)"
   ]
  },
  {
   "cell_type": "code",
   "execution_count": 245,
   "id": "7265d9c1",
   "metadata": {},
   "outputs": [],
   "source": [
    "gs.fit(X_train,y_train) # run our randomized search\n",
    "d = gs.best_params_"
   ]
  },
  {
   "cell_type": "code",
   "execution_count": 246,
   "id": "d8372984",
   "metadata": {},
   "outputs": [
    {
     "data": {
      "text/plain": [
       "{'SVC__C': 3.229163764267956,\n",
       " 'SVC__kernel': 'rbf',\n",
       " 'outlier_removal__outlier_remover__factor': 10}"
      ]
     },
     "execution_count": 246,
     "metadata": {},
     "output_type": "execute_result"
    }
   ],
   "source": [
    "d # optimal, at least from our grid"
   ]
  },
  {
   "cell_type": "code",
   "execution_count": null,
   "id": "e6b77cc8",
   "metadata": {},
   "outputs": [],
   "source": []
  },
  {
   "cell_type": "code",
   "execution_count": null,
   "id": "21f28f60",
   "metadata": {},
   "outputs": [],
   "source": []
  },
  {
   "cell_type": "code",
   "execution_count": 247,
   "id": "a7c39f27",
   "metadata": {},
   "outputs": [],
   "source": [
    "reg = d[\"SVC__C\"]\n",
    "ker = d[\"SVC__kernel\"]\n",
    "factor = d[\"outlier_removal__outlier_remover__factor\"]"
   ]
  },
  {
   "cell_type": "code",
   "execution_count": 248,
   "id": "dd2aebbe",
   "metadata": {},
   "outputs": [],
   "source": [
    "# redifine our column trans with new factor (instead of default 1.5) and redifine our 5th pipe with the new params\n",
    "\n",
    "ct1 = ColumnTransformer(transformers=[['outlier_remover',OutlierRemover(factor),list(range(df.shape[1]-1))]])\n",
    "pipe5 = Pipeline(steps=[['outlier_removal',ct1], ['scalar', StandardScaler()], ['SVC',svm.SVC(kernel = ker, C=reg)]])"
   ]
  },
  {
   "cell_type": "code",
   "execution_count": 249,
   "id": "5cb58f74",
   "metadata": {},
   "outputs": [
    {
     "data": {
      "text/plain": [
       "Pipeline(steps=[('outlier_removal',\n",
       "                 ColumnTransformer(transformers=[['outlier_remover',\n",
       "                                                  OutlierRemover(factor=10),\n",
       "                                                  [0, 1]]])),\n",
       "                ('scalar', StandardScaler()),\n",
       "                ['SVC', SVC(C=3.229163764267956)]])"
      ]
     },
     "execution_count": 249,
     "metadata": {},
     "output_type": "execute_result"
    }
   ],
   "source": [
    "pipe5.fit(X_train, y_train) # train the pipe"
   ]
  },
  {
   "cell_type": "code",
   "execution_count": 250,
   "id": "be0d99fd",
   "metadata": {},
   "outputs": [
    {
     "name": "stdout",
     "output_type": "stream",
     "text": [
      "model: SVC\n",
      "mean accuracy: 0.8916142557651991\n",
      " mean precision: 0.8295611086539878\n",
      " mean recall: 0.8789473684210527\n",
      " mean f1 score: 0.848675533066778\n",
      " mean area under the ROC curve: 0.9463552399517312\n"
     ]
    }
   ],
   "source": [
    "analyze_class_with_metrics(pipe5, X_train, y_train)"
   ]
  },
  {
   "cell_type": "code",
   "execution_count": 251,
   "id": "7b1762be",
   "metadata": {},
   "outputs": [],
   "source": [
    "# this is even better than SVC just with rbf!\n",
    "# better accuracy and area uder the curve\n",
    "# also, recall's got even higher: 87%.\n",
    "\n",
    "# In my opinion, this model is the best among the others"
   ]
  },
  {
   "cell_type": "code",
   "execution_count": null,
   "id": "98cd2e0c",
   "metadata": {},
   "outputs": [],
   "source": []
  },
  {
   "cell_type": "code",
   "execution_count": 252,
   "id": "8d2ec83a",
   "metadata": {},
   "outputs": [],
   "source": [
    "hats = pipe5.predict(X_test) # lets see how model performs on the test set"
   ]
  },
  {
   "cell_type": "code",
   "execution_count": 253,
   "id": "2eb15c04",
   "metadata": {},
   "outputs": [],
   "source": [
    "def see_t(actual, preds):\n",
    "    scores = accuracy_score(y_test,hats)\n",
    "    scores1 = precision_score(y_test,hats)\n",
    "    scores2 =  recall_score(y_test,hats)\n",
    "    scores3 =  f1_score(y_test,hats)\n",
    "    scores4 =  roc_auc_score(y_test,hats)\n",
    "    print(f\"accuracy: {scores}\\nprecision: {scores1}\\nrecall: {scores2}\\nf1 score: {scores3}\\narea under the ROC curve: {scores4}\")\n",
    "    return "
   ]
  },
  {
   "cell_type": "code",
   "execution_count": 254,
   "id": "3ab695c5",
   "metadata": {},
   "outputs": [
    {
     "name": "stdout",
     "output_type": "stream",
     "text": [
      "accuracy: 0.9545454545454546\n",
      "precision: 0.9107142857142857\n",
      "recall: 0.9807692307692307\n",
      "f1 score: 0.9444444444444444\n",
      "area under the ROC curve: 0.9591346153846154\n"
     ]
    }
   ],
   "source": [
    "see_t(y_test, hats)"
   ]
  },
  {
   "cell_type": "code",
   "execution_count": 255,
   "id": "a881378c",
   "metadata": {},
   "outputs": [],
   "source": [
    "# we got very good measurments, all of them are above 85%!\n",
    "# lets compare it to the SVC just with rbf kernel"
   ]
  },
  {
   "cell_type": "code",
   "execution_count": null,
   "id": "0b914456",
   "metadata": {},
   "outputs": [],
   "source": []
  },
  {
   "cell_type": "code",
   "execution_count": 256,
   "id": "bddb1908",
   "metadata": {},
   "outputs": [
    {
     "name": "stdout",
     "output_type": "stream",
     "text": [
      "accuracy: 0.946969696969697\n",
      "precision: 0.9090909090909091\n",
      "recall: 0.9615384615384616\n",
      "f1 score: 0.9345794392523366\n",
      "area under the ROC curve: 0.9495192307692308\n"
     ]
    }
   ],
   "source": [
    "pipe4.fit(X_train, y_train)\n",
    "hats = pipe4.predict(X_test)\n",
    "see_t(y_test, hats)"
   ]
  },
  {
   "cell_type": "code",
   "execution_count": 257,
   "id": "8707819e",
   "metadata": {},
   "outputs": [],
   "source": [
    "# and we see that the pipe (model), with optimal hyper params performed better."
   ]
  },
  {
   "cell_type": "code",
   "execution_count": 258,
   "id": "323af1db",
   "metadata": {},
   "outputs": [],
   "source": [
    "#finally, lets add predicions column to the datset"
   ]
  },
  {
   "cell_type": "code",
   "execution_count": 259,
   "id": "90571845",
   "metadata": {},
   "outputs": [],
   "source": [
    "hats = pipe5.predict(df[[\"Age\", \"EstimatedSalary\"]])"
   ]
  },
  {
   "cell_type": "code",
   "execution_count": 260,
   "id": "f98acd01",
   "metadata": {},
   "outputs": [],
   "source": [
    "df[\"Preds\"] = hats"
   ]
  },
  {
   "cell_type": "code",
   "execution_count": 261,
   "id": "bd0649a2",
   "metadata": {},
   "outputs": [
    {
     "data": {
      "text/html": [
       "<div>\n",
       "<style scoped>\n",
       "    .dataframe tbody tr th:only-of-type {\n",
       "        vertical-align: middle;\n",
       "    }\n",
       "\n",
       "    .dataframe tbody tr th {\n",
       "        vertical-align: top;\n",
       "    }\n",
       "\n",
       "    .dataframe thead th {\n",
       "        text-align: right;\n",
       "    }\n",
       "</style>\n",
       "<table border=\"1\" class=\"dataframe\">\n",
       "  <thead>\n",
       "    <tr style=\"text-align: right;\">\n",
       "      <th></th>\n",
       "      <th>Age</th>\n",
       "      <th>EstimatedSalary</th>\n",
       "      <th>Purchased</th>\n",
       "      <th>Preds</th>\n",
       "    </tr>\n",
       "  </thead>\n",
       "  <tbody>\n",
       "    <tr>\n",
       "      <th>0</th>\n",
       "      <td>19.000000</td>\n",
       "      <td>19000.000000</td>\n",
       "      <td>0</td>\n",
       "      <td>0</td>\n",
       "    </tr>\n",
       "    <tr>\n",
       "      <th>1</th>\n",
       "      <td>35.000000</td>\n",
       "      <td>20000.000000</td>\n",
       "      <td>0</td>\n",
       "      <td>0</td>\n",
       "    </tr>\n",
       "    <tr>\n",
       "      <th>2</th>\n",
       "      <td>26.000000</td>\n",
       "      <td>43000.000000</td>\n",
       "      <td>0</td>\n",
       "      <td>0</td>\n",
       "    </tr>\n",
       "    <tr>\n",
       "      <th>3</th>\n",
       "      <td>27.000000</td>\n",
       "      <td>57000.000000</td>\n",
       "      <td>0</td>\n",
       "      <td>0</td>\n",
       "    </tr>\n",
       "    <tr>\n",
       "      <th>4</th>\n",
       "      <td>19.000000</td>\n",
       "      <td>76000.000000</td>\n",
       "      <td>0</td>\n",
       "      <td>0</td>\n",
       "    </tr>\n",
       "    <tr>\n",
       "      <th>5</th>\n",
       "      <td>27.000000</td>\n",
       "      <td>60594.488189</td>\n",
       "      <td>0</td>\n",
       "      <td>0</td>\n",
       "    </tr>\n",
       "    <tr>\n",
       "      <th>6</th>\n",
       "      <td>27.000000</td>\n",
       "      <td>84000.000000</td>\n",
       "      <td>0</td>\n",
       "      <td>0</td>\n",
       "    </tr>\n",
       "    <tr>\n",
       "      <th>7</th>\n",
       "      <td>32.000000</td>\n",
       "      <td>150000.000000</td>\n",
       "      <td>1</td>\n",
       "      <td>1</td>\n",
       "    </tr>\n",
       "    <tr>\n",
       "      <th>8</th>\n",
       "      <td>25.000000</td>\n",
       "      <td>33000.000000</td>\n",
       "      <td>0</td>\n",
       "      <td>0</td>\n",
       "    </tr>\n",
       "    <tr>\n",
       "      <th>9</th>\n",
       "      <td>35.000000</td>\n",
       "      <td>65000.000000</td>\n",
       "      <td>0</td>\n",
       "      <td>0</td>\n",
       "    </tr>\n",
       "    <tr>\n",
       "      <th>10</th>\n",
       "      <td>26.000000</td>\n",
       "      <td>80000.000000</td>\n",
       "      <td>0</td>\n",
       "      <td>0</td>\n",
       "    </tr>\n",
       "    <tr>\n",
       "      <th>11</th>\n",
       "      <td>32.820312</td>\n",
       "      <td>52000.000000</td>\n",
       "      <td>0</td>\n",
       "      <td>0</td>\n",
       "    </tr>\n",
       "    <tr>\n",
       "      <th>12</th>\n",
       "      <td>20.000000</td>\n",
       "      <td>86000.000000</td>\n",
       "      <td>0</td>\n",
       "      <td>0</td>\n",
       "    </tr>\n",
       "    <tr>\n",
       "      <th>13</th>\n",
       "      <td>32.000000</td>\n",
       "      <td>18000.000000</td>\n",
       "      <td>0</td>\n",
       "      <td>0</td>\n",
       "    </tr>\n",
       "    <tr>\n",
       "      <th>14</th>\n",
       "      <td>18.000000</td>\n",
       "      <td>82000.000000</td>\n",
       "      <td>0</td>\n",
       "      <td>0</td>\n",
       "    </tr>\n",
       "    <tr>\n",
       "      <th>15</th>\n",
       "      <td>29.000000</td>\n",
       "      <td>60594.488189</td>\n",
       "      <td>0</td>\n",
       "      <td>0</td>\n",
       "    </tr>\n",
       "    <tr>\n",
       "      <th>16</th>\n",
       "      <td>47.000000</td>\n",
       "      <td>25000.000000</td>\n",
       "      <td>1</td>\n",
       "      <td>1</td>\n",
       "    </tr>\n",
       "    <tr>\n",
       "      <th>17</th>\n",
       "      <td>45.000000</td>\n",
       "      <td>26000.000000</td>\n",
       "      <td>1</td>\n",
       "      <td>1</td>\n",
       "    </tr>\n",
       "    <tr>\n",
       "      <th>18</th>\n",
       "      <td>46.000000</td>\n",
       "      <td>28000.000000</td>\n",
       "      <td>1</td>\n",
       "      <td>1</td>\n",
       "    </tr>\n",
       "    <tr>\n",
       "      <th>19</th>\n",
       "      <td>46.380282</td>\n",
       "      <td>29000.000000</td>\n",
       "      <td>1</td>\n",
       "      <td>1</td>\n",
       "    </tr>\n",
       "    <tr>\n",
       "      <th>20</th>\n",
       "      <td>45.000000</td>\n",
       "      <td>22000.000000</td>\n",
       "      <td>1</td>\n",
       "      <td>1</td>\n",
       "    </tr>\n",
       "    <tr>\n",
       "      <th>21</th>\n",
       "      <td>47.000000</td>\n",
       "      <td>49000.000000</td>\n",
       "      <td>1</td>\n",
       "      <td>1</td>\n",
       "    </tr>\n",
       "    <tr>\n",
       "      <th>22</th>\n",
       "      <td>48.000000</td>\n",
       "      <td>41000.000000</td>\n",
       "      <td>1</td>\n",
       "      <td>1</td>\n",
       "    </tr>\n",
       "    <tr>\n",
       "      <th>23</th>\n",
       "      <td>45.000000</td>\n",
       "      <td>22000.000000</td>\n",
       "      <td>1</td>\n",
       "      <td>1</td>\n",
       "    </tr>\n",
       "    <tr>\n",
       "      <th>24</th>\n",
       "      <td>46.000000</td>\n",
       "      <td>23000.000000</td>\n",
       "      <td>1</td>\n",
       "      <td>1</td>\n",
       "    </tr>\n",
       "    <tr>\n",
       "      <th>25</th>\n",
       "      <td>47.000000</td>\n",
       "      <td>86739.436620</td>\n",
       "      <td>1</td>\n",
       "      <td>1</td>\n",
       "    </tr>\n",
       "    <tr>\n",
       "      <th>26</th>\n",
       "      <td>49.000000</td>\n",
       "      <td>28000.000000</td>\n",
       "      <td>1</td>\n",
       "      <td>1</td>\n",
       "    </tr>\n",
       "    <tr>\n",
       "      <th>27</th>\n",
       "      <td>47.000000</td>\n",
       "      <td>30000.000000</td>\n",
       "      <td>1</td>\n",
       "      <td>1</td>\n",
       "    </tr>\n",
       "    <tr>\n",
       "      <th>28</th>\n",
       "      <td>29.000000</td>\n",
       "      <td>43000.000000</td>\n",
       "      <td>0</td>\n",
       "      <td>0</td>\n",
       "    </tr>\n",
       "    <tr>\n",
       "      <th>29</th>\n",
       "      <td>31.000000</td>\n",
       "      <td>18000.000000</td>\n",
       "      <td>0</td>\n",
       "      <td>0</td>\n",
       "    </tr>\n",
       "    <tr>\n",
       "      <th>30</th>\n",
       "      <td>31.000000</td>\n",
       "      <td>74000.000000</td>\n",
       "      <td>0</td>\n",
       "      <td>0</td>\n",
       "    </tr>\n",
       "    <tr>\n",
       "      <th>31</th>\n",
       "      <td>27.000000</td>\n",
       "      <td>137000.000000</td>\n",
       "      <td>1</td>\n",
       "      <td>1</td>\n",
       "    </tr>\n",
       "    <tr>\n",
       "      <th>32</th>\n",
       "      <td>21.000000</td>\n",
       "      <td>16000.000000</td>\n",
       "      <td>0</td>\n",
       "      <td>0</td>\n",
       "    </tr>\n",
       "    <tr>\n",
       "      <th>33</th>\n",
       "      <td>28.000000</td>\n",
       "      <td>44000.000000</td>\n",
       "      <td>0</td>\n",
       "      <td>0</td>\n",
       "    </tr>\n",
       "    <tr>\n",
       "      <th>34</th>\n",
       "      <td>27.000000</td>\n",
       "      <td>90000.000000</td>\n",
       "      <td>0</td>\n",
       "      <td>0</td>\n",
       "    </tr>\n",
       "    <tr>\n",
       "      <th>35</th>\n",
       "      <td>35.000000</td>\n",
       "      <td>27000.000000</td>\n",
       "      <td>0</td>\n",
       "      <td>0</td>\n",
       "    </tr>\n",
       "    <tr>\n",
       "      <th>36</th>\n",
       "      <td>33.000000</td>\n",
       "      <td>28000.000000</td>\n",
       "      <td>0</td>\n",
       "      <td>0</td>\n",
       "    </tr>\n",
       "    <tr>\n",
       "      <th>37</th>\n",
       "      <td>30.000000</td>\n",
       "      <td>49000.000000</td>\n",
       "      <td>0</td>\n",
       "      <td>0</td>\n",
       "    </tr>\n",
       "    <tr>\n",
       "      <th>38</th>\n",
       "      <td>26.000000</td>\n",
       "      <td>72000.000000</td>\n",
       "      <td>0</td>\n",
       "      <td>0</td>\n",
       "    </tr>\n",
       "    <tr>\n",
       "      <th>39</th>\n",
       "      <td>27.000000</td>\n",
       "      <td>60594.488189</td>\n",
       "      <td>0</td>\n",
       "      <td>0</td>\n",
       "    </tr>\n",
       "    <tr>\n",
       "      <th>40</th>\n",
       "      <td>27.000000</td>\n",
       "      <td>17000.000000</td>\n",
       "      <td>0</td>\n",
       "      <td>0</td>\n",
       "    </tr>\n",
       "    <tr>\n",
       "      <th>41</th>\n",
       "      <td>33.000000</td>\n",
       "      <td>51000.000000</td>\n",
       "      <td>0</td>\n",
       "      <td>0</td>\n",
       "    </tr>\n",
       "    <tr>\n",
       "      <th>42</th>\n",
       "      <td>35.000000</td>\n",
       "      <td>108000.000000</td>\n",
       "      <td>0</td>\n",
       "      <td>1</td>\n",
       "    </tr>\n",
       "    <tr>\n",
       "      <th>43</th>\n",
       "      <td>30.000000</td>\n",
       "      <td>15000.000000</td>\n",
       "      <td>0</td>\n",
       "      <td>0</td>\n",
       "    </tr>\n",
       "    <tr>\n",
       "      <th>44</th>\n",
       "      <td>28.000000</td>\n",
       "      <td>84000.000000</td>\n",
       "      <td>0</td>\n",
       "      <td>0</td>\n",
       "    </tr>\n",
       "    <tr>\n",
       "      <th>45</th>\n",
       "      <td>23.000000</td>\n",
       "      <td>20000.000000</td>\n",
       "      <td>0</td>\n",
       "      <td>0</td>\n",
       "    </tr>\n",
       "    <tr>\n",
       "      <th>46</th>\n",
       "      <td>25.000000</td>\n",
       "      <td>79000.000000</td>\n",
       "      <td>0</td>\n",
       "      <td>0</td>\n",
       "    </tr>\n",
       "    <tr>\n",
       "      <th>47</th>\n",
       "      <td>27.000000</td>\n",
       "      <td>54000.000000</td>\n",
       "      <td>0</td>\n",
       "      <td>0</td>\n",
       "    </tr>\n",
       "    <tr>\n",
       "      <th>48</th>\n",
       "      <td>30.000000</td>\n",
       "      <td>135000.000000</td>\n",
       "      <td>1</td>\n",
       "      <td>1</td>\n",
       "    </tr>\n",
       "    <tr>\n",
       "      <th>49</th>\n",
       "      <td>31.000000</td>\n",
       "      <td>89000.000000</td>\n",
       "      <td>0</td>\n",
       "      <td>0</td>\n",
       "    </tr>\n",
       "  </tbody>\n",
       "</table>\n",
       "</div>"
      ],
      "text/plain": [
       "          Age  EstimatedSalary  Purchased  Preds\n",
       "0   19.000000     19000.000000          0      0\n",
       "1   35.000000     20000.000000          0      0\n",
       "2   26.000000     43000.000000          0      0\n",
       "3   27.000000     57000.000000          0      0\n",
       "4   19.000000     76000.000000          0      0\n",
       "5   27.000000     60594.488189          0      0\n",
       "6   27.000000     84000.000000          0      0\n",
       "7   32.000000    150000.000000          1      1\n",
       "8   25.000000     33000.000000          0      0\n",
       "9   35.000000     65000.000000          0      0\n",
       "10  26.000000     80000.000000          0      0\n",
       "11  32.820312     52000.000000          0      0\n",
       "12  20.000000     86000.000000          0      0\n",
       "13  32.000000     18000.000000          0      0\n",
       "14  18.000000     82000.000000          0      0\n",
       "15  29.000000     60594.488189          0      0\n",
       "16  47.000000     25000.000000          1      1\n",
       "17  45.000000     26000.000000          1      1\n",
       "18  46.000000     28000.000000          1      1\n",
       "19  46.380282     29000.000000          1      1\n",
       "20  45.000000     22000.000000          1      1\n",
       "21  47.000000     49000.000000          1      1\n",
       "22  48.000000     41000.000000          1      1\n",
       "23  45.000000     22000.000000          1      1\n",
       "24  46.000000     23000.000000          1      1\n",
       "25  47.000000     86739.436620          1      1\n",
       "26  49.000000     28000.000000          1      1\n",
       "27  47.000000     30000.000000          1      1\n",
       "28  29.000000     43000.000000          0      0\n",
       "29  31.000000     18000.000000          0      0\n",
       "30  31.000000     74000.000000          0      0\n",
       "31  27.000000    137000.000000          1      1\n",
       "32  21.000000     16000.000000          0      0\n",
       "33  28.000000     44000.000000          0      0\n",
       "34  27.000000     90000.000000          0      0\n",
       "35  35.000000     27000.000000          0      0\n",
       "36  33.000000     28000.000000          0      0\n",
       "37  30.000000     49000.000000          0      0\n",
       "38  26.000000     72000.000000          0      0\n",
       "39  27.000000     60594.488189          0      0\n",
       "40  27.000000     17000.000000          0      0\n",
       "41  33.000000     51000.000000          0      0\n",
       "42  35.000000    108000.000000          0      1\n",
       "43  30.000000     15000.000000          0      0\n",
       "44  28.000000     84000.000000          0      0\n",
       "45  23.000000     20000.000000          0      0\n",
       "46  25.000000     79000.000000          0      0\n",
       "47  27.000000     54000.000000          0      0\n",
       "48  30.000000    135000.000000          1      1\n",
       "49  31.000000     89000.000000          0      0"
      ]
     },
     "execution_count": 261,
     "metadata": {},
     "output_type": "execute_result"
    }
   ],
   "source": [
    "df.head(n=50)"
   ]
  },
  {
   "cell_type": "code",
   "execution_count": 262,
   "id": "14965fb3",
   "metadata": {},
   "outputs": [],
   "source": [
    "# thank you!"
   ]
  },
  {
   "cell_type": "code",
   "execution_count": null,
   "id": "cdaa98c8",
   "metadata": {},
   "outputs": [],
   "source": []
  }
 ],
 "metadata": {
  "kernelspec": {
   "display_name": "Python 3 (ipykernel)",
   "language": "python",
   "name": "python3"
  },
  "language_info": {
   "codemirror_mode": {
    "name": "ipython",
    "version": 3
   },
   "file_extension": ".py",
   "mimetype": "text/x-python",
   "name": "python",
   "nbconvert_exporter": "python",
   "pygments_lexer": "ipython3",
   "version": "3.9.13"
  }
 },
 "nbformat": 4,
 "nbformat_minor": 5
}
