{
 "cells": [
  {
   "cell_type": "code",
   "execution_count": 117,
   "id": "debacecb",
   "metadata": {},
   "outputs": [],
   "source": [
    "import pandas as pd\n",
    "import numpy as np\n",
    "from sklearn.base import BaseEstimator,TransformerMixin\n",
    "from sklearn.preprocessing import StandardScaler\n",
    "from sklearn.pipeline import Pipeline\n",
    "from sklearn.linear_model import LinearRegression\n",
    "from sklearn.compose import ColumnTransformer\n",
    "from sklearn.preprocessing import LabelEncoder\n",
    "from sklearn import tree\n",
    "from sklearn.linear_model import Ridge\n",
    "from sklearn.model_selection import RandomizedSearchCV\n",
    "from scipy.stats import uniform\n",
    "from sklearn.model_selection import GridSearchCV\n",
    "import warnings\n",
    "from sklearn.model_selection import train_test_split\n",
    "import matplotlib.pyplot as plt\n",
    "from sklearn.model_selection import cross_val_score\n",
    "from sklearn.metrics import mean_squared_error as mse\n",
    "from scipy.stats import expon\n",
    "from sklearn.metrics import r2_score\n",
    "from datetime import datetime\n",
    "import matplotlib.dates as mdates\n",
    "import matplotlib.pyplot as plt\n",
    "import matplotlib.dates\n",
    "import re\n",
    "%matplotlib inline\n",
    "warnings.filterwarnings(\"ignore\")"
   ]
  },
  {
   "cell_type": "code",
   "execution_count": 119,
   "id": "81a31635",
   "metadata": {},
   "outputs": [],
   "source": [
    "# our goal is to clean the data if needed, and conctruct a pipelines with which we will be able to work further\n",
    "# pipelines will include normalization, outliers detection and the models itself\n",
    "# for our further analysis we will select two models linear regression and regressino tree"
   ]
  },
  {
   "cell_type": "code",
   "execution_count": 120,
   "id": "dd9e794c",
   "metadata": {},
   "outputs": [],
   "source": [
    "df = pd.read_csv(\"hour.csv\")"
   ]
  },
  {
   "cell_type": "code",
   "execution_count": 121,
   "id": "52fb2c9d",
   "metadata": {},
   "outputs": [
    {
     "data": {
      "text/html": [
       "<div>\n",
       "<style scoped>\n",
       "    .dataframe tbody tr th:only-of-type {\n",
       "        vertical-align: middle;\n",
       "    }\n",
       "\n",
       "    .dataframe tbody tr th {\n",
       "        vertical-align: top;\n",
       "    }\n",
       "\n",
       "    .dataframe thead th {\n",
       "        text-align: right;\n",
       "    }\n",
       "</style>\n",
       "<table border=\"1\" class=\"dataframe\">\n",
       "  <thead>\n",
       "    <tr style=\"text-align: right;\">\n",
       "      <th></th>\n",
       "      <th>instant</th>\n",
       "      <th>dteday</th>\n",
       "      <th>season</th>\n",
       "      <th>yr</th>\n",
       "      <th>mnth</th>\n",
       "      <th>hr</th>\n",
       "      <th>holiday</th>\n",
       "      <th>weekday</th>\n",
       "      <th>workingday</th>\n",
       "      <th>weathersit</th>\n",
       "      <th>temp</th>\n",
       "      <th>atemp</th>\n",
       "      <th>hum</th>\n",
       "      <th>windspeed</th>\n",
       "      <th>casual</th>\n",
       "      <th>registered</th>\n",
       "      <th>cnt</th>\n",
       "    </tr>\n",
       "  </thead>\n",
       "  <tbody>\n",
       "    <tr>\n",
       "      <th>0</th>\n",
       "      <td>1</td>\n",
       "      <td>2011-01-01</td>\n",
       "      <td>springer</td>\n",
       "      <td>0</td>\n",
       "      <td>1</td>\n",
       "      <td>0</td>\n",
       "      <td>0</td>\n",
       "      <td>6</td>\n",
       "      <td>0</td>\n",
       "      <td>1</td>\n",
       "      <td>0.24</td>\n",
       "      <td>0.2879</td>\n",
       "      <td>0.81</td>\n",
       "      <td>0.0000</td>\n",
       "      <td>3</td>\n",
       "      <td>13</td>\n",
       "      <td>16</td>\n",
       "    </tr>\n",
       "    <tr>\n",
       "      <th>1</th>\n",
       "      <td>2</td>\n",
       "      <td>2011-01-01</td>\n",
       "      <td>springer</td>\n",
       "      <td>0</td>\n",
       "      <td>1</td>\n",
       "      <td>1</td>\n",
       "      <td>0</td>\n",
       "      <td>6</td>\n",
       "      <td>0</td>\n",
       "      <td>1</td>\n",
       "      <td>0.22</td>\n",
       "      <td>0.2727</td>\n",
       "      <td>0.80</td>\n",
       "      <td>0.0000</td>\n",
       "      <td>8</td>\n",
       "      <td>32</td>\n",
       "      <td>40</td>\n",
       "    </tr>\n",
       "    <tr>\n",
       "      <th>2</th>\n",
       "      <td>3</td>\n",
       "      <td>2011-01-01</td>\n",
       "      <td>springer</td>\n",
       "      <td>0</td>\n",
       "      <td>1</td>\n",
       "      <td>2</td>\n",
       "      <td>0</td>\n",
       "      <td>6</td>\n",
       "      <td>0</td>\n",
       "      <td>1</td>\n",
       "      <td>0.22</td>\n",
       "      <td>0.2727</td>\n",
       "      <td>0.80</td>\n",
       "      <td>0.0000</td>\n",
       "      <td>5</td>\n",
       "      <td>27</td>\n",
       "      <td>32</td>\n",
       "    </tr>\n",
       "    <tr>\n",
       "      <th>3</th>\n",
       "      <td>4</td>\n",
       "      <td>2011-01-01</td>\n",
       "      <td>springer</td>\n",
       "      <td>0</td>\n",
       "      <td>1</td>\n",
       "      <td>3</td>\n",
       "      <td>0</td>\n",
       "      <td>6</td>\n",
       "      <td>0</td>\n",
       "      <td>1</td>\n",
       "      <td>0.24</td>\n",
       "      <td>0.2879</td>\n",
       "      <td>0.75</td>\n",
       "      <td>0.0000</td>\n",
       "      <td>3</td>\n",
       "      <td>10</td>\n",
       "      <td>13</td>\n",
       "    </tr>\n",
       "    <tr>\n",
       "      <th>4</th>\n",
       "      <td>5</td>\n",
       "      <td>2011-01-01</td>\n",
       "      <td>springer</td>\n",
       "      <td>0</td>\n",
       "      <td>1</td>\n",
       "      <td>4</td>\n",
       "      <td>0</td>\n",
       "      <td>6</td>\n",
       "      <td>0</td>\n",
       "      <td>1</td>\n",
       "      <td>0.24</td>\n",
       "      <td>0.2879</td>\n",
       "      <td>0.75</td>\n",
       "      <td>0.0000</td>\n",
       "      <td>0</td>\n",
       "      <td>1</td>\n",
       "      <td>1</td>\n",
       "    </tr>\n",
       "    <tr>\n",
       "      <th>...</th>\n",
       "      <td>...</td>\n",
       "      <td>...</td>\n",
       "      <td>...</td>\n",
       "      <td>...</td>\n",
       "      <td>...</td>\n",
       "      <td>...</td>\n",
       "      <td>...</td>\n",
       "      <td>...</td>\n",
       "      <td>...</td>\n",
       "      <td>...</td>\n",
       "      <td>...</td>\n",
       "      <td>...</td>\n",
       "      <td>...</td>\n",
       "      <td>...</td>\n",
       "      <td>...</td>\n",
       "      <td>...</td>\n",
       "      <td>...</td>\n",
       "    </tr>\n",
       "    <tr>\n",
       "      <th>17374</th>\n",
       "      <td>17375</td>\n",
       "      <td>2012-12-31</td>\n",
       "      <td>springer</td>\n",
       "      <td>1</td>\n",
       "      <td>12</td>\n",
       "      <td>19</td>\n",
       "      <td>0</td>\n",
       "      <td>1</td>\n",
       "      <td>1</td>\n",
       "      <td>2</td>\n",
       "      <td>0.26</td>\n",
       "      <td>0.2576</td>\n",
       "      <td>0.60</td>\n",
       "      <td>0.1642</td>\n",
       "      <td>11</td>\n",
       "      <td>108</td>\n",
       "      <td>119</td>\n",
       "    </tr>\n",
       "    <tr>\n",
       "      <th>17375</th>\n",
       "      <td>17376</td>\n",
       "      <td>2012-12-31</td>\n",
       "      <td>springer</td>\n",
       "      <td>1</td>\n",
       "      <td>12</td>\n",
       "      <td>20</td>\n",
       "      <td>0</td>\n",
       "      <td>1</td>\n",
       "      <td>1</td>\n",
       "      <td>2</td>\n",
       "      <td>0.26</td>\n",
       "      <td>0.2576</td>\n",
       "      <td>0.60</td>\n",
       "      <td>0.1642</td>\n",
       "      <td>8</td>\n",
       "      <td>81</td>\n",
       "      <td>89</td>\n",
       "    </tr>\n",
       "    <tr>\n",
       "      <th>17376</th>\n",
       "      <td>17377</td>\n",
       "      <td>2012-12-31</td>\n",
       "      <td>springer</td>\n",
       "      <td>1</td>\n",
       "      <td>12</td>\n",
       "      <td>21</td>\n",
       "      <td>0</td>\n",
       "      <td>1</td>\n",
       "      <td>1</td>\n",
       "      <td>1</td>\n",
       "      <td>0.26</td>\n",
       "      <td>0.2576</td>\n",
       "      <td>0.60</td>\n",
       "      <td>0.1642</td>\n",
       "      <td>7</td>\n",
       "      <td>83</td>\n",
       "      <td>90</td>\n",
       "    </tr>\n",
       "    <tr>\n",
       "      <th>17377</th>\n",
       "      <td>17378</td>\n",
       "      <td>2012-12-31</td>\n",
       "      <td>springer</td>\n",
       "      <td>1</td>\n",
       "      <td>12</td>\n",
       "      <td>22</td>\n",
       "      <td>0</td>\n",
       "      <td>1</td>\n",
       "      <td>1</td>\n",
       "      <td>1</td>\n",
       "      <td>0.26</td>\n",
       "      <td>0.2727</td>\n",
       "      <td>0.56</td>\n",
       "      <td>0.1343</td>\n",
       "      <td>13</td>\n",
       "      <td>48</td>\n",
       "      <td>61</td>\n",
       "    </tr>\n",
       "    <tr>\n",
       "      <th>17378</th>\n",
       "      <td>17379</td>\n",
       "      <td>2012-12-31</td>\n",
       "      <td>springer</td>\n",
       "      <td>1</td>\n",
       "      <td>12</td>\n",
       "      <td>23</td>\n",
       "      <td>0</td>\n",
       "      <td>1</td>\n",
       "      <td>1</td>\n",
       "      <td>1</td>\n",
       "      <td>0.26</td>\n",
       "      <td>0.2727</td>\n",
       "      <td>0.65</td>\n",
       "      <td>0.1343</td>\n",
       "      <td>12</td>\n",
       "      <td>37</td>\n",
       "      <td>49</td>\n",
       "    </tr>\n",
       "  </tbody>\n",
       "</table>\n",
       "<p>17379 rows × 17 columns</p>\n",
       "</div>"
      ],
      "text/plain": [
       "       instant      dteday    season  yr  mnth  hr  holiday  weekday  \\\n",
       "0            1  2011-01-01  springer   0     1   0        0        6   \n",
       "1            2  2011-01-01  springer   0     1   1        0        6   \n",
       "2            3  2011-01-01  springer   0     1   2        0        6   \n",
       "3            4  2011-01-01  springer   0     1   3        0        6   \n",
       "4            5  2011-01-01  springer   0     1   4        0        6   \n",
       "...        ...         ...       ...  ..   ...  ..      ...      ...   \n",
       "17374    17375  2012-12-31  springer   1    12  19        0        1   \n",
       "17375    17376  2012-12-31  springer   1    12  20        0        1   \n",
       "17376    17377  2012-12-31  springer   1    12  21        0        1   \n",
       "17377    17378  2012-12-31  springer   1    12  22        0        1   \n",
       "17378    17379  2012-12-31  springer   1    12  23        0        1   \n",
       "\n",
       "       workingday  weathersit  temp   atemp   hum  windspeed  casual  \\\n",
       "0               0           1  0.24  0.2879  0.81     0.0000       3   \n",
       "1               0           1  0.22  0.2727  0.80     0.0000       8   \n",
       "2               0           1  0.22  0.2727  0.80     0.0000       5   \n",
       "3               0           1  0.24  0.2879  0.75     0.0000       3   \n",
       "4               0           1  0.24  0.2879  0.75     0.0000       0   \n",
       "...           ...         ...   ...     ...   ...        ...     ...   \n",
       "17374           1           2  0.26  0.2576  0.60     0.1642      11   \n",
       "17375           1           2  0.26  0.2576  0.60     0.1642       8   \n",
       "17376           1           1  0.26  0.2576  0.60     0.1642       7   \n",
       "17377           1           1  0.26  0.2727  0.56     0.1343      13   \n",
       "17378           1           1  0.26  0.2727  0.65     0.1343      12   \n",
       "\n",
       "       registered  cnt  \n",
       "0              13   16  \n",
       "1              32   40  \n",
       "2              27   32  \n",
       "3              10   13  \n",
       "4               1    1  \n",
       "...           ...  ...  \n",
       "17374         108  119  \n",
       "17375          81   89  \n",
       "17376          83   90  \n",
       "17377          48   61  \n",
       "17378          37   49  \n",
       "\n",
       "[17379 rows x 17 columns]"
      ]
     },
     "execution_count": 121,
     "metadata": {},
     "output_type": "execute_result"
    }
   ],
   "source": [
    "df"
   ]
  },
  {
   "cell_type": "code",
   "execution_count": 122,
   "id": "78ae4e08",
   "metadata": {},
   "outputs": [],
   "source": [
    "def rep(x): # to select the yeat-month from year-month-day\n",
    "    s = re.findall(r\"\\d{4}-\\d{2}\",x)[0]\n",
    "    return re.sub(r\"\\d{4}-\\d{2}-\\d{2}\", s, x)"
   ]
  },
  {
   "cell_type": "code",
   "execution_count": 123,
   "id": "b0b1f12f",
   "metadata": {},
   "outputs": [],
   "source": [
    "df[\"dteday\"] = df[\"dteday\"].apply(lambda x : rep(x))"
   ]
  },
  {
   "cell_type": "code",
   "execution_count": 124,
   "id": "c7dbcda5",
   "metadata": {},
   "outputs": [],
   "source": [
    "df[\"dteday\"] = df[\"dteday\"].apply(lambda x : matplotlib.dates.date2num(datetime.strptime(x, \"%Y-%m\"))) # convert "
   ]
  },
  {
   "cell_type": "code",
   "execution_count": 125,
   "id": "e6d70c71",
   "metadata": {},
   "outputs": [],
   "source": [
    "s = pd.DataFrame(df.groupby(\"dteday\")[\"cnt\"].mean()).reset_index() # group by data"
   ]
  },
  {
   "cell_type": "code",
   "execution_count": 126,
   "id": "62d37a85",
   "metadata": {},
   "outputs": [
    {
     "data": {
      "image/png": "[encoded data removed]",
      "text/plain": [
       "<Figure size 640x480 with 1 Axes>"
      ]
     },
     "metadata": {},
     "output_type": "display_data"
    }
   ],
   "source": [
    "plt.plot_date(s[\"dteday\"],s[\"cnt\"])\n",
    "plt.title('cnt vs Time (2011 - 2012)', fontdict=dict(size=10))\n",
    "plt.ylabel('Rate')\n",
    "plt.xlabel('Time')\n",
    "plt.show()"
   ]
  },
  {
   "cell_type": "code",
   "execution_count": 127,
   "id": "5f406098",
   "metadata": {},
   "outputs": [],
   "source": [
    "def group_and_plot(x,y=\"cnt\",t = True): # special func fro plotting purposes\n",
    "    if t:\n",
    "        s = pd.DataFrame(df.groupby(x)[y].mean()).reset_index()\n",
    "        plt.bar(s[x],s[y])\n",
    "    else:\n",
    "        plt.scatter(x,y)\n",
    "        plt.show()"
   ]
  },
  {
   "cell_type": "code",
   "execution_count": 128,
   "id": "a5a8db69",
   "metadata": {},
   "outputs": [
    {
     "data": {
      "image/png": "[encoded data removed]",
      "text/plain": [
       "<Figure size 640x480 with 1 Axes>"
      ]
     },
     "metadata": {},
     "output_type": "display_data"
    }
   ],
   "source": [
    "group_and_plot(\"hr\",\"cnt\")"
   ]
  },
  {
   "cell_type": "code",
   "execution_count": 129,
   "id": "7fb6a382",
   "metadata": {},
   "outputs": [
    {
     "data": {
      "image/png": "[encoded data removed]",
      "text/plain": [
       "<Figure size 640x480 with 1 Axes>"
      ]
     },
     "metadata": {},
     "output_type": "display_data"
    }
   ],
   "source": [
    "group_and_plot(\"weekday\",\"cnt\")"
   ]
  },
  {
   "cell_type": "code",
   "execution_count": 130,
   "id": "211447bf",
   "metadata": {},
   "outputs": [
    {
     "data": {
      "image/png": "[encoded data removed]",
      "text/plain": [
       "<Figure size 640x480 with 1 Axes>"
      ]
     },
     "metadata": {},
     "output_type": "display_data"
    }
   ],
   "source": [
    "group_and_plot(\"weathersit\",\"cnt\")"
   ]
  },
  {
   "cell_type": "code",
   "execution_count": 131,
   "id": "26d706b5",
   "metadata": {},
   "outputs": [
    {
     "data": {
      "image/png": "[encoded data removed]",
      "text/plain": [
       "<Figure size 640x480 with 1 Axes>"
      ]
     },
     "metadata": {},
     "output_type": "display_data"
    }
   ],
   "source": [
    "group_and_plot(df[\"registered\"],df[\"cnt\"],False)"
   ]
  },
  {
   "cell_type": "code",
   "execution_count": 132,
   "id": "18af2584",
   "metadata": {},
   "outputs": [
    {
     "data": {
      "image/png": "[encoded data removed]",
      "text/plain": [
       "<Figure size 640x480 with 1 Axes>"
      ]
     },
     "metadata": {},
     "output_type": "display_data"
    }
   ],
   "source": [
    "group_and_plot(df[\"casual\"],df[\"cnt\"],False)"
   ]
  },
  {
   "cell_type": "code",
   "execution_count": 133,
   "id": "d8522562",
   "metadata": {},
   "outputs": [
    {
     "data": {
      "text/html": [
       "<div>\n",
       "<style scoped>\n",
       "    .dataframe tbody tr th:only-of-type {\n",
       "        vertical-align: middle;\n",
       "    }\n",
       "\n",
       "    .dataframe tbody tr th {\n",
       "        vertical-align: top;\n",
       "    }\n",
       "\n",
       "    .dataframe thead th {\n",
       "        text-align: right;\n",
       "    }\n",
       "</style>\n",
       "<table border=\"1\" class=\"dataframe\">\n",
       "  <thead>\n",
       "    <tr style=\"text-align: right;\">\n",
       "      <th></th>\n",
       "      <th>instant</th>\n",
       "      <th>dteday</th>\n",
       "      <th>yr</th>\n",
       "      <th>mnth</th>\n",
       "      <th>hr</th>\n",
       "      <th>holiday</th>\n",
       "      <th>weekday</th>\n",
       "      <th>workingday</th>\n",
       "      <th>weathersit</th>\n",
       "      <th>temp</th>\n",
       "      <th>atemp</th>\n",
       "      <th>hum</th>\n",
       "      <th>windspeed</th>\n",
       "      <th>casual</th>\n",
       "      <th>registered</th>\n",
       "      <th>cnt</th>\n",
       "    </tr>\n",
       "  </thead>\n",
       "  <tbody>\n",
       "    <tr>\n",
       "      <th>count</th>\n",
       "      <td>17379.0000</td>\n",
       "      <td>17379.000000</td>\n",
       "      <td>17379.000000</td>\n",
       "      <td>17379.000000</td>\n",
       "      <td>17379.000000</td>\n",
       "      <td>17379.000000</td>\n",
       "      <td>17379.000000</td>\n",
       "      <td>17379.000000</td>\n",
       "      <td>17379.000000</td>\n",
       "      <td>17379.000000</td>\n",
       "      <td>17379.000000</td>\n",
       "      <td>17379.000000</td>\n",
       "      <td>17379.000000</td>\n",
       "      <td>17379.000000</td>\n",
       "      <td>17379.000000</td>\n",
       "      <td>17379.000000</td>\n",
       "    </tr>\n",
       "    <tr>\n",
       "      <th>mean</th>\n",
       "      <td>8690.0000</td>\n",
       "      <td>15326.489211</td>\n",
       "      <td>0.502561</td>\n",
       "      <td>6.537775</td>\n",
       "      <td>11.546752</td>\n",
       "      <td>0.028770</td>\n",
       "      <td>3.003683</td>\n",
       "      <td>0.682721</td>\n",
       "      <td>1.425283</td>\n",
       "      <td>0.496987</td>\n",
       "      <td>0.475775</td>\n",
       "      <td>0.627229</td>\n",
       "      <td>0.190098</td>\n",
       "      <td>35.676218</td>\n",
       "      <td>153.786869</td>\n",
       "      <td>189.463088</td>\n",
       "    </tr>\n",
       "    <tr>\n",
       "      <th>std</th>\n",
       "      <td>5017.0295</td>\n",
       "      <td>209.838339</td>\n",
       "      <td>0.500008</td>\n",
       "      <td>3.438776</td>\n",
       "      <td>6.914405</td>\n",
       "      <td>0.167165</td>\n",
       "      <td>2.005771</td>\n",
       "      <td>0.465431</td>\n",
       "      <td>0.639357</td>\n",
       "      <td>0.192556</td>\n",
       "      <td>0.171850</td>\n",
       "      <td>0.192930</td>\n",
       "      <td>0.122340</td>\n",
       "      <td>49.305030</td>\n",
       "      <td>151.357286</td>\n",
       "      <td>181.387599</td>\n",
       "    </tr>\n",
       "    <tr>\n",
       "      <th>min</th>\n",
       "      <td>1.0000</td>\n",
       "      <td>14975.000000</td>\n",
       "      <td>0.000000</td>\n",
       "      <td>1.000000</td>\n",
       "      <td>0.000000</td>\n",
       "      <td>0.000000</td>\n",
       "      <td>0.000000</td>\n",
       "      <td>0.000000</td>\n",
       "      <td>1.000000</td>\n",
       "      <td>0.020000</td>\n",
       "      <td>0.000000</td>\n",
       "      <td>0.000000</td>\n",
       "      <td>0.000000</td>\n",
       "      <td>0.000000</td>\n",
       "      <td>0.000000</td>\n",
       "      <td>1.000000</td>\n",
       "    </tr>\n",
       "    <tr>\n",
       "      <th>25%</th>\n",
       "      <td>4345.5000</td>\n",
       "      <td>15156.000000</td>\n",
       "      <td>0.000000</td>\n",
       "      <td>4.000000</td>\n",
       "      <td>6.000000</td>\n",
       "      <td>0.000000</td>\n",
       "      <td>1.000000</td>\n",
       "      <td>0.000000</td>\n",
       "      <td>1.000000</td>\n",
       "      <td>0.340000</td>\n",
       "      <td>0.333300</td>\n",
       "      <td>0.480000</td>\n",
       "      <td>0.104500</td>\n",
       "      <td>4.000000</td>\n",
       "      <td>34.000000</td>\n",
       "      <td>40.000000</td>\n",
       "    </tr>\n",
       "    <tr>\n",
       "      <th>50%</th>\n",
       "      <td>8690.0000</td>\n",
       "      <td>15340.000000</td>\n",
       "      <td>1.000000</td>\n",
       "      <td>7.000000</td>\n",
       "      <td>12.000000</td>\n",
       "      <td>0.000000</td>\n",
       "      <td>3.000000</td>\n",
       "      <td>1.000000</td>\n",
       "      <td>1.000000</td>\n",
       "      <td>0.500000</td>\n",
       "      <td>0.484800</td>\n",
       "      <td>0.630000</td>\n",
       "      <td>0.194000</td>\n",
       "      <td>17.000000</td>\n",
       "      <td>115.000000</td>\n",
       "      <td>142.000000</td>\n",
       "    </tr>\n",
       "    <tr>\n",
       "      <th>75%</th>\n",
       "      <td>13034.5000</td>\n",
       "      <td>15522.000000</td>\n",
       "      <td>1.000000</td>\n",
       "      <td>10.000000</td>\n",
       "      <td>18.000000</td>\n",
       "      <td>0.000000</td>\n",
       "      <td>5.000000</td>\n",
       "      <td>1.000000</td>\n",
       "      <td>2.000000</td>\n",
       "      <td>0.660000</td>\n",
       "      <td>0.621200</td>\n",
       "      <td>0.780000</td>\n",
       "      <td>0.253700</td>\n",
       "      <td>48.000000</td>\n",
       "      <td>220.000000</td>\n",
       "      <td>281.000000</td>\n",
       "    </tr>\n",
       "    <tr>\n",
       "      <th>max</th>\n",
       "      <td>17379.0000</td>\n",
       "      <td>15675.000000</td>\n",
       "      <td>1.000000</td>\n",
       "      <td>12.000000</td>\n",
       "      <td>23.000000</td>\n",
       "      <td>1.000000</td>\n",
       "      <td>6.000000</td>\n",
       "      <td>1.000000</td>\n",
       "      <td>4.000000</td>\n",
       "      <td>1.000000</td>\n",
       "      <td>1.000000</td>\n",
       "      <td>1.000000</td>\n",
       "      <td>0.850700</td>\n",
       "      <td>367.000000</td>\n",
       "      <td>886.000000</td>\n",
       "      <td>977.000000</td>\n",
       "    </tr>\n",
       "  </tbody>\n",
       "</table>\n",
       "</div>"
      ],
      "text/plain": [
       "          instant        dteday            yr          mnth            hr  \\\n",
       "count  17379.0000  17379.000000  17379.000000  17379.000000  17379.000000   \n",
       "mean    8690.0000  15326.489211      0.502561      6.537775     11.546752   \n",
       "std     5017.0295    209.838339      0.500008      3.438776      6.914405   \n",
       "min        1.0000  14975.000000      0.000000      1.000000      0.000000   \n",
       "25%     4345.5000  15156.000000      0.000000      4.000000      6.000000   \n",
       "50%     8690.0000  15340.000000      1.000000      7.000000     12.000000   \n",
       "75%    13034.5000  15522.000000      1.000000     10.000000     18.000000   \n",
       "max    17379.0000  15675.000000      1.000000     12.000000     23.000000   \n",
       "\n",
       "            holiday       weekday    workingday    weathersit          temp  \\\n",
       "count  17379.000000  17379.000000  17379.000000  17379.000000  17379.000000   \n",
       "mean       0.028770      3.003683      0.682721      1.425283      0.496987   \n",
       "std        0.167165      2.005771      0.465431      0.639357      0.192556   \n",
       "min        0.000000      0.000000      0.000000      1.000000      0.020000   \n",
       "25%        0.000000      1.000000      0.000000      1.000000      0.340000   \n",
       "50%        0.000000      3.000000      1.000000      1.000000      0.500000   \n",
       "75%        0.000000      5.000000      1.000000      2.000000      0.660000   \n",
       "max        1.000000      6.000000      1.000000      4.000000      1.000000   \n",
       "\n",
       "              atemp           hum     windspeed        casual    registered  \\\n",
       "count  17379.000000  17379.000000  17379.000000  17379.000000  17379.000000   \n",
       "mean       0.475775      0.627229      0.190098     35.676218    153.786869   \n",
       "std        0.171850      0.192930      0.122340     49.305030    151.357286   \n",
       "min        0.000000      0.000000      0.000000      0.000000      0.000000   \n",
       "25%        0.333300      0.480000      0.104500      4.000000     34.000000   \n",
       "50%        0.484800      0.630000      0.194000     17.000000    115.000000   \n",
       "75%        0.621200      0.780000      0.253700     48.000000    220.000000   \n",
       "max        1.000000      1.000000      0.850700    367.000000    886.000000   \n",
       "\n",
       "                cnt  \n",
       "count  17379.000000  \n",
       "mean     189.463088  \n",
       "std      181.387599  \n",
       "min        1.000000  \n",
       "25%       40.000000  \n",
       "50%      142.000000  \n",
       "75%      281.000000  \n",
       "max      977.000000  "
      ]
     },
     "execution_count": 133,
     "metadata": {},
     "output_type": "execute_result"
    }
   ],
   "source": [
    "df.describe() # many of our variables are categorical..."
   ]
  },
  {
   "cell_type": "code",
   "execution_count": 134,
   "id": "42f221fc",
   "metadata": {},
   "outputs": [
    {
     "data": {
      "text/plain": [
       "instant       0.000000\n",
       "dteday       -0.001435\n",
       "yr           -0.010243\n",
       "mnth         -0.009253\n",
       "hr           -0.010680\n",
       "holiday       5.638538\n",
       "weekday      -0.002998\n",
       "workingday   -0.785258\n",
       "weathersit    1.228047\n",
       "temp         -0.006021\n",
       "atemp        -0.090429\n",
       "hum          -0.111287\n",
       "windspeed     0.574905\n",
       "casual        2.499237\n",
       "registered    1.557904\n",
       "cnt           1.277412\n",
       "dtype: float64"
      ]
     },
     "execution_count": 134,
     "metadata": {},
     "output_type": "execute_result"
    }
   ],
   "source": [
    "df.skew() # we can use bulit in pandas function to assess the skewness for each variable that we have"
   ]
  },
  {
   "cell_type": "code",
   "execution_count": 135,
   "id": "65d1c174",
   "metadata": {},
   "outputs": [],
   "source": [
    "# plus sign means that we have right skew, that is when data \"tail\" extends to the right, negative sign means the opposite, \n",
    "# tail extends to the left. When we have right skew, our mode is less than mean, for left skew the opposite - mean is less than mode\n",
    "\n",
    "# "
   ]
  },
  {
   "cell_type": "code",
   "execution_count": 136,
   "id": "1ef488bf",
   "metadata": {},
   "outputs": [],
   "source": [
    "# From our dataset we can see that we have a lot of categorical values (like binary format: 0 or 1)\n",
    "# There is no need to actually normalize them, since they represent the count \n",
    "# The whole purpose of normalization is to offset the difference between features, to make the, equally importnant to our ML model\n",
    "\n",
    "# On the other hand, with random variables (either discrtee or continuos) we can be sure, that normalization will not make things worse\n",
    "# in fact, it is required to maintain good results for training models! "
   ]
  },
  {
   "cell_type": "code",
   "execution_count": 137,
   "id": "408fa800",
   "metadata": {},
   "outputs": [
    {
     "data": {
      "image/png": "[encoded data removed]",
      "text/plain": [
       "<Figure size 640x480 with 1 Axes>"
      ]
     },
     "metadata": {},
     "output_type": "display_data"
    },
    {
     "data": {
      "image/png": "[encoded data removed]",
      "text/plain": [
       "<Figure size 640x480 with 1 Axes>"
      ]
     },
     "metadata": {},
     "output_type": "display_data"
    },
    {
     "name": "stdout",
     "output_type": "stream",
     "text": [
      "temp\n",
      "\n"
     ]
    },
    {
     "data": {
      "image/png": "[encoded data removed]",
      "text/plain": [
       "<Figure size 640x480 with 1 Axes>"
      ]
     },
     "metadata": {},
     "output_type": "display_data"
    },
    {
     "data": {
      "image/png": "[encoded data removed]",
      "text/plain": [
       "<Figure size 640x480 with 1 Axes>"
      ]
     },
     "metadata": {},
     "output_type": "display_data"
    },
    {
     "name": "stdout",
     "output_type": "stream",
     "text": [
      "atemp\n",
      "\n"
     ]
    },
    {
     "data": {
      "image/png": "[encoded data removed]",
      "text/plain": [
       "<Figure size 640x480 with 1 Axes>"
      ]
     },
     "metadata": {},
     "output_type": "display_data"
    },
    {
     "data": {
      "image/png": "[encoded data removed]",
      "text/plain": [
       "<Figure size 640x480 with 1 Axes>"
      ]
     },
     "metadata": {},
     "output_type": "display_data"
    },
    {
     "name": "stdout",
     "output_type": "stream",
     "text": [
      "hum\n",
      "\n"
     ]
    },
    {
     "data": {
      "image/png": "[encoded data removed]",
      "text/plain": [
       "<Figure size 640x480 with 1 Axes>"
      ]
     },
     "metadata": {},
     "output_type": "display_data"
    },
    {
     "data": {
      "image/png": "[encoded data removed]",
      "text/plain": [
       "<Figure size 640x480 with 1 Axes>"
      ]
     },
     "metadata": {},
     "output_type": "display_data"
    },
    {
     "name": "stdout",
     "output_type": "stream",
     "text": [
      "windspeed\n",
      "\n"
     ]
    },
    {
     "data": {
      "image/png": "[encoded data removed]",
      "text/plain": [
       "<Figure size 640x480 with 1 Axes>"
      ]
     },
     "metadata": {},
     "output_type": "display_data"
    },
    {
     "data": {
      "image/png": "[encoded data removed]",
      "text/plain": [
       "<Figure size 640x480 with 1 Axes>"
      ]
     },
     "metadata": {},
     "output_type": "display_data"
    },
    {
     "name": "stdout",
     "output_type": "stream",
     "text": [
      "casual\n",
      "\n"
     ]
    },
    {
     "data": {
      "image/png": "[encoded data removed]",
      "text/plain": [
       "<Figure size 640x480 with 1 Axes>"
      ]
     },
     "metadata": {},
     "output_type": "display_data"
    },
    {
     "data": {
      "image/png": "[encoded data removed]",
      "text/plain": [
       "<Figure size 640x480 with 1 Axes>"
      ]
     },
     "metadata": {},
     "output_type": "display_data"
    },
    {
     "name": "stdout",
     "output_type": "stream",
     "text": [
      "registered\n",
      "\n"
     ]
    },
    {
     "data": {
      "image/png": "[encoded data removed]",
      "text/plain": [
       "<Figure size 640x480 with 1 Axes>"
      ]
     },
     "metadata": {},
     "output_type": "display_data"
    },
    {
     "data": {
      "image/png": "[encoded data removed]",
      "text/plain": [
       "<Figure size 640x480 with 1 Axes>"
      ]
     },
     "metadata": {},
     "output_type": "display_data"
    },
    {
     "name": "stdout",
     "output_type": "stream",
     "text": [
      "cnt\n",
      "\n"
     ]
    }
   ],
   "source": [
    "for i  in range(10, len(df.columns)):\n",
    "    column = df.columns[i]\n",
    "    plt.hist(df[column])\n",
    "    plt.show()\n",
    "    x = StandardScaler()\n",
    "    y = x.fit_transform(df[[\"cnt\"]])\n",
    "    plt.hist(y)\n",
    "    plt.show()\n",
    "    print(column)\n",
    "    print()"
   ]
  },
  {
   "cell_type": "code",
   "execution_count": 138,
   "id": "46f1ac8e",
   "metadata": {},
   "outputs": [],
   "source": [
    "# as you can see, with scaling we fetch each variable to the single standard: that is random variable distributed normally,\n",
    "# with mean of 0 and variance of 1. hence, 99% of values for each variable will be spreaded from -3 to 3 (3 sigme rule)\n",
    "# As a result, we will be more efficient when comparing the values of different features since they are in the same \"boat\" now."
   ]
  },
  {
   "cell_type": "code",
   "execution_count": 139,
   "id": "71e09ac6",
   "metadata": {},
   "outputs": [],
   "source": [
    "# in the code for milestone 3, I included normalization process in all pipelines, meaning that before training the model,\n",
    "# our variables will be normalized!\n",
    "\n",
    "# but we have to make one change. In our pipeline, scaler will normalize every single column, but as we concluded before,\n",
    "# we would like to normalize only numeric features, not categorical. For this purpose, we will create our own class for scaling\n",
    "# which will scale only the required columns"
   ]
  },
  {
   "cell_type": "code",
   "execution_count": 140,
   "id": "a2450d0d",
   "metadata": {},
   "outputs": [],
   "source": [
    "class my_own_scaler(BaseEstimator,TransformerMixin):\n",
    "    def __init__(self,inds):\n",
    "        self.norm = StandardScaler() # create scaled\n",
    "        self.inds = inds # we pass the indicies of the column we would like to normalize\n",
    "    \n",
    "    def fit(self,X,y=None):\n",
    "        self.one = [] # now, in fit methods, we will create a matrix of corresponding column, which will be normalized later\n",
    "        \n",
    "        #print(X)\n",
    "        for row in X:\n",
    "            #print(row)\n",
    "            change = []\n",
    "            for i in self.inds:\n",
    "                change.append(row[i])\n",
    "            self.one.append(change)\n",
    "                \n",
    "        self.norm.fit(self.one) # we train our scaler ONLY on these columns, not the whole dataframe\n",
    "        return self\n",
    "    \n",
    "    def transform(self,X,y=None):\n",
    "        new =  self.norm.transform(self.one) # now, in transform we perform transform :)\n",
    "        opora = self.inds[0] \n",
    "        \n",
    "        # one crucial detail: we have indices of columns we would like ot change, like self.inds = [6,7,8,9]\n",
    "        # but, each row in our normalized matrix (new) has indicies 0,1,2,3. We have to map these indicies to the original indicies in the dataframe\n",
    "        # for this, each time we access the index, like 6, we will subtract the value of the first index (original).\n",
    "        # in our example, the first value is 6. So 6-6 = 0. Then 7: 7-6 = 1 Then 8: 8-6 = 2 and so on.\n",
    "        \n",
    "        c = 0 # index of the row\n",
    "        for row in X: # now, for each row\n",
    "            for i in self.inds: # # we will change the position (column) with index i\n",
    "                new_ind = i-opora # map the index\n",
    "                row[i] = new[c][new_ind]\n",
    "            c += 1\n",
    "\n",
    "        return X # finally, return chnaged dataframe\n",
    "    \n",
    "    \n",
    "# in the end of the notebook you can find a visible example of such performace!\n",
    "        "
   ]
  },
  {
   "cell_type": "code",
   "execution_count": 141,
   "id": "4964bd80",
   "metadata": {},
   "outputs": [],
   "source": [
    "class OutlierRemover(BaseEstimator,TransformerMixin): # our own class to remove outliers - we will insert it to the pipeline\n",
    "    \n",
    "    def __init__(self,factor=1.5):\n",
    "        self.factor = factor # higher the factor, extreme would be the outliers removed.\n",
    "        \n",
    "    def outlier_detector(self,X,y=None):\n",
    "        X = pd.Series(X).copy()\n",
    "        q1 = X.quantile(0.25)\n",
    "        q3 = X.quantile(0.75)\n",
    "        iqr = q3 - q1\n",
    "        self.lower_bound.append(q1 - (self.factor * iqr)) \n",
    "        self.upper_bound.append(q3 + (self.factor * iqr))\n",
    "        self.median.append(X.median())\n",
    "\n",
    "    def fit(self,X,y=None): # for each coulmn we will append corresponding boundary and the median value\n",
    "        self.median = []\n",
    "        self.lower_bound = []\n",
    "        self.upper_bound = []\n",
    "        X.apply(self.outlier_detector)\n",
    "        return self\n",
    "    \n",
    "    def transform(self,X,y=None):\n",
    "        X = pd.DataFrame(X).copy()\n",
    "        for i in range(X.shape[1]):\n",
    "            x = X.iloc[:, i].copy()\n",
    "            x[(x < self.lower_bound[i]) | (x > self.upper_bound[i])] = self.median[i] # replace outliers with the median\n",
    "            X.iloc[:, i] = x\n",
    "\n",
    "        return X"
   ]
  },
  {
   "cell_type": "code",
   "execution_count": 142,
   "id": "44a321b0",
   "metadata": {},
   "outputs": [
    {
     "data": {
      "text/plain": [
       "0"
      ]
     },
     "execution_count": 142,
     "metadata": {},
     "output_type": "execute_result"
    }
   ],
   "source": [
    "np.count_nonzero(df.isnull()) # all clean, no nans"
   ]
  },
  {
   "cell_type": "code",
   "execution_count": 143,
   "id": "90243c6b",
   "metadata": {},
   "outputs": [
    {
     "name": "stdout",
     "output_type": "stream",
     "text": [
      "<class 'pandas.core.frame.DataFrame'>\n",
      "RangeIndex: 17379 entries, 0 to 17378\n",
      "Data columns (total 17 columns):\n",
      " #   Column      Non-Null Count  Dtype  \n",
      "---  ------      --------------  -----  \n",
      " 0   instant     17379 non-null  int64  \n",
      " 1   dteday      17379 non-null  float64\n",
      " 2   season      17379 non-null  object \n",
      " 3   yr          17379 non-null  int64  \n",
      " 4   mnth        17379 non-null  int64  \n",
      " 5   hr          17379 non-null  int64  \n",
      " 6   holiday     17379 non-null  int64  \n",
      " 7   weekday     17379 non-null  int64  \n",
      " 8   workingday  17379 non-null  int64  \n",
      " 9   weathersit  17379 non-null  int64  \n",
      " 10  temp        17379 non-null  float64\n",
      " 11  atemp       17379 non-null  float64\n",
      " 12  hum         17379 non-null  float64\n",
      " 13  windspeed   17379 non-null  float64\n",
      " 14  casual      17379 non-null  int64  \n",
      " 15  registered  17379 non-null  int64  \n",
      " 16  cnt         17379 non-null  int64  \n",
      "dtypes: float64(5), int64(11), object(1)\n",
      "memory usage: 2.3+ MB\n"
     ]
    }
   ],
   "source": [
    "df.info()"
   ]
  },
  {
   "cell_type": "code",
   "execution_count": 144,
   "id": "39a45822",
   "metadata": {},
   "outputs": [],
   "source": [
    "# we see that season column is str (object), we will convert it to numeric"
   ]
  },
  {
   "cell_type": "code",
   "execution_count": 145,
   "id": "9fefd916",
   "metadata": {},
   "outputs": [],
   "source": [
    "le=LabelEncoder()\n",
    "df[\"season\"]= le.fit_transform(df[\"season\"])\n",
    "df.drop([\"instant\",\"dteday\"],axis=1,inplace=True)  # common sense tells us that we dont really need index and date columns"
   ]
  },
  {
   "cell_type": "code",
   "execution_count": 146,
   "id": "935cb9c2",
   "metadata": {},
   "outputs": [
    {
     "data": {
      "text/html": [
       "<div>\n",
       "<style scoped>\n",
       "    .dataframe tbody tr th:only-of-type {\n",
       "        vertical-align: middle;\n",
       "    }\n",
       "\n",
       "    .dataframe tbody tr th {\n",
       "        vertical-align: top;\n",
       "    }\n",
       "\n",
       "    .dataframe thead th {\n",
       "        text-align: right;\n",
       "    }\n",
       "</style>\n",
       "<table border=\"1\" class=\"dataframe\">\n",
       "  <thead>\n",
       "    <tr style=\"text-align: right;\">\n",
       "      <th></th>\n",
       "      <th>season</th>\n",
       "      <th>yr</th>\n",
       "      <th>mnth</th>\n",
       "      <th>hr</th>\n",
       "      <th>holiday</th>\n",
       "      <th>weekday</th>\n",
       "      <th>workingday</th>\n",
       "      <th>weathersit</th>\n",
       "      <th>temp</th>\n",
       "      <th>atemp</th>\n",
       "      <th>hum</th>\n",
       "      <th>windspeed</th>\n",
       "      <th>casual</th>\n",
       "      <th>registered</th>\n",
       "      <th>cnt</th>\n",
       "    </tr>\n",
       "  </thead>\n",
       "  <tbody>\n",
       "    <tr>\n",
       "      <th>0</th>\n",
       "      <td>1</td>\n",
       "      <td>0</td>\n",
       "      <td>1</td>\n",
       "      <td>0</td>\n",
       "      <td>0</td>\n",
       "      <td>6</td>\n",
       "      <td>0</td>\n",
       "      <td>1</td>\n",
       "      <td>0.24</td>\n",
       "      <td>0.2879</td>\n",
       "      <td>0.81</td>\n",
       "      <td>0.0</td>\n",
       "      <td>3</td>\n",
       "      <td>13</td>\n",
       "      <td>16</td>\n",
       "    </tr>\n",
       "    <tr>\n",
       "      <th>1</th>\n",
       "      <td>1</td>\n",
       "      <td>0</td>\n",
       "      <td>1</td>\n",
       "      <td>1</td>\n",
       "      <td>0</td>\n",
       "      <td>6</td>\n",
       "      <td>0</td>\n",
       "      <td>1</td>\n",
       "      <td>0.22</td>\n",
       "      <td>0.2727</td>\n",
       "      <td>0.80</td>\n",
       "      <td>0.0</td>\n",
       "      <td>8</td>\n",
       "      <td>32</td>\n",
       "      <td>40</td>\n",
       "    </tr>\n",
       "    <tr>\n",
       "      <th>2</th>\n",
       "      <td>1</td>\n",
       "      <td>0</td>\n",
       "      <td>1</td>\n",
       "      <td>2</td>\n",
       "      <td>0</td>\n",
       "      <td>6</td>\n",
       "      <td>0</td>\n",
       "      <td>1</td>\n",
       "      <td>0.22</td>\n",
       "      <td>0.2727</td>\n",
       "      <td>0.80</td>\n",
       "      <td>0.0</td>\n",
       "      <td>5</td>\n",
       "      <td>27</td>\n",
       "      <td>32</td>\n",
       "    </tr>\n",
       "    <tr>\n",
       "      <th>3</th>\n",
       "      <td>1</td>\n",
       "      <td>0</td>\n",
       "      <td>1</td>\n",
       "      <td>3</td>\n",
       "      <td>0</td>\n",
       "      <td>6</td>\n",
       "      <td>0</td>\n",
       "      <td>1</td>\n",
       "      <td>0.24</td>\n",
       "      <td>0.2879</td>\n",
       "      <td>0.75</td>\n",
       "      <td>0.0</td>\n",
       "      <td>3</td>\n",
       "      <td>10</td>\n",
       "      <td>13</td>\n",
       "    </tr>\n",
       "    <tr>\n",
       "      <th>4</th>\n",
       "      <td>1</td>\n",
       "      <td>0</td>\n",
       "      <td>1</td>\n",
       "      <td>4</td>\n",
       "      <td>0</td>\n",
       "      <td>6</td>\n",
       "      <td>0</td>\n",
       "      <td>1</td>\n",
       "      <td>0.24</td>\n",
       "      <td>0.2879</td>\n",
       "      <td>0.75</td>\n",
       "      <td>0.0</td>\n",
       "      <td>0</td>\n",
       "      <td>1</td>\n",
       "      <td>1</td>\n",
       "    </tr>\n",
       "  </tbody>\n",
       "</table>\n",
       "</div>"
      ],
      "text/plain": [
       "   season  yr  mnth  hr  holiday  weekday  workingday  weathersit  temp  \\\n",
       "0       1   0     1   0        0        6           0           1  0.24   \n",
       "1       1   0     1   1        0        6           0           1  0.22   \n",
       "2       1   0     1   2        0        6           0           1  0.22   \n",
       "3       1   0     1   3        0        6           0           1  0.24   \n",
       "4       1   0     1   4        0        6           0           1  0.24   \n",
       "\n",
       "    atemp   hum  windspeed  casual  registered  cnt  \n",
       "0  0.2879  0.81        0.0       3          13   16  \n",
       "1  0.2727  0.80        0.0       8          32   40  \n",
       "2  0.2727  0.80        0.0       5          27   32  \n",
       "3  0.2879  0.75        0.0       3          10   13  \n",
       "4  0.2879  0.75        0.0       0           1    1  "
      ]
     },
     "execution_count": 146,
     "metadata": {},
     "output_type": "execute_result"
    }
   ],
   "source": [
    "df.head()"
   ]
  },
  {
   "cell_type": "code",
   "execution_count": 147,
   "id": "48846ac7",
   "metadata": {},
   "outputs": [
    {
     "name": "stdout",
     "output_type": "stream",
     "text": [
      "<class 'pandas.core.frame.DataFrame'>\n",
      "RangeIndex: 17379 entries, 0 to 17378\n",
      "Data columns (total 15 columns):\n",
      " #   Column      Non-Null Count  Dtype  \n",
      "---  ------      --------------  -----  \n",
      " 0   season      17379 non-null  int32  \n",
      " 1   yr          17379 non-null  int64  \n",
      " 2   mnth        17379 non-null  int64  \n",
      " 3   hr          17379 non-null  int64  \n",
      " 4   holiday     17379 non-null  int64  \n",
      " 5   weekday     17379 non-null  int64  \n",
      " 6   workingday  17379 non-null  int64  \n",
      " 7   weathersit  17379 non-null  int64  \n",
      " 8   temp        17379 non-null  float64\n",
      " 9   atemp       17379 non-null  float64\n",
      " 10  hum         17379 non-null  float64\n",
      " 11  windspeed   17379 non-null  float64\n",
      " 12  casual      17379 non-null  int64  \n",
      " 13  registered  17379 non-null  int64  \n",
      " 14  cnt         17379 non-null  int64  \n",
      "dtypes: float64(4), int32(1), int64(10)\n",
      "memory usage: 1.9 MB\n"
     ]
    }
   ],
   "source": [
    "df.info() # now its int 32"
   ]
  },
  {
   "cell_type": "code",
   "execution_count": 148,
   "id": "a15b4642",
   "metadata": {},
   "outputs": [
    {
     "data": {
      "image/png": "[encoded data removed]",
      "text/plain": [
       "<Figure size 640x480 with 1 Axes>"
      ]
     },
     "metadata": {},
     "output_type": "display_data"
    },
    {
     "data": {
      "image/png": "[encoded data removed]",
      "text/plain": [
       "<Figure size 640x480 with 1 Axes>"
      ]
     },
     "metadata": {},
     "output_type": "display_data"
    },
    {
     "data": {
      "image/png": "[encoded data removed]",
      "text/plain": [
       "<Figure size 640x480 with 1 Axes>"
      ]
     },
     "metadata": {},
     "output_type": "display_data"
    },
    {
     "data": {
      "image/png": "[encoded data removed]",
      "text/plain": [
       "<Figure size 640x480 with 1 Axes>"
      ]
     },
     "metadata": {},
     "output_type": "display_data"
    },
    {
     "data": {
      "image/png": "[encoded data removed]",
      "text/plain": [
       "<Figure size 640x480 with 1 Axes>"
      ]
     },
     "metadata": {},
     "output_type": "display_data"
    },
    {
     "data": {
      "image/png": "[encoded data removed]",
      "text/plain": [
       "<Figure size 640x480 with 1 Axes>"
      ]
     },
     "metadata": {},
     "output_type": "display_data"
    },
    {
     "data": {
      "image/png": "[encoded data removed]",
      "text/plain": [
       "<Figure size 640x480 with 1 Axes>"
      ]
     },
     "metadata": {},
     "output_type": "display_data"
    },
    {
     "data": {
      "image/png": "[encoded data removed]",
      "text/plain": [
       "<Figure size 640x480 with 1 Axes>"
      ]
     },
     "metadata": {},
     "output_type": "display_data"
    },
    {
     "data": {
      "image/png": "[encoded data removed]",
      "text/plain": [
       "<Figure size 640x480 with 1 Axes>"
      ]
     },
     "metadata": {},
     "output_type": "display_data"
    },
    {
     "data": {
      "image/png": "[encoded data removed]",
      "text/plain": [
       "<Figure size 640x480 with 1 Axes>"
      ]
     },
     "metadata": {},
     "output_type": "display_data"
    },
    {
     "data": {
      "image/png": "[encoded data removed]",
      "text/plain": [
       "<Figure size 640x480 with 1 Axes>"
      ]
     },
     "metadata": {},
     "output_type": "display_data"
    },
    {
     "data": {
      "image/png": "[encoded data removed]",
      "text/plain": [
       "<Figure size 640x480 with 1 Axes>"
      ]
     },
     "metadata": {},
     "output_type": "display_data"
    },
    {
     "data": {
      "image/png": "[encoded data removed]",
      "text/plain": [
       "<Figure size 640x480 with 1 Axes>"
      ]
     },
     "metadata": {},
     "output_type": "display_data"
    },
    {
     "data": {
      "image/png": "[encoded data removed]",
      "text/plain": [
       "<Figure size 640x480 with 1 Axes>"
      ]
     },
     "metadata": {},
     "output_type": "display_data"
    },
    {
     "data": {
      "image/png": "[encoded data removed]",
      "text/plain": [
       "<Figure size 640x480 with 1 Axes>"
      ]
     },
     "metadata": {},
     "output_type": "display_data"
    }
   ],
   "source": [
    "for i in range(len(df.columns)): # check for the outliers\n",
    "    col = df.columns[i]\n",
    "    ar = df[col]\n",
    "    plt.boxplot(ar)\n",
    "    plt.title(col)\n",
    "    plt.show()"
   ]
  },
  {
   "cell_type": "code",
   "execution_count": 149,
   "id": "ac4edb6f",
   "metadata": {},
   "outputs": [],
   "source": [
    "# we see that some attributes have a bucnh of outliers, thus we will have to deal with them in out pipelines"
   ]
  },
  {
   "cell_type": "code",
   "execution_count": 150,
   "id": "80c15c6f",
   "metadata": {},
   "outputs": [
    {
     "data": {
      "text/html": [
       "<div>\n",
       "<style scoped>\n",
       "    .dataframe tbody tr th:only-of-type {\n",
       "        vertical-align: middle;\n",
       "    }\n",
       "\n",
       "    .dataframe tbody tr th {\n",
       "        vertical-align: top;\n",
       "    }\n",
       "\n",
       "    .dataframe thead th {\n",
       "        text-align: right;\n",
       "    }\n",
       "</style>\n",
       "<table border=\"1\" class=\"dataframe\">\n",
       "  <thead>\n",
       "    <tr style=\"text-align: right;\">\n",
       "      <th></th>\n",
       "      <th>season</th>\n",
       "      <th>yr</th>\n",
       "      <th>mnth</th>\n",
       "      <th>hr</th>\n",
       "      <th>holiday</th>\n",
       "      <th>weekday</th>\n",
       "      <th>workingday</th>\n",
       "      <th>weathersit</th>\n",
       "      <th>temp</th>\n",
       "      <th>atemp</th>\n",
       "      <th>hum</th>\n",
       "      <th>windspeed</th>\n",
       "      <th>casual</th>\n",
       "      <th>registered</th>\n",
       "      <th>cnt</th>\n",
       "    </tr>\n",
       "  </thead>\n",
       "  <tbody>\n",
       "    <tr>\n",
       "      <th>season</th>\n",
       "      <td>1.000000</td>\n",
       "      <td>-0.006572</td>\n",
       "      <td>0.325234</td>\n",
       "      <td>-0.001354</td>\n",
       "      <td>0.014444</td>\n",
       "      <td>-0.009910</td>\n",
       "      <td>-0.007303</td>\n",
       "      <td>0.072684</td>\n",
       "      <td>-0.361958</td>\n",
       "      <td>-0.335197</td>\n",
       "      <td>0.082580</td>\n",
       "      <td>-0.008939</td>\n",
       "      <td>-0.064472</td>\n",
       "      <td>0.005234</td>\n",
       "      <td>-0.013157</td>\n",
       "    </tr>\n",
       "    <tr>\n",
       "      <th>yr</th>\n",
       "      <td>-0.006572</td>\n",
       "      <td>1.000000</td>\n",
       "      <td>-0.010473</td>\n",
       "      <td>-0.003867</td>\n",
       "      <td>0.006692</td>\n",
       "      <td>-0.004485</td>\n",
       "      <td>-0.002196</td>\n",
       "      <td>-0.019157</td>\n",
       "      <td>0.040913</td>\n",
       "      <td>0.039222</td>\n",
       "      <td>-0.083546</td>\n",
       "      <td>-0.008740</td>\n",
       "      <td>0.142779</td>\n",
       "      <td>0.253684</td>\n",
       "      <td>0.250495</td>\n",
       "    </tr>\n",
       "    <tr>\n",
       "      <th>mnth</th>\n",
       "      <td>0.325234</td>\n",
       "      <td>-0.010473</td>\n",
       "      <td>1.000000</td>\n",
       "      <td>-0.005772</td>\n",
       "      <td>0.018430</td>\n",
       "      <td>0.010400</td>\n",
       "      <td>-0.003477</td>\n",
       "      <td>0.005400</td>\n",
       "      <td>0.201691</td>\n",
       "      <td>0.208096</td>\n",
       "      <td>0.164411</td>\n",
       "      <td>-0.135386</td>\n",
       "      <td>0.068457</td>\n",
       "      <td>0.122273</td>\n",
       "      <td>0.120638</td>\n",
       "    </tr>\n",
       "    <tr>\n",
       "      <th>hr</th>\n",
       "      <td>-0.001354</td>\n",
       "      <td>-0.003867</td>\n",
       "      <td>-0.005772</td>\n",
       "      <td>1.000000</td>\n",
       "      <td>0.000479</td>\n",
       "      <td>-0.003498</td>\n",
       "      <td>0.002285</td>\n",
       "      <td>-0.020203</td>\n",
       "      <td>0.137603</td>\n",
       "      <td>0.133750</td>\n",
       "      <td>-0.276498</td>\n",
       "      <td>0.137252</td>\n",
       "      <td>0.301202</td>\n",
       "      <td>0.374141</td>\n",
       "      <td>0.394071</td>\n",
       "    </tr>\n",
       "    <tr>\n",
       "      <th>holiday</th>\n",
       "      <td>0.014444</td>\n",
       "      <td>0.006692</td>\n",
       "      <td>0.018430</td>\n",
       "      <td>0.000479</td>\n",
       "      <td>1.000000</td>\n",
       "      <td>-0.102088</td>\n",
       "      <td>-0.252471</td>\n",
       "      <td>-0.017036</td>\n",
       "      <td>-0.027340</td>\n",
       "      <td>-0.030973</td>\n",
       "      <td>-0.010588</td>\n",
       "      <td>0.003988</td>\n",
       "      <td>0.031564</td>\n",
       "      <td>-0.047345</td>\n",
       "      <td>-0.030927</td>\n",
       "    </tr>\n",
       "    <tr>\n",
       "      <th>weekday</th>\n",
       "      <td>-0.009910</td>\n",
       "      <td>-0.004485</td>\n",
       "      <td>0.010400</td>\n",
       "      <td>-0.003498</td>\n",
       "      <td>-0.102088</td>\n",
       "      <td>1.000000</td>\n",
       "      <td>0.035955</td>\n",
       "      <td>0.003311</td>\n",
       "      <td>-0.001795</td>\n",
       "      <td>-0.008821</td>\n",
       "      <td>-0.037158</td>\n",
       "      <td>0.011502</td>\n",
       "      <td>0.032721</td>\n",
       "      <td>0.021578</td>\n",
       "      <td>0.026900</td>\n",
       "    </tr>\n",
       "    <tr>\n",
       "      <th>workingday</th>\n",
       "      <td>-0.007303</td>\n",
       "      <td>-0.002196</td>\n",
       "      <td>-0.003477</td>\n",
       "      <td>0.002285</td>\n",
       "      <td>-0.252471</td>\n",
       "      <td>0.035955</td>\n",
       "      <td>1.000000</td>\n",
       "      <td>0.044672</td>\n",
       "      <td>0.055390</td>\n",
       "      <td>0.054667</td>\n",
       "      <td>0.015688</td>\n",
       "      <td>-0.011830</td>\n",
       "      <td>-0.300942</td>\n",
       "      <td>0.134326</td>\n",
       "      <td>0.030284</td>\n",
       "    </tr>\n",
       "    <tr>\n",
       "      <th>weathersit</th>\n",
       "      <td>0.072684</td>\n",
       "      <td>-0.019157</td>\n",
       "      <td>0.005400</td>\n",
       "      <td>-0.020203</td>\n",
       "      <td>-0.017036</td>\n",
       "      <td>0.003311</td>\n",
       "      <td>0.044672</td>\n",
       "      <td>1.000000</td>\n",
       "      <td>-0.102640</td>\n",
       "      <td>-0.105563</td>\n",
       "      <td>0.418130</td>\n",
       "      <td>0.026226</td>\n",
       "      <td>-0.152628</td>\n",
       "      <td>-0.120966</td>\n",
       "      <td>-0.142426</td>\n",
       "    </tr>\n",
       "    <tr>\n",
       "      <th>temp</th>\n",
       "      <td>-0.361958</td>\n",
       "      <td>0.040913</td>\n",
       "      <td>0.201691</td>\n",
       "      <td>0.137603</td>\n",
       "      <td>-0.027340</td>\n",
       "      <td>-0.001795</td>\n",
       "      <td>0.055390</td>\n",
       "      <td>-0.102640</td>\n",
       "      <td>1.000000</td>\n",
       "      <td>0.987672</td>\n",
       "      <td>-0.069881</td>\n",
       "      <td>-0.023125</td>\n",
       "      <td>0.459616</td>\n",
       "      <td>0.335361</td>\n",
       "      <td>0.404772</td>\n",
       "    </tr>\n",
       "    <tr>\n",
       "      <th>atemp</th>\n",
       "      <td>-0.335197</td>\n",
       "      <td>0.039222</td>\n",
       "      <td>0.208096</td>\n",
       "      <td>0.133750</td>\n",
       "      <td>-0.030973</td>\n",
       "      <td>-0.008821</td>\n",
       "      <td>0.054667</td>\n",
       "      <td>-0.105563</td>\n",
       "      <td>0.987672</td>\n",
       "      <td>1.000000</td>\n",
       "      <td>-0.051918</td>\n",
       "      <td>-0.062336</td>\n",
       "      <td>0.454080</td>\n",
       "      <td>0.332559</td>\n",
       "      <td>0.400929</td>\n",
       "    </tr>\n",
       "    <tr>\n",
       "      <th>hum</th>\n",
       "      <td>0.082580</td>\n",
       "      <td>-0.083546</td>\n",
       "      <td>0.164411</td>\n",
       "      <td>-0.276498</td>\n",
       "      <td>-0.010588</td>\n",
       "      <td>-0.037158</td>\n",
       "      <td>0.015688</td>\n",
       "      <td>0.418130</td>\n",
       "      <td>-0.069881</td>\n",
       "      <td>-0.051918</td>\n",
       "      <td>1.000000</td>\n",
       "      <td>-0.290105</td>\n",
       "      <td>-0.347028</td>\n",
       "      <td>-0.273933</td>\n",
       "      <td>-0.322911</td>\n",
       "    </tr>\n",
       "    <tr>\n",
       "      <th>windspeed</th>\n",
       "      <td>-0.008939</td>\n",
       "      <td>-0.008740</td>\n",
       "      <td>-0.135386</td>\n",
       "      <td>0.137252</td>\n",
       "      <td>0.003988</td>\n",
       "      <td>0.011502</td>\n",
       "      <td>-0.011830</td>\n",
       "      <td>0.026226</td>\n",
       "      <td>-0.023125</td>\n",
       "      <td>-0.062336</td>\n",
       "      <td>-0.290105</td>\n",
       "      <td>1.000000</td>\n",
       "      <td>0.090287</td>\n",
       "      <td>0.082321</td>\n",
       "      <td>0.093234</td>\n",
       "    </tr>\n",
       "    <tr>\n",
       "      <th>casual</th>\n",
       "      <td>-0.064472</td>\n",
       "      <td>0.142779</td>\n",
       "      <td>0.068457</td>\n",
       "      <td>0.301202</td>\n",
       "      <td>0.031564</td>\n",
       "      <td>0.032721</td>\n",
       "      <td>-0.300942</td>\n",
       "      <td>-0.152628</td>\n",
       "      <td>0.459616</td>\n",
       "      <td>0.454080</td>\n",
       "      <td>-0.347028</td>\n",
       "      <td>0.090287</td>\n",
       "      <td>1.000000</td>\n",
       "      <td>0.506618</td>\n",
       "      <td>0.694564</td>\n",
       "    </tr>\n",
       "    <tr>\n",
       "      <th>registered</th>\n",
       "      <td>0.005234</td>\n",
       "      <td>0.253684</td>\n",
       "      <td>0.122273</td>\n",
       "      <td>0.374141</td>\n",
       "      <td>-0.047345</td>\n",
       "      <td>0.021578</td>\n",
       "      <td>0.134326</td>\n",
       "      <td>-0.120966</td>\n",
       "      <td>0.335361</td>\n",
       "      <td>0.332559</td>\n",
       "      <td>-0.273933</td>\n",
       "      <td>0.082321</td>\n",
       "      <td>0.506618</td>\n",
       "      <td>1.000000</td>\n",
       "      <td>0.972151</td>\n",
       "    </tr>\n",
       "    <tr>\n",
       "      <th>cnt</th>\n",
       "      <td>-0.013157</td>\n",
       "      <td>0.250495</td>\n",
       "      <td>0.120638</td>\n",
       "      <td>0.394071</td>\n",
       "      <td>-0.030927</td>\n",
       "      <td>0.026900</td>\n",
       "      <td>0.030284</td>\n",
       "      <td>-0.142426</td>\n",
       "      <td>0.404772</td>\n",
       "      <td>0.400929</td>\n",
       "      <td>-0.322911</td>\n",
       "      <td>0.093234</td>\n",
       "      <td>0.694564</td>\n",
       "      <td>0.972151</td>\n",
       "      <td>1.000000</td>\n",
       "    </tr>\n",
       "  </tbody>\n",
       "</table>\n",
       "</div>"
      ],
      "text/plain": [
       "              season        yr      mnth        hr   holiday   weekday  \\\n",
       "season      1.000000 -0.006572  0.325234 -0.001354  0.014444 -0.009910   \n",
       "yr         -0.006572  1.000000 -0.010473 -0.003867  0.006692 -0.004485   \n",
       "mnth        0.325234 -0.010473  1.000000 -0.005772  0.018430  0.010400   \n",
       "hr         -0.001354 -0.003867 -0.005772  1.000000  0.000479 -0.003498   \n",
       "holiday     0.014444  0.006692  0.018430  0.000479  1.000000 -0.102088   \n",
       "weekday    -0.009910 -0.004485  0.010400 -0.003498 -0.102088  1.000000   \n",
       "workingday -0.007303 -0.002196 -0.003477  0.002285 -0.252471  0.035955   \n",
       "weathersit  0.072684 -0.019157  0.005400 -0.020203 -0.017036  0.003311   \n",
       "temp       -0.361958  0.040913  0.201691  0.137603 -0.027340 -0.001795   \n",
       "atemp      -0.335197  0.039222  0.208096  0.133750 -0.030973 -0.008821   \n",
       "hum         0.082580 -0.083546  0.164411 -0.276498 -0.010588 -0.037158   \n",
       "windspeed  -0.008939 -0.008740 -0.135386  0.137252  0.003988  0.011502   \n",
       "casual     -0.064472  0.142779  0.068457  0.301202  0.031564  0.032721   \n",
       "registered  0.005234  0.253684  0.122273  0.374141 -0.047345  0.021578   \n",
       "cnt        -0.013157  0.250495  0.120638  0.394071 -0.030927  0.026900   \n",
       "\n",
       "            workingday  weathersit      temp     atemp       hum  windspeed  \\\n",
       "season       -0.007303    0.072684 -0.361958 -0.335197  0.082580  -0.008939   \n",
       "yr           -0.002196   -0.019157  0.040913  0.039222 -0.083546  -0.008740   \n",
       "mnth         -0.003477    0.005400  0.201691  0.208096  0.164411  -0.135386   \n",
       "hr            0.002285   -0.020203  0.137603  0.133750 -0.276498   0.137252   \n",
       "holiday      -0.252471   -0.017036 -0.027340 -0.030973 -0.010588   0.003988   \n",
       "weekday       0.035955    0.003311 -0.001795 -0.008821 -0.037158   0.011502   \n",
       "workingday    1.000000    0.044672  0.055390  0.054667  0.015688  -0.011830   \n",
       "weathersit    0.044672    1.000000 -0.102640 -0.105563  0.418130   0.026226   \n",
       "temp          0.055390   -0.102640  1.000000  0.987672 -0.069881  -0.023125   \n",
       "atemp         0.054667   -0.105563  0.987672  1.000000 -0.051918  -0.062336   \n",
       "hum           0.015688    0.418130 -0.069881 -0.051918  1.000000  -0.290105   \n",
       "windspeed    -0.011830    0.026226 -0.023125 -0.062336 -0.290105   1.000000   \n",
       "casual       -0.300942   -0.152628  0.459616  0.454080 -0.347028   0.090287   \n",
       "registered    0.134326   -0.120966  0.335361  0.332559 -0.273933   0.082321   \n",
       "cnt           0.030284   -0.142426  0.404772  0.400929 -0.322911   0.093234   \n",
       "\n",
       "              casual  registered       cnt  \n",
       "season     -0.064472    0.005234 -0.013157  \n",
       "yr          0.142779    0.253684  0.250495  \n",
       "mnth        0.068457    0.122273  0.120638  \n",
       "hr          0.301202    0.374141  0.394071  \n",
       "holiday     0.031564   -0.047345 -0.030927  \n",
       "weekday     0.032721    0.021578  0.026900  \n",
       "workingday -0.300942    0.134326  0.030284  \n",
       "weathersit -0.152628   -0.120966 -0.142426  \n",
       "temp        0.459616    0.335361  0.404772  \n",
       "atemp       0.454080    0.332559  0.400929  \n",
       "hum        -0.347028   -0.273933 -0.322911  \n",
       "windspeed   0.090287    0.082321  0.093234  \n",
       "casual      1.000000    0.506618  0.694564  \n",
       "registered  0.506618    1.000000  0.972151  \n",
       "cnt         0.694564    0.972151  1.000000  "
      ]
     },
     "execution_count": 150,
     "metadata": {},
     "output_type": "execute_result"
    }
   ],
   "source": [
    "df.corr() # lets observe how our features are related to target lineary"
   ]
  },
  {
   "cell_type": "code",
   "execution_count": 151,
   "id": "77c633bb",
   "metadata": {},
   "outputs": [],
   "source": [
    "# now, because we will use multiple linear regression, we dont want to encounter multicollinearity - effect when \n",
    "# independent variables in fact have some correlation - that might result in poor modeling results, like\n",
    "# when our weights might be inadequately large. hence, we will use ridge multiple regression, so that our model\n",
    "# could set the weights such that their sum will be minimal.\n",
    "\n",
    "# basically, tha task is the following:\n",
    "\n",
    "# <weights, features> - bias + C * sum(weights^2) -> min, instead of <weights, features> - bias -> min\n",
    "\n",
    "# C is our hyperparametr, degree of accounting for this amount. We will have to find the best one with GridSearch method\n"
   ]
  },
  {
   "cell_type": "code",
   "execution_count": 152,
   "id": "bc7bf66a",
   "metadata": {},
   "outputs": [],
   "source": [
    "outlier_remover = OutlierRemover()\n",
    "\n",
    "sl = my_own_scaler(list(range(7,15)))\n",
    "\n",
    "ct = ColumnTransformer(transformers=[['outlier_remover',OutlierRemover(),list(range(df.shape[1]))]]) \n",
    "\n",
    "\n",
    "data_pipe = Pipeline(steps=[[\"outlier_removal\",ct],['scalar', sl]])\n",
    "\n",
    "d = data_pipe.fit_transform(df)\n",
    "\n",
    "\n",
    "df = pd.DataFrame(d, columns = df.columns)\n",
    "\n"
   ]
  },
  {
   "cell_type": "code",
   "execution_count": 153,
   "id": "542880d1",
   "metadata": {},
   "outputs": [
    {
     "data": {
      "text/html": [
       "<div>\n",
       "<style scoped>\n",
       "    .dataframe tbody tr th:only-of-type {\n",
       "        vertical-align: middle;\n",
       "    }\n",
       "\n",
       "    .dataframe tbody tr th {\n",
       "        vertical-align: top;\n",
       "    }\n",
       "\n",
       "    .dataframe thead th {\n",
       "        text-align: right;\n",
       "    }\n",
       "</style>\n",
       "<table border=\"1\" class=\"dataframe\">\n",
       "  <thead>\n",
       "    <tr style=\"text-align: right;\">\n",
       "      <th></th>\n",
       "      <th>season</th>\n",
       "      <th>yr</th>\n",
       "      <th>mnth</th>\n",
       "      <th>hr</th>\n",
       "      <th>holiday</th>\n",
       "      <th>weekday</th>\n",
       "      <th>workingday</th>\n",
       "      <th>weathersit</th>\n",
       "      <th>temp</th>\n",
       "      <th>atemp</th>\n",
       "      <th>hum</th>\n",
       "      <th>windspeed</th>\n",
       "      <th>casual</th>\n",
       "      <th>registered</th>\n",
       "      <th>cnt</th>\n",
       "    </tr>\n",
       "  </thead>\n",
       "  <tbody>\n",
       "    <tr>\n",
       "      <th>0</th>\n",
       "      <td>1.0</td>\n",
       "      <td>0.0</td>\n",
       "      <td>1.0</td>\n",
       "      <td>0.0</td>\n",
       "      <td>0.0</td>\n",
       "      <td>6.0</td>\n",
       "      <td>0.0</td>\n",
       "      <td>-0.665290</td>\n",
       "      <td>-1.334648</td>\n",
       "      <td>-1.093281</td>\n",
       "      <td>0.949621</td>\n",
       "      <td>-1.651213</td>\n",
       "      <td>-0.806714</td>\n",
       "      <td>-1.044547</td>\n",
       "      <td>-1.019519</td>\n",
       "    </tr>\n",
       "    <tr>\n",
       "      <th>1</th>\n",
       "      <td>1.0</td>\n",
       "      <td>0.0</td>\n",
       "      <td>1.0</td>\n",
       "      <td>1.0</td>\n",
       "      <td>0.0</td>\n",
       "      <td>6.0</td>\n",
       "      <td>0.0</td>\n",
       "      <td>-0.665290</td>\n",
       "      <td>-1.438516</td>\n",
       "      <td>-1.181732</td>\n",
       "      <td>0.897437</td>\n",
       "      <td>-1.651213</td>\n",
       "      <td>-0.619156</td>\n",
       "      <td>-0.880010</td>\n",
       "      <td>-0.862487</td>\n",
       "    </tr>\n",
       "    <tr>\n",
       "      <th>2</th>\n",
       "      <td>1.0</td>\n",
       "      <td>0.0</td>\n",
       "      <td>1.0</td>\n",
       "      <td>2.0</td>\n",
       "      <td>0.0</td>\n",
       "      <td>6.0</td>\n",
       "      <td>0.0</td>\n",
       "      <td>-0.665290</td>\n",
       "      <td>-1.438516</td>\n",
       "      <td>-1.181732</td>\n",
       "      <td>0.897437</td>\n",
       "      <td>-1.651213</td>\n",
       "      <td>-0.731691</td>\n",
       "      <td>-0.923309</td>\n",
       "      <td>-0.914831</td>\n",
       "    </tr>\n",
       "    <tr>\n",
       "      <th>3</th>\n",
       "      <td>1.0</td>\n",
       "      <td>0.0</td>\n",
       "      <td>1.0</td>\n",
       "      <td>3.0</td>\n",
       "      <td>0.0</td>\n",
       "      <td>6.0</td>\n",
       "      <td>0.0</td>\n",
       "      <td>-0.665290</td>\n",
       "      <td>-1.334648</td>\n",
       "      <td>-1.093281</td>\n",
       "      <td>0.636514</td>\n",
       "      <td>-1.651213</td>\n",
       "      <td>-0.806714</td>\n",
       "      <td>-1.070526</td>\n",
       "      <td>-1.039148</td>\n",
       "    </tr>\n",
       "    <tr>\n",
       "      <th>4</th>\n",
       "      <td>1.0</td>\n",
       "      <td>0.0</td>\n",
       "      <td>1.0</td>\n",
       "      <td>4.0</td>\n",
       "      <td>0.0</td>\n",
       "      <td>6.0</td>\n",
       "      <td>0.0</td>\n",
       "      <td>-0.665290</td>\n",
       "      <td>-1.334648</td>\n",
       "      <td>-1.093281</td>\n",
       "      <td>0.636514</td>\n",
       "      <td>-1.651213</td>\n",
       "      <td>-0.919249</td>\n",
       "      <td>-1.148464</td>\n",
       "      <td>-1.117665</td>\n",
       "    </tr>\n",
       "    <tr>\n",
       "      <th>...</th>\n",
       "      <td>...</td>\n",
       "      <td>...</td>\n",
       "      <td>...</td>\n",
       "      <td>...</td>\n",
       "      <td>...</td>\n",
       "      <td>...</td>\n",
       "      <td>...</td>\n",
       "      <td>...</td>\n",
       "      <td>...</td>\n",
       "      <td>...</td>\n",
       "      <td>...</td>\n",
       "      <td>...</td>\n",
       "      <td>...</td>\n",
       "      <td>...</td>\n",
       "      <td>...</td>\n",
       "    </tr>\n",
       "    <tr>\n",
       "      <th>17374</th>\n",
       "      <td>1.0</td>\n",
       "      <td>1.0</td>\n",
       "      <td>12.0</td>\n",
       "      <td>19.0</td>\n",
       "      <td>0.0</td>\n",
       "      <td>1.0</td>\n",
       "      <td>1.0</td>\n",
       "      <td>0.900962</td>\n",
       "      <td>-1.230779</td>\n",
       "      <td>-1.269602</td>\n",
       "      <td>-0.146254</td>\n",
       "      <td>-0.170537</td>\n",
       "      <td>-0.506621</td>\n",
       "      <td>-0.221866</td>\n",
       "      <td>-0.345588</td>\n",
       "    </tr>\n",
       "    <tr>\n",
       "      <th>17375</th>\n",
       "      <td>1.0</td>\n",
       "      <td>1.0</td>\n",
       "      <td>12.0</td>\n",
       "      <td>20.0</td>\n",
       "      <td>0.0</td>\n",
       "      <td>1.0</td>\n",
       "      <td>1.0</td>\n",
       "      <td>0.900962</td>\n",
       "      <td>-1.230779</td>\n",
       "      <td>-1.269602</td>\n",
       "      <td>-0.146254</td>\n",
       "      <td>-0.170537</td>\n",
       "      <td>-0.619156</td>\n",
       "      <td>-0.455680</td>\n",
       "      <td>-0.541879</td>\n",
       "    </tr>\n",
       "    <tr>\n",
       "      <th>17376</th>\n",
       "      <td>1.0</td>\n",
       "      <td>1.0</td>\n",
       "      <td>12.0</td>\n",
       "      <td>21.0</td>\n",
       "      <td>0.0</td>\n",
       "      <td>1.0</td>\n",
       "      <td>1.0</td>\n",
       "      <td>-0.665290</td>\n",
       "      <td>-1.230779</td>\n",
       "      <td>-1.269602</td>\n",
       "      <td>-0.146254</td>\n",
       "      <td>-0.170537</td>\n",
       "      <td>-0.656667</td>\n",
       "      <td>-0.438361</td>\n",
       "      <td>-0.535336</td>\n",
       "    </tr>\n",
       "    <tr>\n",
       "      <th>17377</th>\n",
       "      <td>1.0</td>\n",
       "      <td>1.0</td>\n",
       "      <td>12.0</td>\n",
       "      <td>22.0</td>\n",
       "      <td>0.0</td>\n",
       "      <td>1.0</td>\n",
       "      <td>1.0</td>\n",
       "      <td>-0.665290</td>\n",
       "      <td>-1.230779</td>\n",
       "      <td>-1.181732</td>\n",
       "      <td>-0.354993</td>\n",
       "      <td>-0.440160</td>\n",
       "      <td>-0.431598</td>\n",
       "      <td>-0.741454</td>\n",
       "      <td>-0.725083</td>\n",
       "    </tr>\n",
       "    <tr>\n",
       "      <th>17378</th>\n",
       "      <td>1.0</td>\n",
       "      <td>1.0</td>\n",
       "      <td>12.0</td>\n",
       "      <td>23.0</td>\n",
       "      <td>0.0</td>\n",
       "      <td>1.0</td>\n",
       "      <td>1.0</td>\n",
       "      <td>-0.665290</td>\n",
       "      <td>-1.230779</td>\n",
       "      <td>-1.181732</td>\n",
       "      <td>0.114668</td>\n",
       "      <td>-0.440160</td>\n",
       "      <td>-0.469110</td>\n",
       "      <td>-0.836711</td>\n",
       "      <td>-0.803599</td>\n",
       "    </tr>\n",
       "  </tbody>\n",
       "</table>\n",
       "<p>17379 rows × 15 columns</p>\n",
       "</div>"
      ],
      "text/plain": [
       "       season   yr  mnth    hr  holiday  weekday  workingday  weathersit  \\\n",
       "0         1.0  0.0   1.0   0.0      0.0      6.0         0.0   -0.665290   \n",
       "1         1.0  0.0   1.0   1.0      0.0      6.0         0.0   -0.665290   \n",
       "2         1.0  0.0   1.0   2.0      0.0      6.0         0.0   -0.665290   \n",
       "3         1.0  0.0   1.0   3.0      0.0      6.0         0.0   -0.665290   \n",
       "4         1.0  0.0   1.0   4.0      0.0      6.0         0.0   -0.665290   \n",
       "...       ...  ...   ...   ...      ...      ...         ...         ...   \n",
       "17374     1.0  1.0  12.0  19.0      0.0      1.0         1.0    0.900962   \n",
       "17375     1.0  1.0  12.0  20.0      0.0      1.0         1.0    0.900962   \n",
       "17376     1.0  1.0  12.0  21.0      0.0      1.0         1.0   -0.665290   \n",
       "17377     1.0  1.0  12.0  22.0      0.0      1.0         1.0   -0.665290   \n",
       "17378     1.0  1.0  12.0  23.0      0.0      1.0         1.0   -0.665290   \n",
       "\n",
       "           temp     atemp       hum  windspeed    casual  registered       cnt  \n",
       "0     -1.334648 -1.093281  0.949621  -1.651213 -0.806714   -1.044547 -1.019519  \n",
       "1     -1.438516 -1.181732  0.897437  -1.651213 -0.619156   -0.880010 -0.862487  \n",
       "2     -1.438516 -1.181732  0.897437  -1.651213 -0.731691   -0.923309 -0.914831  \n",
       "3     -1.334648 -1.093281  0.636514  -1.651213 -0.806714   -1.070526 -1.039148  \n",
       "4     -1.334648 -1.093281  0.636514  -1.651213 -0.919249   -1.148464 -1.117665  \n",
       "...         ...       ...       ...        ...       ...         ...       ...  \n",
       "17374 -1.230779 -1.269602 -0.146254  -0.170537 -0.506621   -0.221866 -0.345588  \n",
       "17375 -1.230779 -1.269602 -0.146254  -0.170537 -0.619156   -0.455680 -0.541879  \n",
       "17376 -1.230779 -1.269602 -0.146254  -0.170537 -0.656667   -0.438361 -0.535336  \n",
       "17377 -1.230779 -1.181732 -0.354993  -0.440160 -0.431598   -0.741454 -0.725083  \n",
       "17378 -1.230779 -1.181732  0.114668  -0.440160 -0.469110   -0.836711 -0.803599  \n",
       "\n",
       "[17379 rows x 15 columns]"
      ]
     },
     "execution_count": 153,
     "metadata": {},
     "output_type": "execute_result"
    }
   ],
   "source": [
    "df # normalized and cleaned"
   ]
  },
  {
   "cell_type": "code",
   "execution_count": 154,
   "id": "5b217ef9",
   "metadata": {},
   "outputs": [],
   "source": [
    "# for regression, lets try to choose the most lineary correlated values in our dataset\n",
    "# for tree we dont really care about linearity, hence we can choose all attributes"
   ]
  },
  {
   "cell_type": "code",
   "execution_count": 155,
   "id": "3a9deeaa",
   "metadata": {},
   "outputs": [],
   "source": [
    "data1 = df.loc[:, [\"registered\",\"casual\",\"temp\",\"atemp\",\"hr\",\"hum\", \"cnt\"]]\n",
    "data2 = df.iloc[:, 0:df.shape[1]]"
   ]
  },
  {
   "cell_type": "code",
   "execution_count": 156,
   "id": "64afc28e",
   "metadata": {},
   "outputs": [],
   "source": [
    "# we will search for the optimal hyperparamethrs with our grids\n",
    "\n",
    "\n",
    "param_grid1 = {'regressor__alpha':expon(loc=0, scale=4)}\n",
    "\n",
    "param_grid2 = {'tree__ccp_alpha':expon(loc=0, scale=2)} \n",
    "\n",
    "\n",
    "# for ccp alpha paramter (post pruning), we will use a whole distr, hence it will be randomized search\n"
   ]
  },
  {
   "cell_type": "code",
   "execution_count": 157,
   "id": "f07d307a",
   "metadata": {},
   "outputs": [],
   "source": [
    "\n",
    "\n",
    "pipe1 = Pipeline(steps = [['regressor',Ridge()]])\n",
    "pipe2 = Pipeline(steps = [['tree',tree.DecisionTreeRegressor()]])\n",
    "\n",
    "#initialize our grid searches\n",
    "\n",
    "gs1 = RandomizedSearchCV(estimator= pipe1, param_distributions  = param_grid1, scoring='neg_root_mean_squared_error', cv = 10,random_state=42)\n",
    "gs2 = RandomizedSearchCV(estimator= pipe2, param_distributions  = param_grid2, scoring='neg_root_mean_squared_error', cv = 10, random_state=42)\n"
   ]
  },
  {
   "cell_type": "code",
   "execution_count": 158,
   "id": "de085a5e",
   "metadata": {},
   "outputs": [],
   "source": [
    "X_train1, X_test1, y_train1, y_test1 = train_test_split(data1.iloc[:, 0:data1.shape[1]-1], data1[\"cnt\"], test_size=0.3, random_state=100)\n",
    "X_train2, X_test2, y_train2, y_test2 = train_test_split(data2.iloc[:, 0:data2.shape[1]-1], data2[\"cnt\"], test_size=0.3, random_state=42)"
   ]
  },
  {
   "cell_type": "code",
   "execution_count": 159,
   "id": "baa74e0e",
   "metadata": {},
   "outputs": [],
   "source": [
    "# now, lets finally run the grids on our training sets to fidn optimal hypers (it might take a bit of time to run)"
   ]
  },
  {
   "cell_type": "code",
   "execution_count": 160,
   "id": "5b2eb563",
   "metadata": {},
   "outputs": [],
   "source": [
    "gs1.fit(X_train1,y_train1) #note, this may take some time to run\n",
    "reg_params = gs1.best_params_"
   ]
  },
  {
   "cell_type": "code",
   "execution_count": 161,
   "id": "c790a9dc",
   "metadata": {},
   "outputs": [],
   "source": [
    "gs2.fit(X_train2,y_train2)\n",
    "tree_params = gs2.best_params_"
   ]
  },
  {
   "cell_type": "code",
   "execution_count": 162,
   "id": "6617ee2b",
   "metadata": {},
   "outputs": [
    {
     "data": {
      "text/plain": [
       "{'regressor__alpha': 5.266982774181797}"
      ]
     },
     "execution_count": 162,
     "metadata": {},
     "output_type": "execute_result"
    }
   ],
   "source": [
    "reg_params"
   ]
  },
  {
   "cell_type": "code",
   "execution_count": 163,
   "id": "307e112c",
   "metadata": {},
   "outputs": [
    {
     "data": {
      "text/plain": [
       "{'tree__ccp_alpha': 0.11967753721736135}"
      ]
     },
     "execution_count": 163,
     "metadata": {},
     "output_type": "execute_result"
    }
   ],
   "source": [
    "tree_params"
   ]
  },
  {
   "cell_type": "code",
   "execution_count": 164,
   "id": "558c6eda",
   "metadata": {},
   "outputs": [],
   "source": [
    "# now, we have what we need to train the models! we can use these hypers and adjust our pipelines with them and then train/test the models"
   ]
  },
  {
   "cell_type": "code",
   "execution_count": 165,
   "id": "79dfc4a1",
   "metadata": {},
   "outputs": [],
   "source": [
    "def analyze_class_with_metrics(model,x,y,folds = 10): # display all mettrics for the pipelines\n",
    "    d = x\n",
    "    adj_r_2 = lambda r: 1 - (1-r) * ( len(y) - 1 ) / ( len(y) - d.shape[1] - 1 )\n",
    "    #print(f\"model: {model.steps[-1][0]}\")\n",
    "    scores = cross_val_score(model, d, y,scoring=\"r2\", cv=folds).mean() # use cross valid since our dataset is not that big\n",
    "    scores1 = cross_val_score(model, d, y,scoring=\"neg_mean_squared_error\", cv=folds).mean()\n",
    "    scores2 = cross_val_score(model, d, y,scoring=\"neg_root_mean_squared_error\", cv=folds).mean()\n",
    "    scores3 = adj_r_2(scores)\n",
    "    print(f\"mean r2: {scores}\\nadjusted mean r^2: {scores3}\\nneg mean mse: {scores1}\\nneg mean rmse: {scores2}\")\n",
    "    return "
   ]
  },
  {
   "cell_type": "code",
   "execution_count": 166,
   "id": "2cf12c60",
   "metadata": {},
   "outputs": [],
   "source": [
    "# update the params\n",
    "\n",
    "\n",
    "alpha = reg_params[\"regressor__alpha\"]\n",
    "\n",
    "\n",
    "ccp = tree_params[\"tree__ccp_alpha\"]\n",
    "\n",
    "pipe1 = Pipeline(steps=[['regressor',Ridge(alpha=alpha)]]) \n",
    "pipe2 = Pipeline(steps=[['tree',tree.DecisionTreeRegressor(ccp_alpha=ccp)]])\n",
    "\n",
    "\n",
    "\n"
   ]
  },
  {
   "cell_type": "code",
   "execution_count": 167,
   "id": "df031b6d",
   "metadata": {},
   "outputs": [],
   "source": [
    "# evaluate on the training set"
   ]
  },
  {
   "cell_type": "code",
   "execution_count": 168,
   "id": "9bb9bf73",
   "metadata": {},
   "outputs": [
    {
     "name": "stdout",
     "output_type": "stream",
     "text": [
      "mean r2: 0.8055479889182596\n",
      "adjusted mean r^2: 0.8054520264189595\n",
      "neg mean mse: -0.19681534114354138\n",
      "neg mean rmse: -0.44160535798362527\n"
     ]
    }
   ],
   "source": [
    "analyze_class_with_metrics(pipe1, X_train1, y_train1)"
   ]
  },
  {
   "cell_type": "code",
   "execution_count": 169,
   "id": "26c6e143",
   "metadata": {},
   "outputs": [
    {
     "name": "stdout",
     "output_type": "stream",
     "text": [
      "mean r2: 0.7396327603045538\n",
      "adjusted mean r^2: 0.7393327486703369\n",
      "neg mean mse: -0.26194617530392944\n",
      "neg mean rmse: -0.5110447691347677\n"
     ]
    }
   ],
   "source": [
    "analyze_class_with_metrics(pipe2, X_train2, y_train2)"
   ]
  },
  {
   "cell_type": "code",
   "execution_count": 170,
   "id": "09f1e636",
   "metadata": {},
   "outputs": [],
   "source": [
    "# whats for the test set?"
   ]
  },
  {
   "cell_type": "code",
   "execution_count": 171,
   "id": "e757f978",
   "metadata": {},
   "outputs": [
    {
     "data": {
      "text/plain": [
       "0.7438261816946308"
      ]
     },
     "execution_count": 171,
     "metadata": {},
     "output_type": "execute_result"
    }
   ],
   "source": [
    "\n",
    "pipe2.fit(X_train2,y_train2)\n",
    "hats = pipe2.predict(X_test2)\n",
    "r2_score(y_test2,hats)"
   ]
  },
  {
   "cell_type": "code",
   "execution_count": 172,
   "id": "0b3922f4",
   "metadata": {},
   "outputs": [
    {
     "data": {
      "text/plain": [
       "0.8138637046292505"
      ]
     },
     "execution_count": 172,
     "metadata": {},
     "output_type": "execute_result"
    }
   ],
   "source": [
    "pipe1.fit(X_train1,y_train1)\n",
    "hats = pipe1.predict(X_test1)\n",
    "r2_score(y_test1,hats)"
   ]
  },
  {
   "cell_type": "code",
   "execution_count": null,
   "id": "da185c6e",
   "metadata": {},
   "outputs": [],
   "source": []
  },
  {
   "cell_type": "code",
   "execution_count": 173,
   "id": "e55ef79c",
   "metadata": {},
   "outputs": [
    {
     "name": "stdout",
     "output_type": "stream",
     "text": [
      "mean r2: 0.8692070136261838\n",
      "adjusted mean r^2: 0.8691424669969485\n",
      "neg mean mse: -0.13213135231017376\n",
      "neg mean rmse: -0.3625167273335209\n"
     ]
    }
   ],
   "source": [
    "from sklearn.ensemble import RandomForestRegressor # example of random forest\n",
    "regr = RandomForestRegressor(max_depth=5, random_state=0)\n",
    "analyze_class_with_metrics(regr, X_train1, y_train1)"
   ]
  },
  {
   "cell_type": "code",
   "execution_count": null,
   "id": "7db83740",
   "metadata": {},
   "outputs": [],
   "source": []
  },
  {
   "cell_type": "code",
   "execution_count": 174,
   "id": "915f97f9",
   "metadata": {},
   "outputs": [],
   "source": [
    " preds = pipe1.predict(df[[\"registered\",\"casual\",\"temp\",\"atemp\",\"hr\",\"hum\"]]) # predictions"
   ]
  },
  {
   "cell_type": "code",
   "execution_count": 175,
   "id": "a3120cd8",
   "metadata": {},
   "outputs": [],
   "source": [
    "df[\"prediction\"]= preds"
   ]
  },
  {
   "cell_type": "code",
   "execution_count": 176,
   "id": "5f97b37d",
   "metadata": {},
   "outputs": [
    {
     "data": {
      "text/html": [
       "<div>\n",
       "<style scoped>\n",
       "    .dataframe tbody tr th:only-of-type {\n",
       "        vertical-align: middle;\n",
       "    }\n",
       "\n",
       "    .dataframe tbody tr th {\n",
       "        vertical-align: top;\n",
       "    }\n",
       "\n",
       "    .dataframe thead th {\n",
       "        text-align: right;\n",
       "    }\n",
       "</style>\n",
       "<table border=\"1\" class=\"dataframe\">\n",
       "  <thead>\n",
       "    <tr style=\"text-align: right;\">\n",
       "      <th></th>\n",
       "      <th>season</th>\n",
       "      <th>yr</th>\n",
       "      <th>mnth</th>\n",
       "      <th>hr</th>\n",
       "      <th>holiday</th>\n",
       "      <th>weekday</th>\n",
       "      <th>workingday</th>\n",
       "      <th>weathersit</th>\n",
       "      <th>temp</th>\n",
       "      <th>atemp</th>\n",
       "      <th>hum</th>\n",
       "      <th>windspeed</th>\n",
       "      <th>casual</th>\n",
       "      <th>registered</th>\n",
       "      <th>cnt</th>\n",
       "      <th>prediction</th>\n",
       "    </tr>\n",
       "  </thead>\n",
       "  <tbody>\n",
       "    <tr>\n",
       "      <th>0</th>\n",
       "      <td>1.0</td>\n",
       "      <td>0.0</td>\n",
       "      <td>1.0</td>\n",
       "      <td>0.0</td>\n",
       "      <td>0.0</td>\n",
       "      <td>6.0</td>\n",
       "      <td>0.0</td>\n",
       "      <td>-0.66529</td>\n",
       "      <td>-1.334648</td>\n",
       "      <td>-1.093281</td>\n",
       "      <td>0.949621</td>\n",
       "      <td>-1.651213</td>\n",
       "      <td>-0.806714</td>\n",
       "      <td>-1.044547</td>\n",
       "      <td>-1.019519</td>\n",
       "      <td>-1.077372</td>\n",
       "    </tr>\n",
       "    <tr>\n",
       "      <th>1</th>\n",
       "      <td>1.0</td>\n",
       "      <td>0.0</td>\n",
       "      <td>1.0</td>\n",
       "      <td>1.0</td>\n",
       "      <td>0.0</td>\n",
       "      <td>6.0</td>\n",
       "      <td>0.0</td>\n",
       "      <td>-0.66529</td>\n",
       "      <td>-1.438516</td>\n",
       "      <td>-1.181732</td>\n",
       "      <td>0.897437</td>\n",
       "      <td>-1.651213</td>\n",
       "      <td>-0.619156</td>\n",
       "      <td>-0.880010</td>\n",
       "      <td>-0.862487</td>\n",
       "      <td>-0.929220</td>\n",
       "    </tr>\n",
       "    <tr>\n",
       "      <th>2</th>\n",
       "      <td>1.0</td>\n",
       "      <td>0.0</td>\n",
       "      <td>1.0</td>\n",
       "      <td>2.0</td>\n",
       "      <td>0.0</td>\n",
       "      <td>6.0</td>\n",
       "      <td>0.0</td>\n",
       "      <td>-0.66529</td>\n",
       "      <td>-1.438516</td>\n",
       "      <td>-1.181732</td>\n",
       "      <td>0.897437</td>\n",
       "      <td>-1.651213</td>\n",
       "      <td>-0.731691</td>\n",
       "      <td>-0.923309</td>\n",
       "      <td>-0.914831</td>\n",
       "      <td>-0.971605</td>\n",
       "    </tr>\n",
       "    <tr>\n",
       "      <th>3</th>\n",
       "      <td>1.0</td>\n",
       "      <td>0.0</td>\n",
       "      <td>1.0</td>\n",
       "      <td>3.0</td>\n",
       "      <td>0.0</td>\n",
       "      <td>6.0</td>\n",
       "      <td>0.0</td>\n",
       "      <td>-0.66529</td>\n",
       "      <td>-1.334648</td>\n",
       "      <td>-1.093281</td>\n",
       "      <td>0.636514</td>\n",
       "      <td>-1.651213</td>\n",
       "      <td>-0.806714</td>\n",
       "      <td>-1.070526</td>\n",
       "      <td>-1.039148</td>\n",
       "      <td>-1.073057</td>\n",
       "    </tr>\n",
       "    <tr>\n",
       "      <th>4</th>\n",
       "      <td>1.0</td>\n",
       "      <td>0.0</td>\n",
       "      <td>1.0</td>\n",
       "      <td>4.0</td>\n",
       "      <td>0.0</td>\n",
       "      <td>6.0</td>\n",
       "      <td>0.0</td>\n",
       "      <td>-0.66529</td>\n",
       "      <td>-1.334648</td>\n",
       "      <td>-1.093281</td>\n",
       "      <td>0.636514</td>\n",
       "      <td>-1.651213</td>\n",
       "      <td>-0.919249</td>\n",
       "      <td>-1.148464</td>\n",
       "      <td>-1.117665</td>\n",
       "      <td>-1.142719</td>\n",
       "    </tr>\n",
       "  </tbody>\n",
       "</table>\n",
       "</div>"
      ],
      "text/plain": [
       "   season   yr  mnth   hr  holiday  weekday  workingday  weathersit      temp  \\\n",
       "0     1.0  0.0   1.0  0.0      0.0      6.0         0.0    -0.66529 -1.334648   \n",
       "1     1.0  0.0   1.0  1.0      0.0      6.0         0.0    -0.66529 -1.438516   \n",
       "2     1.0  0.0   1.0  2.0      0.0      6.0         0.0    -0.66529 -1.438516   \n",
       "3     1.0  0.0   1.0  3.0      0.0      6.0         0.0    -0.66529 -1.334648   \n",
       "4     1.0  0.0   1.0  4.0      0.0      6.0         0.0    -0.66529 -1.334648   \n",
       "\n",
       "      atemp       hum  windspeed    casual  registered       cnt  prediction  \n",
       "0 -1.093281  0.949621  -1.651213 -0.806714   -1.044547 -1.019519   -1.077372  \n",
       "1 -1.181732  0.897437  -1.651213 -0.619156   -0.880010 -0.862487   -0.929220  \n",
       "2 -1.181732  0.897437  -1.651213 -0.731691   -0.923309 -0.914831   -0.971605  \n",
       "3 -1.093281  0.636514  -1.651213 -0.806714   -1.070526 -1.039148   -1.073057  \n",
       "4 -1.093281  0.636514  -1.651213 -0.919249   -1.148464 -1.117665   -1.142719  "
      ]
     },
     "execution_count": 176,
     "metadata": {},
     "output_type": "execute_result"
    }
   ],
   "source": [
    "df.head()"
   ]
  },
  {
   "cell_type": "code",
   "execution_count": null,
   "id": "115e7995",
   "metadata": {},
   "outputs": [],
   "source": []
  },
  {
   "cell_type": "code",
   "execution_count": null,
   "id": "ddf74e0e",
   "metadata": {},
   "outputs": [],
   "source": []
  },
  {
   "cell_type": "code",
   "execution_count": null,
   "id": "39595e52",
   "metadata": {},
   "outputs": [],
   "source": []
  }
 ],
 "metadata": {
  "kernelspec": {
   "display_name": "Python 3 (ipykernel)",
   "language": "python",
   "name": "python3"
  },
  "language_info": {
   "codemirror_mode": {
    "name": "ipython",
    "version": 3
   },
   "file_extension": ".py",
   "mimetype": "text/x-python",
   "name": "python",
   "nbconvert_exporter": "python",
   "pygments_lexer": "ipython3",
   "version": "3.9.13"
  }
 },
 "nbformat": 4,
 "nbformat_minor": 5
}
